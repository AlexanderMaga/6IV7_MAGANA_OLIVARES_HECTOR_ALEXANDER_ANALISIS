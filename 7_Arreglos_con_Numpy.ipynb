{
  "cells": [
    {
      "cell_type": "markdown",
      "id": "97440181-c103-476a-92f2-f0f1ecec1172",
      "metadata": {
        "id": "97440181-c103-476a-92f2-f0f1ecec1172"
      },
      "source": [
        "# 7.- Arreglos con NUMPY"
      ]
    },
    {
      "cell_type": "markdown",
      "id": "fcba5f60-4ce2-4b2b-8ab3-896104c16476",
      "metadata": {
        "id": "fcba5f60-4ce2-4b2b-8ab3-896104c16476"
      },
      "source": [
        "En este capítulo aprenderás a utilizar algunas cualidades básicas de NumPy (Numerical Python).\n",
        "NumPy es una de las librerías más populares de Python, ya que puede procesar listas de múltiples\n",
        "dimensiones"
      ]
    },
    {
      "cell_type": "markdown",
      "id": "bff5b478-ff7c-49cd-bc26-438dafb70e07",
      "metadata": {
        "id": "bff5b478-ff7c-49cd-bc26-438dafb70e07"
      },
      "source": [
        "## 7.2.- Arreglo de Datos"
      ]
    },
    {
      "cell_type": "markdown",
      "id": "c7835682-242d-40e4-9908-daf68081945b",
      "metadata": {
        "id": "c7835682-242d-40e4-9908-daf68081945b"
      },
      "source": [
        "Como en la sección anterior, invocaremos a la librería NumPy como np"
      ]
    },
    {
      "cell_type": "code",
      "execution_count": 1,
      "id": "2cde2abf-8d84-467b-b59d-d8866870e94f",
      "metadata": {
        "id": "2cde2abf-8d84-467b-b59d-d8866870e94f"
      },
      "outputs": [],
      "source": [
        "import numpy as np\n"
      ]
    },
    {
      "cell_type": "markdown",
      "id": "642ae354-9ae2-40e0-acdc-45566af97cb4",
      "metadata": {
        "id": "642ae354-9ae2-40e0-acdc-45566af97cb4"
      },
      "source": [
        "Armemos un arreglo de todos los factoriales del 1 al 6"
      ]
    },
    {
      "cell_type": "code",
      "execution_count": 2,
      "id": "b4d6af33-6688-4dd8-9970-0a2e06491112",
      "metadata": {
        "colab": {
          "base_uri": "https://localhost:8080/"
        },
        "id": "b4d6af33-6688-4dd8-9970-0a2e06491112",
        "outputId": "8a6f90c0-ac27-4241-e328-5b4e31f9acc8"
      },
      "outputs": [
        {
          "output_type": "stream",
          "name": "stdout",
          "text": [
            "[  1   2   6  24 120 720]\n"
          ]
        },
        {
          "output_type": "stream",
          "name": "stderr",
          "text": [
            "<ipython-input-2-ed47eee7ba3b>:3: DeprecationWarning: `np.math` is a deprecated alias for the standard library `math` module (Deprecated Numpy 1.25). Replace usages of `np.math` with `math`\n",
            "  factoriales = np.array([np.math.factorial(i) for i in range(1, 7)])\n"
          ]
        }
      ],
      "source": [
        "import numpy as np\n",
        "\n",
        "factoriales = np.array([np.math.factorial(i) for i in range(1, 7)])\n",
        "print(factoriales)\n"
      ]
    },
    {
      "cell_type": "markdown",
      "id": "3e0a5ef0-5ffe-4591-968e-ca4346c7ea9d",
      "metadata": {
        "id": "3e0a5ef0-5ffe-4591-968e-ca4346c7ea9d"
      },
      "source": [
        "Verifica el tipo de objeto que generamos"
      ]
    },
    {
      "cell_type": "code",
      "execution_count": 3,
      "id": "9f0bcf80-e875-43f6-8768-a710cc9348c7",
      "metadata": {
        "colab": {
          "base_uri": "https://localhost:8080/"
        },
        "id": "9f0bcf80-e875-43f6-8768-a710cc9348c7",
        "outputId": "f40cce68-d725-4748-b249-0eaea99c598f"
      },
      "outputs": [
        {
          "output_type": "stream",
          "name": "stdout",
          "text": [
            "<class 'numpy.ndarray'>\n"
          ]
        }
      ],
      "source": [
        "print(type(factoriales))\n"
      ]
    },
    {
      "cell_type": "markdown",
      "id": "735ed935-98ff-4e17-9088-0c9dec7cb593",
      "metadata": {
        "id": "735ed935-98ff-4e17-9088-0c9dec7cb593"
      },
      "source": [
        "La función array copia automáticamente las dimensiones del argumento. Por ejemplo, el siguiente arreglo (array) está formado por tres filas y dos columnas."
      ]
    },
    {
      "cell_type": "code",
      "execution_count": 8,
      "id": "be75e011-3b03-44a4-9e6c-cad9c045bca4",
      "metadata": {
        "colab": {
          "base_uri": "https://localhost:8080/"
        },
        "id": "be75e011-3b03-44a4-9e6c-cad9c045bca4",
        "outputId": "edbf2cf1-6629-41ee-95c5-0afae50d6818"
      },
      "outputs": [
        {
          "output_type": "stream",
          "name": "stdout",
          "text": [
            "[[1 2]\n",
            " [3 4]\n",
            " [5 6]]\n",
            "Forma del arreglo: (3, 2)\n"
          ]
        }
      ],
      "source": [
        "import numpy as np\n",
        "\n",
        "arreglo = np.array([[1, 2],\n",
        "                    [3, 4],\n",
        "                    [5, 6]])\n",
        "\n",
        "print(arreglo)\n",
        "print(\"Forma del arreglo:\", arreglo.shape)  # Verifica las dimensiones\n"
      ]
    },
    {
      "cell_type": "markdown",
      "id": "22058497-7040-44fe-97a8-247f62a52d3f",
      "metadata": {
        "id": "22058497-7040-44fe-97a8-247f62a52d3f"
      },
      "source": [
        "#### Por tu cuenta\n",
        "\n",
        "Arma un arreglo de una dimensión desde una compresnidón de lista que produce todos los números nones del 1 al 30"
      ]
    },
    {
      "cell_type": "code",
      "execution_count": 4,
      "id": "361d9943-b067-4a77-8ffa-99ac2297267f",
      "metadata": {
        "colab": {
          "base_uri": "https://localhost:8080/"
        },
        "id": "361d9943-b067-4a77-8ffa-99ac2297267f",
        "outputId": "e9e35d21-3515-4bbd-d770-19b6a3c955d8"
      },
      "outputs": [
        {
          "output_type": "stream",
          "name": "stdout",
          "text": [
            "[ 1  3  5  7  9 11 13 15 17 19 21 23 25 27 29]\n"
          ]
        }
      ],
      "source": [
        "import numpy as np\n",
        "\n",
        "nones = np.array([i for i in range(1, 31) if i % 2 != 0])\n",
        "print(nones)\n"
      ]
    },
    {
      "cell_type": "markdown",
      "id": "91b4e247-d7c9-473a-a77a-45890ae5877d",
      "metadata": {
        "id": "91b4e247-d7c9-473a-a77a-45890ae5877d"
      },
      "source": [
        "### 7.2.2 - Atributos de Arreglos"
      ]
    },
    {
      "cell_type": "markdown",
      "id": "585c03f9-c00a-4dbf-bf10-0073ef735d74",
      "metadata": {
        "id": "585c03f9-c00a-4dbf-bf10-0073ef735d74"
      },
      "source": [
        "En esta sección usaremos los siguientes 2 arreglos\n",
        "\n",
        "enteros = np.array([[9,10,11,12],[8,7,6,5]])\n",
        "\n",
        "flotantes=np.array([[9**(1/2),10**(1/2),3.33,],[10/3,3.4,3.03]])"
      ]
    },
    {
      "cell_type": "code",
      "execution_count": 10,
      "id": "4c3638cb-f453-45fd-a7f2-d2498c6a45df",
      "metadata": {
        "colab": {
          "base_uri": "https://localhost:8080/"
        },
        "id": "4c3638cb-f453-45fd-a7f2-d2498c6a45df",
        "outputId": "8a80e972-942a-4528-9e29-67ca9d32b515"
      },
      "outputs": [
        {
          "output_type": "stream",
          "name": "stdout",
          "text": [
            "Arreglo de enteros:\n",
            " [[ 9 10 11 12]\n",
            " [ 8  7  6  5]]\n"
          ]
        }
      ],
      "source": [
        "enteros = np.array([[9, 10, 11, 12], [8, 7, 6, 5]])\n",
        "print(\"Arreglo de enteros:\\n\", enteros)"
      ]
    },
    {
      "cell_type": "code",
      "execution_count": 9,
      "id": "f251b26b-e5b1-4899-b2f7-a123d0aa0343",
      "metadata": {
        "colab": {
          "base_uri": "https://localhost:8080/"
        },
        "id": "f251b26b-e5b1-4899-b2f7-a123d0aa0343",
        "outputId": "5e37db3e-017c-442b-a6d4-d87652e4856c"
      },
      "outputs": [
        {
          "output_type": "stream",
          "name": "stdout",
          "text": [
            "Arreglo de flotantes:\n",
            " [[4.5        5.         3.33      ]\n",
            " [3.33333333 3.4        3.03      ]]\n"
          ]
        }
      ],
      "source": [
        "flotantes = np.array([[9/2, 10/2, 3.33], [10/3, 3.4, 3.03]])\n",
        "print(\"Arreglo de flotantes:\\n\", flotantes)"
      ]
    },
    {
      "cell_type": "markdown",
      "id": "25723a8f-407c-4e96-b3fc-1a3599a235d2",
      "metadata": {
        "id": "25723a8f-407c-4e96-b3fc-1a3599a235d2"
      },
      "source": [
        "Checa el tipo de elemento con dtype"
      ]
    },
    {
      "cell_type": "code",
      "execution_count": 7,
      "id": "16a77235-c2b1-481d-83d0-868b5ae497c6",
      "metadata": {
        "colab": {
          "base_uri": "https://localhost:8080/"
        },
        "id": "16a77235-c2b1-481d-83d0-868b5ae497c6",
        "outputId": "db43efbf-1cdd-43ad-a4f0-f79024752ded"
      },
      "outputs": [
        {
          "output_type": "stream",
          "name": "stdout",
          "text": [
            "Tipo de datos en 'enteros': int64\n"
          ]
        }
      ],
      "source": [
        "print(\"Tipo de datos en 'enteros':\", enteros.dtype)"
      ]
    },
    {
      "cell_type": "code",
      "execution_count": 6,
      "id": "178aec35-04c4-4ee6-aede-9e7e8040ec72",
      "metadata": {
        "colab": {
          "base_uri": "https://localhost:8080/"
        },
        "id": "178aec35-04c4-4ee6-aede-9e7e8040ec72",
        "outputId": "7adc7af7-8f41-46db-f452-1c695e16c622"
      },
      "outputs": [
        {
          "output_type": "stream",
          "name": "stdout",
          "text": [
            "Tipo de datos en 'flotantes': float64\n"
          ]
        }
      ],
      "source": [
        "print(\"Tipo de datos en 'flotantes':\", flotantes.dtype)"
      ]
    },
    {
      "cell_type": "markdown",
      "id": "2877de72-2877-4d1b-a890-9eb4bb383b41",
      "metadata": {
        "id": "2877de72-2877-4d1b-a890-9eb4bb383b41"
      },
      "source": [
        "Revisa que puedes ver dimensione con ndim y forma con shape del arreglo"
      ]
    },
    {
      "cell_type": "code",
      "execution_count": 11,
      "id": "fc0831b6-2514-4266-a070-fabf58ba64da",
      "metadata": {
        "colab": {
          "base_uri": "https://localhost:8080/"
        },
        "id": "fc0831b6-2514-4266-a070-fabf58ba64da",
        "outputId": "1eff7601-61a2-4a76-e427-da767e76c44a"
      },
      "outputs": [
        {
          "output_type": "stream",
          "name": "stdout",
          "text": [
            "Arreglo:\n",
            "[[1 2]\n",
            " [3 4]\n",
            " [5 6]]\n",
            "\n",
            "Número de dimensiones (ndim): 2\n",
            "Forma del arreglo (shape): (3, 2)\n"
          ]
        }
      ],
      "source": [
        "import numpy as np\n",
        "\n",
        "arreglo = np.array([[1, 2],\n",
        "                    [3, 4],\n",
        "                    [5, 6]])\n",
        "\n",
        "print(\"Arreglo:\")\n",
        "print(arreglo)\n",
        "\n",
        "print(\"\\nNúmero de dimensiones (ndim):\", arreglo.ndim)\n",
        "print(\"Forma del arreglo (shape):\", arreglo.shape)"
      ]
    },
    {
      "cell_type": "code",
      "execution_count": null,
      "id": "9bf00a06-b6ca-4e4b-acfd-c6aa2e1f7056",
      "metadata": {
        "id": "9bf00a06-b6ca-4e4b-acfd-c6aa2e1f7056"
      },
      "outputs": [],
      "source": []
    },
    {
      "cell_type": "markdown",
      "id": "304c7d0b-d297-4a95-acc1-4d65e136a123",
      "metadata": {
        "id": "304c7d0b-d297-4a95-acc1-4d65e136a123"
      },
      "source": [
        "Size y itemsize te permite conocer el numero de elemntos y de bytes para almacenar"
      ]
    },
    {
      "cell_type": "code",
      "execution_count": 13,
      "id": "31222166-9d8a-4f67-b823-79ae42350f17",
      "metadata": {
        "colab": {
          "base_uri": "https://localhost:8080/"
        },
        "id": "31222166-9d8a-4f67-b823-79ae42350f17",
        "outputId": "9ddd4f50-e5a1-42e0-a302-45f2c0e2ec43"
      },
      "outputs": [
        {
          "output_type": "stream",
          "name": "stdout",
          "text": [
            "Arreglo:\n",
            "[[1 2]\n",
            " [3 4]\n",
            " [5 6]]\n",
            "\n",
            "Número total de elementos (size): 6\n",
            "Tamaño en bytes por elemento (itemsize): 8\n",
            "Tamaño total en memoria (nbytes): 48\n"
          ]
        }
      ],
      "source": [
        "import numpy as np\n",
        "\n",
        "arreglo = np.array([[1, 2],\n",
        "                    [3, 4],\n",
        "                    [5, 6]])\n",
        "\n",
        "print(\"Arreglo:\")\n",
        "print(arreglo)\n",
        "\n",
        "print(\"\\nNúmero total de elementos (size):\", arreglo.size)\n",
        "\n",
        "print(\"Tamaño en bytes por elemento (itemsize):\", arreglo.itemsize)\n",
        "print(\"Tamaño total en memoria (nbytes):\", arreglo.nbytes)\n"
      ]
    },
    {
      "cell_type": "markdown",
      "id": "77944a1b-3dfc-418f-895b-9f60ed6d2639",
      "metadata": {
        "id": "77944a1b-3dfc-418f-895b-9f60ed6d2639"
      },
      "source": [
        "Se puede iterar facilmente a través de un arreglo"
      ]
    },
    {
      "cell_type": "code",
      "execution_count": 14,
      "id": "90e1bada-72bd-4fb3-a539-0f40aa3734a3",
      "metadata": {
        "colab": {
          "base_uri": "https://localhost:8080/"
        },
        "id": "90e1bada-72bd-4fb3-a539-0f40aa3734a3",
        "outputId": "12960855-bcb3-4023-944b-7f82d8d38fa8"
      },
      "outputs": [
        {
          "output_type": "stream",
          "name": "stdout",
          "text": [
            "1 2 3 4 5 6 "
          ]
        }
      ],
      "source": [
        "import numpy as np\n",
        "\n",
        "arreglo = np.array([[1, 2],\n",
        "                    [3, 4],\n",
        "                    [5, 6]])\n",
        "\n",
        "for fila in arreglo:\n",
        "    for elemento in fila:\n",
        "        print(elemento, end=\" \")\n",
        ""
      ]
    },
    {
      "cell_type": "markdown",
      "id": "142d034c-3e20-4b20-ba51-6000becb42f5",
      "metadata": {
        "id": "142d034c-3e20-4b20-ba51-6000becb42f5"
      },
      "source": [
        "#### Por tu cuenta\n",
        "\n",
        "Para el arreglo que armaste en el \"Por tu cuenta\" previo, checa el numero de dmiensiones y forma del arreglo"
      ]
    },
    {
      "cell_type": "code",
      "execution_count": 15,
      "id": "992b5cc8-7814-41d3-8d20-138b12f9b93e",
      "metadata": {
        "colab": {
          "base_uri": "https://localhost:8080/"
        },
        "id": "992b5cc8-7814-41d3-8d20-138b12f9b93e",
        "outputId": "66d744a2-51f9-4d19-b373-f5a775ed0d2b"
      },
      "outputs": [
        {
          "output_type": "stream",
          "name": "stdout",
          "text": [
            "Número de dimensiones (ndim): 1\n",
            "Forma del arreglo (shape): (15,)\n"
          ]
        }
      ],
      "source": [
        "import numpy as np\n",
        "\n",
        "nones = np.array([i for i in range(1, 31) if i % 2 != 0])\n",
        "\n",
        "print(\"Número de dimensiones (ndim):\", nones.ndim)\n",
        "print(\"Forma del arreglo (shape):\", nones.shape)\n"
      ]
    },
    {
      "cell_type": "markdown",
      "id": "6c576a2d-67d9-4a39-a251-bf1cb325bc61",
      "metadata": {
        "id": "6c576a2d-67d9-4a39-a251-bf1cb325bc61"
      },
      "source": [
        "### 7.2.3 - Creando Arreglos desde Rangos"
      ]
    },
    {
      "cell_type": "markdown",
      "id": "8ecb1f66-72c9-4d1d-8332-0670ff49049b",
      "metadata": {
        "id": "8ecb1f66-72c9-4d1d-8332-0670ff49049b"
      },
      "source": [
        "La función arange (una sola R!!!!) nos permite crear rangos de enteros. Crea:\n",
        "\n",
        "- Un arreglo del 0 al 7\n",
        "- Un arreglo del 3 al 7\n",
        "- Un arreglo del 12 al 2 en pasos de 3 en 3 (si, en orden inverso)"
      ]
    },
    {
      "cell_type": "code",
      "execution_count": 16,
      "id": "398b8572-3b35-4a9b-b3d2-df69be4b8c62",
      "metadata": {
        "colab": {
          "base_uri": "https://localhost:8080/"
        },
        "id": "398b8572-3b35-4a9b-b3d2-df69be4b8c62",
        "outputId": "9114583c-088d-4fbb-d373-672a01d4ff8f"
      },
      "outputs": [
        {
          "output_type": "stream",
          "name": "stdout",
          "text": [
            "Arreglo del 0 al 7: [0 1 2 3 4 5 6 7]\n",
            "Arreglo del 3 al 7: [3 4 5 6 7]\n",
            "Arreglo del 12 al 2 en pasos de -3: [12  9  6  3]\n"
          ]
        }
      ],
      "source": [
        "import numpy as np\n",
        "\n",
        "arr1 = np.arange(0, 8)\n",
        "arr2 = np.arange(3, 8)\n",
        "arr3 = np.arange(12, 1, -3)\n",
        "\n",
        "print(\"Arreglo del 0 al 7:\", arr1)\n",
        "print(\"Arreglo del 3 al 7:\", arr2)\n",
        "print(\"Arreglo del 12 al 2 en pasos de -3:\", arr3)\n"
      ]
    },
    {
      "cell_type": "markdown",
      "id": "8c3940c8-1c11-4224-bc25-7739b60e3256",
      "metadata": {
        "id": "8c3940c8-1c11-4224-bc25-7739b60e3256"
      },
      "source": [
        "Tambien se pueden usar tamaños de paso no enteros. Crea un arreglo con linspace de 0 al 1 que vaya de .25 en .25"
      ]
    },
    {
      "cell_type": "code",
      "execution_count": 17,
      "id": "b532a32c-f674-48f8-bb15-9ebb58120172",
      "metadata": {
        "colab": {
          "base_uri": "https://localhost:8080/"
        },
        "id": "b532a32c-f674-48f8-bb15-9ebb58120172",
        "outputId": "918708ef-cac8-4feb-9331-3a792e13f041"
      },
      "outputs": [
        {
          "output_type": "stream",
          "name": "stdout",
          "text": [
            "Arreglo con linspace de 0 a 1 con paso de 0.25: [0.   0.25 0.5  0.75 1.  ]\n"
          ]
        }
      ],
      "source": [
        "import numpy as np\n",
        "\n",
        "arr = np.linspace(0, 1, num=5)\n",
        "\n",
        "print(\"Arreglo con linspace de 0 a 1 con paso de 0.25:\", arr)"
      ]
    },
    {
      "cell_type": "markdown",
      "id": "ca52697a-dd29-4a72-ab8c-2e1d2b7df73a",
      "metadata": {
        "id": "ca52697a-dd29-4a72-ab8c-2e1d2b7df73a"
      },
      "source": [
        "Y se puede cambiar la forma del arreglo con reshape. Crea un arreglo con arange que vaya del 21 al 1 en orden inverso, y luego dale forma de matriz de 4x5"
      ]
    },
    {
      "cell_type": "code",
      "execution_count": 23,
      "id": "82dd73a2-4e8e-4dd8-a3c3-9132dc655b22",
      "metadata": {
        "colab": {
          "base_uri": "https://localhost:8080/"
        },
        "id": "82dd73a2-4e8e-4dd8-a3c3-9132dc655b22",
        "outputId": "648a3eb9-0ade-4283-a046-cf1c63f56d64"
      },
      "outputs": [
        {
          "output_type": "stream",
          "name": "stdout",
          "text": [
            "[[20 19 18 17 16]\n",
            " [15 14 13 12 11]\n",
            " [10  9  8  7  6]\n",
            " [ 5  4  3  2  1]]\n"
          ]
        }
      ],
      "source": [
        "import numpy as np\n",
        "\n",
        "arr1 = np.arange(20, 0, -1).reshape(4, 5)\n",
        "print(arr1)\n",
        "\n"
      ]
    },
    {
      "cell_type": "markdown",
      "id": "1e3f03c1-f451-4dca-9320-1d5846b18995",
      "metadata": {
        "id": "1e3f03c1-f451-4dca-9320-1d5846b18995"
      },
      "source": [
        "Checate que si el arreglo tiene 1000 o más elementos, numpy no muestra la totalidad de los datos. Generaun arreglo de 0 a 9999 y dale forma de 5 x 2000"
      ]
    },
    {
      "cell_type": "code",
      "execution_count": 24,
      "id": "b6948944-d77f-440d-a781-30fb1cf26565",
      "metadata": {
        "colab": {
          "base_uri": "https://localhost:8080/"
        },
        "id": "b6948944-d77f-440d-a781-30fb1cf26565",
        "outputId": "3a752328-7024-4624-a77a-25e0ccf4753a"
      },
      "outputs": [
        {
          "output_type": "stream",
          "name": "stdout",
          "text": [
            "[[   0    1    2 ... 1997 1998 1999]\n",
            " [2000 2001 2002 ... 3997 3998 3999]\n",
            " [4000 4001 4002 ... 5997 5998 5999]\n",
            " [6000 6001 6002 ... 7997 7998 7999]\n",
            " [8000 8001 8002 ... 9997 9998 9999]]\n"
          ]
        }
      ],
      "source": [
        "arr2 = np.arange(10000).reshape(5, 2000)\n",
        "print(arr2)"
      ]
    },
    {
      "cell_type": "markdown",
      "id": "965587b4-2bd7-4b09-99d4-e1f26fc2d99e",
      "metadata": {
        "id": "965587b4-2bd7-4b09-99d4-e1f26fc2d99e"
      },
      "source": [
        "#### Por tu cuenta\n",
        "\n",
        "Usa la función arange para crear una rreglo de 20 enteros pares del 42 al 80, y luego rearmalo en una matriz de 4x5"
      ]
    },
    {
      "cell_type": "code",
      "execution_count": 25,
      "id": "8a01c49c-d067-4e8e-aade-42784ffc2340",
      "metadata": {
        "colab": {
          "base_uri": "https://localhost:8080/"
        },
        "id": "8a01c49c-d067-4e8e-aade-42784ffc2340",
        "outputId": "d9358a8d-929b-4d24-c8b7-aa2aad2d1d89"
      },
      "outputs": [
        {
          "output_type": "stream",
          "name": "stdout",
          "text": [
            "[[42 44 46 48 50]\n",
            " [52 54 56 58 60]\n",
            " [62 64 66 68 70]\n",
            " [72 74 76 78 80]]\n"
          ]
        }
      ],
      "source": [
        "import numpy as np\n",
        "\n",
        "arr3 = np.arange(42, 82, 2).reshape(4, 5)\n",
        "print(arr3)"
      ]
    },
    {
      "cell_type": "markdown",
      "id": "85ffe47c-dc04-4458-befc-8a7785b2da5b",
      "metadata": {
        "id": "85ffe47c-dc04-4458-befc-8a7785b2da5b"
      },
      "source": [
        "### 7.2.4 - ¿Que tan más rapido es un arreglo?"
      ]
    },
    {
      "cell_type": "markdown",
      "id": "3dbffa17-9288-473d-b503-c25bb402a7be",
      "metadata": {
        "id": "3dbffa17-9288-473d-b503-c25bb402a7be"
      },
      "source": [
        "Usa la magia %timeit y la librería random para crear una comprensión de lista que simule un tiro de dao 6000000 de veces y medir su tiempo"
      ]
    },
    {
      "cell_type": "code",
      "execution_count": 26,
      "id": "bd3bd30e-876d-4935-8c75-214fe973d19f",
      "metadata": {
        "colab": {
          "base_uri": "https://localhost:8080/"
        },
        "id": "bd3bd30e-876d-4935-8c75-214fe973d19f",
        "outputId": "8b25ae61-329a-4083-8005-a3b12cf18941"
      },
      "outputs": [
        {
          "output_type": "stream",
          "name": "stdout",
          "text": [
            "2.94 s ± 257 ms per loop (mean ± std. dev. of 7 runs, 1 loop each)\n"
          ]
        }
      ],
      "source": [
        "import numpy as np\n",
        "import random\n",
        "\n",
        "%timeit [random.randint(1, 6) for _ in range(6000000)]"
      ]
    },
    {
      "cell_type": "code",
      "execution_count": 27,
      "id": "4a0215ff-a5b2-4638-b4ae-22f48066cbc3",
      "metadata": {
        "colab": {
          "base_uri": "https://localhost:8080/"
        },
        "id": "4a0215ff-a5b2-4638-b4ae-22f48066cbc3",
        "outputId": "eb28356b-87e5-4bef-b57f-27854e154b11"
      },
      "outputs": [
        {
          "output_type": "stream",
          "name": "stdout",
          "text": [
            "75.7 ms ± 3.16 ms per loop (mean ± std. dev. of 7 runs, 10 loops each)\n"
          ]
        }
      ],
      "source": [
        "import numpy as np\n",
        "import random\n",
        "\n",
        "%timeit np.random.randint(1, 7, size=6000000)"
      ]
    },
    {
      "cell_type": "markdown",
      "id": "9722dcf5-f8f6-4b28-8891-fadbd3877ab3",
      "metadata": {
        "tags": [],
        "id": "9722dcf5-f8f6-4b28-8891-fadbd3877ab3"
      },
      "source": [
        "Ahora usa %timeit para medir el tiempo de un tiro de dado 6000000 de veces pero hecho con arreglo"
      ]
    },
    {
      "cell_type": "code",
      "execution_count": 28,
      "id": "34fd2bed-c4cc-4cf7-96ef-9f0b505f957f",
      "metadata": {
        "colab": {
          "base_uri": "https://localhost:8080/"
        },
        "id": "34fd2bed-c4cc-4cf7-96ef-9f0b505f957f",
        "outputId": "56a597b5-1dcc-48e0-ce5d-f37ce32de7c5"
      },
      "outputs": [
        {
          "output_type": "stream",
          "name": "stdout",
          "text": [
            "67.5 µs ± 876 ns per loop (mean ± std. dev. of 7 runs, 10000 loops each)\n"
          ]
        }
      ],
      "source": [
        "import numpy as np\n",
        "import random\n",
        "\n",
        "lista = list(range(10000))\n",
        "%timeit sum(lista)"
      ]
    },
    {
      "cell_type": "markdown",
      "id": "eee97850-27e6-4a96-8429-9aed475b904a",
      "metadata": {
        "id": "eee97850-27e6-4a96-8429-9aed475b904a"
      },
      "source": [
        "#### Por tu cuenta\n",
        "\n",
        "Usa %timeit para ver que es mas rapido - una lista que sume todos los enteros del 0 al 9 999 999 o un arreglo que haga lo mismo con el metodo sum"
      ]
    },
    {
      "cell_type": "code",
      "execution_count": 29,
      "id": "a6e227ad-e538-42a0-839a-ce702f63fddb",
      "metadata": {
        "colab": {
          "base_uri": "https://localhost:8080/"
        },
        "id": "a6e227ad-e538-42a0-839a-ce702f63fddb",
        "outputId": "15f9813a-d2ab-46e8-b2a6-5edf43db915d"
      },
      "outputs": [
        {
          "output_type": "stream",
          "name": "stdout",
          "text": [
            "4.06 µs ± 125 ns per loop (mean ± std. dev. of 7 runs, 100000 loops each)\n"
          ]
        }
      ],
      "source": [
        "import numpy as np\n",
        "import random\n",
        "\n",
        "arr = np.arange(10000)\n",
        "%timeit arr.sum()"
      ]
    },
    {
      "cell_type": "markdown",
      "id": "cafa5e49-63a5-4719-b986-b9c05504efae",
      "metadata": {
        "id": "cafa5e49-63a5-4719-b986-b9c05504efae"
      },
      "source": [
        "## 7.3.- Operaciones con Arreglos"
      ]
    },
    {
      "cell_type": "markdown",
      "id": "4af27e94-54ba-4f6d-9d33-e95cbe99ada3",
      "metadata": {
        "id": "4af27e94-54ba-4f6d-9d33-e95cbe99ada3"
      },
      "source": [
        "Arma un arreglo de todos los pares del 2 al 15.\n",
        "\n",
        "- Sumale 1 al arreglo\n",
        "- Multiplicalo por 3\n",
        "- Sacale raiz cuadrada"
      ]
    },
    {
      "cell_type": "code",
      "execution_count": 31,
      "id": "d9d83ede-2f50-4336-aae2-95c0343fad8e",
      "metadata": {
        "id": "d9d83ede-2f50-4336-aae2-95c0343fad8e"
      },
      "outputs": [],
      "source": [
        "import numpy as np\n",
        "\n",
        "arr = np.arange(2, 16, 2)"
      ]
    },
    {
      "cell_type": "code",
      "execution_count": 32,
      "id": "6c1f412b-b92a-4c19-bb65-1296b497edef",
      "metadata": {
        "colab": {
          "base_uri": "https://localhost:8080/"
        },
        "id": "6c1f412b-b92a-4c19-bb65-1296b497edef",
        "outputId": "fff2bed9-f044-43e5-9fc4-a3717ac20015"
      },
      "outputs": [
        {
          "output_type": "stream",
          "name": "stdout",
          "text": [
            "[ 3  5  7  9 11 13 15]\n"
          ]
        }
      ],
      "source": [
        "arr = (arr + 1)\n",
        "print(arr)"
      ]
    },
    {
      "cell_type": "code",
      "execution_count": 33,
      "id": "09baa0f6-b9ea-42a3-958c-b5303f808258",
      "metadata": {
        "colab": {
          "base_uri": "https://localhost:8080/"
        },
        "id": "09baa0f6-b9ea-42a3-958c-b5303f808258",
        "outputId": "87075674-61ee-4ff7-a771-acfd4623b57b"
      },
      "outputs": [
        {
          "output_type": "stream",
          "name": "stdout",
          "text": [
            "[12 18 24 30 36 42 48]\n"
          ]
        }
      ],
      "source": [
        "arr = (arr + 1) * 3\n",
        "print(arr)"
      ]
    },
    {
      "cell_type": "code",
      "execution_count": 34,
      "id": "e32ebd73-e7cf-4ba6-bd42-a3be47dc11aa",
      "metadata": {
        "colab": {
          "base_uri": "https://localhost:8080/"
        },
        "id": "e32ebd73-e7cf-4ba6-bd42-a3be47dc11aa",
        "outputId": "234a1687-c42e-4d14-fbc3-b71b6509f1e2"
      },
      "outputs": [
        {
          "output_type": "stream",
          "name": "stdout",
          "text": [
            "[3.46410162 4.24264069 4.89897949 5.47722558 6.         6.4807407\n",
            " 6.92820323]\n"
          ]
        }
      ],
      "source": [
        "arr = np.sqrt(arr)\n",
        "print(arr)"
      ]
    },
    {
      "cell_type": "markdown",
      "id": "2695f776-821c-4f8b-9f05-2d0e9b354b47",
      "metadata": {
        "id": "2695f776-821c-4f8b-9f05-2d0e9b354b47"
      },
      "source": [
        "Al mismo arreglo, aplicale un +=10"
      ]
    },
    {
      "cell_type": "code",
      "execution_count": 35,
      "id": "d4992259-1122-4944-a0d6-374d0575804d",
      "metadata": {
        "id": "d4992259-1122-4944-a0d6-374d0575804d"
      },
      "outputs": [],
      "source": [
        "arr += 10\n"
      ]
    },
    {
      "cell_type": "code",
      "execution_count": 36,
      "id": "3a8503c2-a40c-4072-aa2f-d4b294473be8",
      "metadata": {
        "colab": {
          "base_uri": "https://localhost:8080/"
        },
        "id": "3a8503c2-a40c-4072-aa2f-d4b294473be8",
        "outputId": "0922d6dd-aa76-4ac5-f58d-ad7f0e3d7f05"
      },
      "outputs": [
        {
          "output_type": "stream",
          "name": "stdout",
          "text": [
            "[13.46410162 14.24264069 14.89897949 15.47722558 16.         16.4807407\n",
            " 16.92820323]\n"
          ]
        }
      ],
      "source": [
        "print(arr)"
      ]
    },
    {
      "cell_type": "markdown",
      "id": "b22e54c6-c577-4ac8-aa03-ba0bcac2d3fc",
      "metadata": {
        "id": "b22e54c6-c577-4ac8-aa03-ba0bcac2d3fc"
      },
      "source": [
        "Arma un arreglo (lista1) que vaya del 2 al 18 de 3 en 3, y otro arreglo (lista2) usando linspace que vaya del -2 al 20 dividido en 6 numeros\n",
        "\n",
        "- Resta lista1 de lista2\n",
        "- divide lista2 entre lista1"
      ]
    },
    {
      "cell_type": "code",
      "execution_count": 37,
      "id": "18e9cece-f0e9-4f9a-add7-f4c826b504a3",
      "metadata": {
        "id": "18e9cece-f0e9-4f9a-add7-f4c826b504a3"
      },
      "outputs": [],
      "source": [
        "lista1 = np.arange(2, 19, 3)"
      ]
    },
    {
      "cell_type": "code",
      "execution_count": 38,
      "id": "ac48faaf-cfa5-48cf-b223-9a5b5bc97fc6",
      "metadata": {
        "id": "ac48faaf-cfa5-48cf-b223-9a5b5bc97fc6"
      },
      "outputs": [],
      "source": [
        "lista2 = np.linspace(-2, 20, 6)"
      ]
    },
    {
      "cell_type": "code",
      "execution_count": 39,
      "id": "403522d1-cea2-4ed9-8f88-29630cb62ca8",
      "metadata": {
        "colab": {
          "base_uri": "https://localhost:8080/"
        },
        "id": "403522d1-cea2-4ed9-8f88-29630cb62ca8",
        "outputId": "f2ac6bce-b0d7-4f26-de60-89c1dede433a"
      },
      "outputs": [
        {
          "output_type": "stream",
          "name": "stdout",
          "text": [
            "Resta: [-4.  -2.6 -1.2  0.2  1.6  3. ]\n"
          ]
        }
      ],
      "source": [
        "resta = lista2 - lista1\n",
        "print(\"Resta:\", resta)"
      ]
    },
    {
      "cell_type": "code",
      "execution_count": 40,
      "id": "815a3c1f-ed34-4370-a018-57ed09be051f",
      "metadata": {
        "colab": {
          "base_uri": "https://localhost:8080/"
        },
        "id": "815a3c1f-ed34-4370-a018-57ed09be051f",
        "outputId": "5d7c796b-20a1-4b97-87f4-c75146e6a544"
      },
      "outputs": [
        {
          "output_type": "stream",
          "name": "stdout",
          "text": [
            "División: [-1.          0.48        0.85        1.01818182  1.11428571  1.17647059]\n"
          ]
        }
      ],
      "source": [
        "division = lista2 / lista1\n",
        "print(\"División:\", division)"
      ]
    },
    {
      "cell_type": "markdown",
      "id": "5897287a-8941-4907-bdb1-32dba5bd7136",
      "metadata": {
        "id": "5897287a-8941-4907-bdb1-32dba5bd7136"
      },
      "source": [
        "También puedes comparar los arreglos"
      ]
    },
    {
      "cell_type": "code",
      "execution_count": 41,
      "id": "fc580fd9-bbba-4b44-937b-655da377cd0f",
      "metadata": {
        "colab": {
          "base_uri": "https://localhost:8080/"
        },
        "id": "fc580fd9-bbba-4b44-937b-655da377cd0f",
        "outputId": "499fe907-228e-4933-cb81-649df720945c"
      },
      "outputs": [
        {
          "output_type": "stream",
          "name": "stdout",
          "text": [
            "lista1 == lista2: [False False False False False False]\n"
          ]
        }
      ],
      "source": [
        "print(\"lista1 == lista2:\", lista1 == lista2)"
      ]
    },
    {
      "cell_type": "markdown",
      "id": "f04dc31f-ac5d-49f8-b2df-56309bcb819a",
      "metadata": {
        "id": "f04dc31f-ac5d-49f8-b2df-56309bcb819a"
      },
      "source": [
        "#### Por tu cuenta\n",
        "\n",
        "Crea un arreglo de los valores que vayan del 1 al 5, y luego elvealo al cuadrado usando **"
      ]
    },
    {
      "cell_type": "code",
      "execution_count": 42,
      "id": "11c82b43-a26b-4b77-ae97-b8386c278888",
      "metadata": {
        "id": "11c82b43-a26b-4b77-ae97-b8386c278888"
      },
      "outputs": [],
      "source": [
        "arr = np.arange(1, 6)"
      ]
    },
    {
      "cell_type": "code",
      "execution_count": 43,
      "id": "b88cf8cb-f271-446f-8660-f858c57c027a",
      "metadata": {
        "id": "b88cf8cb-f271-446f-8660-f858c57c027a"
      },
      "outputs": [],
      "source": [
        "arr_cuadrado = arr ** 2"
      ]
    },
    {
      "cell_type": "code",
      "execution_count": 44,
      "id": "dc1e9b7d-cc8d-4500-81f3-510f593b647e",
      "metadata": {
        "colab": {
          "base_uri": "https://localhost:8080/"
        },
        "id": "dc1e9b7d-cc8d-4500-81f3-510f593b647e",
        "outputId": "60f72b32-8f6a-4d58-aee2-3f509226b64b"
      },
      "outputs": [
        {
          "output_type": "stream",
          "name": "stdout",
          "text": [
            "[ 1  4  9 16 25]\n"
          ]
        }
      ],
      "source": [
        "print(arr_cuadrado)"
      ]
    },
    {
      "cell_type": "markdown",
      "id": "f41f14b1-01d8-442e-b531-f5fa0f0548b2",
      "metadata": {
        "id": "f41f14b1-01d8-442e-b531-f5fa0f0548b2"
      },
      "source": [
        "### 7.3.2.- Métodos de Cálculo"
      ]
    },
    {
      "cell_type": "markdown",
      "id": "f358182e-1d2b-4c85-9e45-cc051902608d",
      "metadata": {
        "id": "f358182e-1d2b-4c85-9e45-cc051902608d"
      },
      "source": [
        "Considera el siguiente arreglo\n",
        "\n",
        "ventas=np.array( [[554,606,710,851],[1244,898,416,1763],\n",
        " [841,655,1105,1067]])\n"
      ]
    },
    {
      "cell_type": "code",
      "execution_count": 45,
      "id": "62b63afa-5b31-4302-b574-54de2e11c304",
      "metadata": {
        "id": "62b63afa-5b31-4302-b574-54de2e11c304"
      },
      "outputs": [],
      "source": [
        "ventas=np.array( [[554,606,710,851],[1244,898,416,1763], [841,655,1105,1067]])"
      ]
    },
    {
      "cell_type": "markdown",
      "id": "0b33e26b-2f84-4781-8752-12add9733bb5",
      "metadata": {
        "id": "0b33e26b-2f84-4781-8752-12add9733bb5"
      },
      "source": [
        "Podemos usar métodos para calcular la sum, min, max, mean, std, var."
      ]
    },
    {
      "cell_type": "code",
      "execution_count": 46,
      "id": "4b99c6a9-d05c-4a90-87c1-5dbb23bb249c",
      "metadata": {
        "colab": {
          "base_uri": "https://localhost:8080/"
        },
        "id": "4b99c6a9-d05c-4a90-87c1-5dbb23bb249c",
        "outputId": "3f8f5beb-2ada-46a7-8868-f84b64646fcb"
      },
      "outputs": [
        {
          "output_type": "stream",
          "name": "stdout",
          "text": [
            "Suma total: 10710\n"
          ]
        }
      ],
      "source": [
        "print(\"Suma total:\", ventas.sum())"
      ]
    },
    {
      "cell_type": "code",
      "execution_count": 47,
      "id": "c371d504-5563-49b4-b758-e74a1affdade",
      "metadata": {
        "colab": {
          "base_uri": "https://localhost:8080/"
        },
        "id": "c371d504-5563-49b4-b758-e74a1affdade",
        "outputId": "e701531d-5187-45d2-914c-098b6d6da97e"
      },
      "outputs": [
        {
          "output_type": "stream",
          "name": "stdout",
          "text": [
            "Mínimo: 416\n"
          ]
        }
      ],
      "source": [
        "print(\"Mínimo:\", ventas.min())"
      ]
    },
    {
      "cell_type": "code",
      "execution_count": 48,
      "id": "03d298ff-741f-4d10-bf40-4507d884fc07",
      "metadata": {
        "colab": {
          "base_uri": "https://localhost:8080/"
        },
        "id": "03d298ff-741f-4d10-bf40-4507d884fc07",
        "outputId": "1e95b398-815e-42d7-a2b8-a9f9abeb5263"
      },
      "outputs": [
        {
          "output_type": "stream",
          "name": "stdout",
          "text": [
            "Máximo: 1763\n"
          ]
        }
      ],
      "source": [
        "print(\"Máximo:\", ventas.max())"
      ]
    },
    {
      "cell_type": "code",
      "execution_count": 49,
      "id": "d9924a54-4ac2-4f57-a3a5-4b9318b0bdcd",
      "metadata": {
        "colab": {
          "base_uri": "https://localhost:8080/"
        },
        "id": "d9924a54-4ac2-4f57-a3a5-4b9318b0bdcd",
        "outputId": "22b9e167-de24-4a52-ec5d-ef5466b28869"
      },
      "outputs": [
        {
          "output_type": "stream",
          "name": "stdout",
          "text": [
            "Media: 892.5\n"
          ]
        }
      ],
      "source": [
        "print(\"Media:\", ventas.mean())"
      ]
    },
    {
      "cell_type": "code",
      "execution_count": 50,
      "id": "0b5c6875-ac14-46da-a30b-8229ba473f3f",
      "metadata": {
        "colab": {
          "base_uri": "https://localhost:8080/"
        },
        "id": "0b5c6875-ac14-46da-a30b-8229ba473f3f",
        "outputId": "0ebcd605-eb1e-4757-a0e0-7c338a5285fc"
      },
      "outputs": [
        {
          "output_type": "stream",
          "name": "stdout",
          "text": [
            "Desviación estándar: 350.56656524355924\n"
          ]
        }
      ],
      "source": [
        "print(\"Desviación estándar:\", ventas.std())"
      ]
    },
    {
      "cell_type": "code",
      "execution_count": 51,
      "id": "1b5f65d3-9aeb-4b2d-b777-7e86be52bc03",
      "metadata": {
        "colab": {
          "base_uri": "https://localhost:8080/"
        },
        "id": "1b5f65d3-9aeb-4b2d-b777-7e86be52bc03",
        "outputId": "6d49bb8f-c7db-496b-899f-e0ef1089e7a3"
      },
      "outputs": [
        {
          "output_type": "stream",
          "name": "stdout",
          "text": [
            "Varianza: 122896.91666666667\n"
          ]
        }
      ],
      "source": [
        "print(\"Varianza:\", ventas.var())"
      ]
    },
    {
      "cell_type": "markdown",
      "id": "4fc48e4b-2a8d-40d6-ba91-eb30e2f74b0f",
      "metadata": {
        "id": "4fc48e4b-2a8d-40d6-ba91-eb30e2f74b0f"
      },
      "source": [
        "También es posible hacerlo por filas y columnas. Checa como se hace con axis = 1 y 0"
      ]
    },
    {
      "cell_type": "code",
      "execution_count": 52,
      "id": "27844143-2c16-4e20-a7f4-6802139181cd",
      "metadata": {
        "colab": {
          "base_uri": "https://localhost:8080/"
        },
        "id": "27844143-2c16-4e20-a7f4-6802139181cd",
        "outputId": "ff4f7d73-a625-44ba-d8dd-90f80cc09b15"
      },
      "outputs": [
        {
          "output_type": "stream",
          "name": "stdout",
          "text": [
            "Suma por filas: [2721 4321 3668]\n",
            "Suma por columnas: [2639 2159 2231 3681]\n"
          ]
        }
      ],
      "source": [
        "print(\"Suma por filas:\", ventas.sum(axis=1))\n",
        "print(\"Suma por columnas:\", ventas.sum(axis=0))"
      ]
    },
    {
      "cell_type": "code",
      "execution_count": 53,
      "id": "24329b3a-551e-4f32-860f-b7b9335c4712",
      "metadata": {
        "colab": {
          "base_uri": "https://localhost:8080/"
        },
        "id": "24329b3a-551e-4f32-860f-b7b9335c4712",
        "outputId": "1ca85372-74db-4189-fc11-dc23c7303e4a"
      },
      "outputs": [
        {
          "output_type": "stream",
          "name": "stdout",
          "text": [
            "Mínimo por filas: [554 416 655]\n",
            "Mínimo por columnas: [554 606 416 851]\n"
          ]
        }
      ],
      "source": [
        "print(\"Mínimo por filas:\", ventas.min(axis=1))\n",
        "print(\"Mínimo por columnas:\", ventas.min(axis=0))"
      ]
    },
    {
      "cell_type": "code",
      "execution_count": 54,
      "id": "ef235a0b-696d-41f5-a3f2-a276bf586e95",
      "metadata": {
        "colab": {
          "base_uri": "https://localhost:8080/"
        },
        "id": "ef235a0b-696d-41f5-a3f2-a276bf586e95",
        "outputId": "6316a935-e5dc-4f70-91b7-d000bb65db66"
      },
      "outputs": [
        {
          "output_type": "stream",
          "name": "stdout",
          "text": [
            "Media por filas: [ 680.25 1080.25  917.  ]\n",
            "Media por columnas: [ 879.66666667  719.66666667  743.66666667 1227.        ]\n"
          ]
        }
      ],
      "source": [
        "print(\"Media por filas:\", ventas.mean(axis=1))\n",
        "print(\"Media por columnas:\", ventas.mean(axis=0))"
      ]
    },
    {
      "cell_type": "markdown",
      "id": "e4b63208-01e1-4caf-b071-d748fc92cac2",
      "metadata": {
        "id": "e4b63208-01e1-4caf-b071-d748fc92cac2"
      },
      "source": [
        "#### Por tu cuenta\n",
        "\n",
        "Usa el generador de numeros aleatoreos de numpy (np.random.randint) para crear una rreglo de 12 calificaciones aleatorias del 60 al 100, y luego dale forma en una matriz de 3x4. Calcula el promedio de todas las calificaciones, el promedio de cada columna y de cada fila."
      ]
    },
    {
      "cell_type": "code",
      "execution_count": 55,
      "id": "fd074537-07c6-4f51-8d20-217a489c4ae0",
      "metadata": {
        "id": "fd074537-07c6-4f51-8d20-217a489c4ae0"
      },
      "outputs": [],
      "source": [
        "calificaciones = np.random.randint(60, 101, size=12)"
      ]
    },
    {
      "cell_type": "code",
      "execution_count": 59,
      "id": "ecca310d-e9df-4cc5-ad5a-db3b9f3dd206",
      "metadata": {
        "colab": {
          "base_uri": "https://localhost:8080/"
        },
        "id": "ecca310d-e9df-4cc5-ad5a-db3b9f3dd206",
        "outputId": "b64966b5-aaf0-43bc-e856-99ed1f24017e"
      },
      "outputs": [
        {
          "output_type": "stream",
          "name": "stdout",
          "text": [
            "Matriz de calificaciones:\n",
            "[[65 94 85 71]\n",
            " [62 92 85 80]\n",
            " [76 69 92 92]]\n"
          ]
        }
      ],
      "source": [
        "matriz_calificaciones = calificaciones.reshape(3, 4)\n",
        "print(\"Matriz de calificaciones:\")\n",
        "print(matriz_calificaciones)"
      ]
    },
    {
      "cell_type": "code",
      "execution_count": 58,
      "id": "2441919c-8411-469b-bc59-6bc01ab76f18",
      "metadata": {
        "colab": {
          "base_uri": "https://localhost:8080/"
        },
        "id": "2441919c-8411-469b-bc59-6bc01ab76f18",
        "outputId": "a34f5159-d16d-438d-a037-ffd8a89a800b"
      },
      "outputs": [
        {
          "output_type": "stream",
          "name": "stdout",
          "text": [
            "\n",
            "Promedio total de todas las calificaciones: 80.25\n"
          ]
        }
      ],
      "source": [
        "promedio_total = np.mean(matriz_calificaciones)\n",
        "print(\"\\nPromedio total de todas las calificaciones:\", promedio_total)"
      ]
    },
    {
      "cell_type": "code",
      "execution_count": 60,
      "id": "1f6400f6-d704-41c7-93bc-331d2f363df8",
      "metadata": {
        "colab": {
          "base_uri": "https://localhost:8080/"
        },
        "id": "1f6400f6-d704-41c7-93bc-331d2f363df8",
        "outputId": "9de94723-9fad-4f7d-ccc0-8276d7dab5dc"
      },
      "outputs": [
        {
          "output_type": "stream",
          "name": "stdout",
          "text": [
            "\n",
            "Promedio de cada columna: [67.66666667 85.         87.33333333 81.        ]\n"
          ]
        }
      ],
      "source": [
        "promedio_columnas = np.mean(matriz_calificaciones, axis=0)\n",
        "print(\"\\nPromedio de cada columna:\", promedio_columnas)"
      ]
    },
    {
      "cell_type": "code",
      "execution_count": 61,
      "id": "fd3a8a77-5a2b-470b-955c-4b4b426c91d6",
      "metadata": {
        "colab": {
          "base_uri": "https://localhost:8080/"
        },
        "id": "fd3a8a77-5a2b-470b-955c-4b4b426c91d6",
        "outputId": "1bd46a2b-4501-46ca-b2f8-e901646acb32"
      },
      "outputs": [
        {
          "output_type": "stream",
          "name": "stdout",
          "text": [
            "\n",
            "Promedio de cada fila: [78.75 79.75 82.25]\n"
          ]
        }
      ],
      "source": [
        "promedio_filas = np.mean(matriz_calificaciones, axis=1)\n",
        "print(\"\\nPromedio de cada fila:\", promedio_filas)"
      ]
    },
    {
      "cell_type": "markdown",
      "id": "fc6ab829-7417-43f3-942b-a28077f414bb",
      "metadata": {
        "id": "fc6ab829-7417-43f3-942b-a28077f414bb"
      },
      "source": [
        "## 7.4.- Indexando y Cortando arreglos"
      ]
    },
    {
      "cell_type": "markdown",
      "id": "c969a299-6e36-4460-a97c-4f776bbe3740",
      "metadata": {
        "id": "c969a299-6e36-4460-a97c-4f776bbe3740"
      },
      "source": [
        "Crea el arreglo\n",
        "\n",
        "ventas=np.array ([[ 554, 606, 710, 851],\n",
        " [1244, 898, 416, 1763],\n",
        " [ 841, 655, 1105, 1067]])\n",
        "\n",
        " - Selecciona el item 2,1\n",
        " - Selecciona el item 1,3\n",
        " - Selecciona la fila 1"
      ]
    },
    {
      "cell_type": "markdown",
      "source": [],
      "metadata": {
        "id": "eneBQZe-wPrR"
      },
      "id": "eneBQZe-wPrR"
    },
    {
      "cell_type": "code",
      "execution_count": 62,
      "id": "dc7dce56-e29e-45aa-adc1-ac67a936f86e",
      "metadata": {
        "id": "dc7dce56-e29e-45aa-adc1-ac67a936f86e"
      },
      "outputs": [],
      "source": [
        "ventas=np.array ([[ 554, 606, 710, 851], [1244, 898, 416, 1763], [ 841, 655, 1105, 1067]])"
      ]
    },
    {
      "cell_type": "code",
      "execution_count": 63,
      "id": "ddc033d1-8c0c-48ef-8d83-5915df766fb9",
      "metadata": {
        "colab": {
          "base_uri": "https://localhost:8080/"
        },
        "id": "ddc033d1-8c0c-48ef-8d83-5915df766fb9",
        "outputId": "066305ac-8852-42de-c620-eaa8c9a5ee3c"
      },
      "outputs": [
        {
          "output_type": "stream",
          "name": "stdout",
          "text": [
            "Item en la posición (2,1): 655\n",
            "Item en la posición (1,3): 1763\n",
            "Fila 1: [1244  898  416 1763]\n"
          ]
        }
      ],
      "source": [
        "item_2_1 = ventas[2, 1]\n",
        "item_1_3 = ventas[1, 3]\n",
        "fila_1 = ventas[1, :]\n",
        "print(\"Item en la posición (2,1):\", item_2_1)\n",
        "print(\"Item en la posición (1,3):\", item_1_3)\n",
        "print(\"Fila 1:\", fila_1)"
      ]
    },
    {
      "cell_type": "markdown",
      "id": "d6ff1f34-3be0-4546-abbd-74d4b8e13e53",
      "metadata": {
        "id": "d6ff1f34-3be0-4546-abbd-74d4b8e13e53"
      },
      "source": [
        "Solicita las filas con índices 0 y 1"
      ]
    },
    {
      "cell_type": "code",
      "execution_count": 65,
      "id": "9dee066c-16bd-431e-9118-9662c6fcb08a",
      "metadata": {
        "colab": {
          "base_uri": "https://localhost:8080/"
        },
        "id": "9dee066c-16bd-431e-9118-9662c6fcb08a",
        "outputId": "25e94812-0123-4d69-f64b-638d13f1cb47"
      },
      "outputs": [
        {
          "output_type": "stream",
          "name": "stdout",
          "text": [
            "Filas con índices 0 y 1:\n",
            "[[ 554  606  710  851]\n",
            " [1244  898  416 1763]]\n"
          ]
        }
      ],
      "source": [
        "filas_0_1 = ventas[0:2, :]\n",
        "print(\"Filas con índices 0 y 1:\")\n",
        "print(filas_0_1)"
      ]
    },
    {
      "cell_type": "markdown",
      "id": "f24b5167-113b-4444-9e32-67c12458f5eb",
      "metadata": {
        "id": "f24b5167-113b-4444-9e32-67c12458f5eb"
      },
      "source": [
        "Ahora para solicitar las filas con indices 1 y 2"
      ]
    },
    {
      "cell_type": "code",
      "execution_count": 66,
      "id": "5154ad7e-fc6c-4b61-9841-6dd7c7fd34c9",
      "metadata": {
        "colab": {
          "base_uri": "https://localhost:8080/"
        },
        "id": "5154ad7e-fc6c-4b61-9841-6dd7c7fd34c9",
        "outputId": "4b9b404a-0c27-428d-d546-cf4f48b591b6"
      },
      "outputs": [
        {
          "output_type": "stream",
          "name": "stdout",
          "text": [
            "\n",
            "Filas con índices 1 y 2:\n",
            "[[1244  898  416 1763]\n",
            " [ 841  655 1105 1067]]\n"
          ]
        }
      ],
      "source": [
        "filas_1_2 = ventas[1:3, :]\n",
        "print(\"\\nFilas con índices 1 y 2:\")\n",
        "print(filas_1_2)"
      ]
    },
    {
      "cell_type": "markdown",
      "id": "c33757ef-e644-4547-9727-f310d0237e90",
      "metadata": {
        "id": "c33757ef-e644-4547-9727-f310d0237e90"
      },
      "source": [
        "Quieres solo los elementos de la primera columna?"
      ]
    },
    {
      "cell_type": "code",
      "execution_count": 68,
      "id": "b0fbfc3a-1414-47be-94ac-df18d65cafc7",
      "metadata": {
        "colab": {
          "base_uri": "https://localhost:8080/"
        },
        "id": "b0fbfc3a-1414-47be-94ac-df18d65cafc7",
        "outputId": "5e1b6e4d-759b-4b4d-8291-fa0b7a5219c4"
      },
      "outputs": [
        {
          "output_type": "stream",
          "name": "stdout",
          "text": [
            "\n",
            "Solo los elementos de la primera columna:\n",
            "[ 554 1244  841]\n"
          ]
        }
      ],
      "source": [
        "columna_1 = ventas[:, 0]\n",
        "print(\"\\nSolo los elementos de la primera columna:\")\n",
        "print(columna_1)"
      ]
    },
    {
      "cell_type": "markdown",
      "id": "f8969bc1-1bbf-42c0-a38d-c59f861738e2",
      "metadata": {
        "id": "f8969bc1-1bbf-42c0-a38d-c59f861738e2"
      },
      "source": [
        "Que la las columnas con indices 0 y 2?"
      ]
    },
    {
      "cell_type": "code",
      "execution_count": 69,
      "id": "b8eb35a1-cf95-481f-8f4c-548132319028",
      "metadata": {
        "colab": {
          "base_uri": "https://localhost:8080/"
        },
        "id": "b8eb35a1-cf95-481f-8f4c-548132319028",
        "outputId": "5a19006a-f9d8-4f1e-e315-497095f259ad"
      },
      "outputs": [
        {
          "output_type": "stream",
          "name": "stdout",
          "text": [
            "\n",
            "Columnas con índices 0 y 2:\n",
            "[[ 554  710]\n",
            " [1244  416]\n",
            " [ 841 1105]]\n"
          ]
        }
      ],
      "source": [
        "columnas_0_2 = ventas[:, [0, 2]]\n",
        "print(\"\\nColumnas con índices 0 y 2:\")\n",
        "print(columnas_0_2)"
      ]
    },
    {
      "cell_type": "markdown",
      "id": "cb73821a-c475-42e6-a7ea-503f89504517",
      "metadata": {
        "id": "cb73821a-c475-42e6-a7ea-503f89504517"
      },
      "source": [
        "#### Por tu cuenta\n",
        "\n",
        "Dado el siguiente arreglo\n",
        "\n",
        "array([[1,2,3,4,5],\n",
        "     [6,7,8,9,10],\n",
        "     [11,12,13,14,15]])\n",
        "\n",
        "- Selecciona la segunda fila\n",
        "- Selecciona la primera y tercera fila\n",
        "- Selecciona las tres columnas de enmedio"
      ]
    },
    {
      "cell_type": "code",
      "execution_count": 71,
      "id": "675c1945-945d-4b06-b0f6-72daed5b59a7",
      "metadata": {
        "id": "675c1945-945d-4b06-b0f6-72daed5b59a7"
      },
      "outputs": [],
      "source": [
        "arreglo = np.array([[1,2,3,4,5], [6,7,8,9,10], [11,12,13,14,15]])"
      ]
    },
    {
      "cell_type": "code",
      "execution_count": 72,
      "id": "9d980184-42de-45f3-8bd1-b327cbb0f14c",
      "metadata": {
        "colab": {
          "base_uri": "https://localhost:8080/"
        },
        "id": "9d980184-42de-45f3-8bd1-b327cbb0f14c",
        "outputId": "04fdae1d-c302-4d51-9306-ce1d7c9fd6a0"
      },
      "outputs": [
        {
          "output_type": "stream",
          "name": "stdout",
          "text": [
            "Segunda fila:\n",
            "[ 6  7  8  9 10]\n"
          ]
        }
      ],
      "source": [
        "segunda_fila = arreglo[1, :]\n",
        "print(\"Segunda fila:\")\n",
        "print(segunda_fila)"
      ]
    },
    {
      "cell_type": "code",
      "execution_count": 73,
      "id": "7b48f140-6ab2-4815-a56f-a18d0e6549d9",
      "metadata": {
        "colab": {
          "base_uri": "https://localhost:8080/"
        },
        "id": "7b48f140-6ab2-4815-a56f-a18d0e6549d9",
        "outputId": "5a736840-5fd2-4a6c-d44d-2e6094743626"
      },
      "outputs": [
        {
          "output_type": "stream",
          "name": "stdout",
          "text": [
            "\n",
            "Primera y tercera fila:\n",
            "[[ 1  2  3  4  5]\n",
            " [11 12 13 14 15]]\n"
          ]
        }
      ],
      "source": [
        "primer_tercer_fila = arreglo[[0, 2], :]\n",
        "print(\"\\nPrimera y tercera fila:\")\n",
        "print(primer_tercer_fila)"
      ]
    },
    {
      "cell_type": "code",
      "execution_count": 74,
      "id": "2ea8f01a-aedb-419d-98b9-5c503f43db91",
      "metadata": {
        "colab": {
          "base_uri": "https://localhost:8080/"
        },
        "id": "2ea8f01a-aedb-419d-98b9-5c503f43db91",
        "outputId": "50a532c2-2fcd-436a-c144-4edffc8645a3"
      },
      "outputs": [
        {
          "output_type": "stream",
          "name": "stdout",
          "text": [
            "\n",
            "Tres columnas del medio:\n",
            "[[ 2  3  4]\n",
            " [ 7  8  9]\n",
            " [12 13 14]]\n"
          ]
        }
      ],
      "source": [
        "columnas_del_medio = arreglo[:, 1:4]\n",
        "print(\"\\nTres columnas del medio:\")\n",
        "print(columnas_del_medio)"
      ]
    },
    {
      "cell_type": "markdown",
      "id": "8ed698fe-8ed9-4b5a-9d46-245c1c01cda3",
      "metadata": {
        "id": "8ed698fe-8ed9-4b5a-9d46-245c1c01cda3"
      },
      "source": [
        "### 7.4.2.- Transponer"
      ]
    },
    {
      "cell_type": "markdown",
      "id": "c7fd8c57-a81a-46ca-a28a-798ba2768691",
      "metadata": {
        "id": "c7fd8c57-a81a-46ca-a28a-798ba2768691"
      },
      "source": [
        "Con **reshape** puedes producir una copia superficial del arreglo con una nueva dimension.\n",
        "\n",
        "ventas = np.array([[ 500, 600, 550, 800],\n",
        " [1200, 800, 400,1000]])\n",
        "\n",
        "Usa el arreglo anterior para darle dimension de 1x8"
      ]
    },
    {
      "cell_type": "code",
      "execution_count": 75,
      "id": "58e2c7e7-96a8-4c4b-a295-57302850205f",
      "metadata": {
        "id": "58e2c7e7-96a8-4c4b-a295-57302850205f"
      },
      "outputs": [],
      "source": [
        "ventas = np.array([[ 500, 600, 550, 800], [1200, 800, 400,1000]])"
      ]
    },
    {
      "cell_type": "code",
      "execution_count": 76,
      "id": "e16542fe-41f9-4087-982b-47cca3737cba",
      "metadata": {
        "id": "e16542fe-41f9-4087-982b-47cca3737cba"
      },
      "outputs": [],
      "source": [
        "ventas_1x8 = ventas.reshape(1, 8)"
      ]
    },
    {
      "cell_type": "code",
      "execution_count": 77,
      "id": "aeeadac0-5524-47f5-803f-7dd8e05df52e",
      "metadata": {
        "colab": {
          "base_uri": "https://localhost:8080/"
        },
        "id": "aeeadac0-5524-47f5-803f-7dd8e05df52e",
        "outputId": "20e12c3b-a8c6-4238-9435-35b5f5580bfb"
      },
      "outputs": [
        {
          "output_type": "stream",
          "name": "stdout",
          "text": [
            "Arreglo con dimensión 1x8:\n",
            "[[ 500  600  550  800 1200  800  400 1000]]\n"
          ]
        }
      ],
      "source": [
        "print(\"Arreglo con dimensión 1x8:\")\n",
        "print(ventas_1x8)"
      ]
    },
    {
      "cell_type": "markdown",
      "source": [],
      "metadata": {
        "id": "nKN362MwxPAF"
      },
      "id": "nKN362MwxPAF"
    },
    {
      "cell_type": "markdown",
      "id": "e6acba71-89bf-4dad-9a32-97d0456a9d42",
      "metadata": {
        "id": "e6acba71-89bf-4dad-9a32-97d0456a9d42"
      },
      "source": [
        "El metodo **resize** modifica la forma del original (no crea copia)"
      ]
    },
    {
      "cell_type": "code",
      "execution_count": 78,
      "id": "d3a09d74-276a-4058-b7eb-626be83f46ca",
      "metadata": {
        "id": "d3a09d74-276a-4058-b7eb-626be83f46ca"
      },
      "outputs": [],
      "source": [
        "ventas = np.array([[500, 600, 550, 800], [1200, 800, 400, 1000]])"
      ]
    },
    {
      "cell_type": "code",
      "execution_count": 79,
      "id": "0b6c4b5e-217b-452e-bb6a-da4bc127160c",
      "metadata": {
        "colab": {
          "base_uri": "https://localhost:8080/"
        },
        "id": "0b6c4b5e-217b-452e-bb6a-da4bc127160c",
        "outputId": "d13912ce-c4e9-4b97-c58a-276f7bd9009a"
      },
      "outputs": [
        {
          "output_type": "stream",
          "name": "stdout",
          "text": [
            "Arreglo con dimensión 1x8 después de usar resize:\n",
            "[[ 500  600  550  800 1200  800  400 1000]]\n"
          ]
        }
      ],
      "source": [
        "ventas.resize(1, 8)\n",
        "\n",
        "print(\"Arreglo con dimensión 1x8 después de usar resize:\")\n",
        "print(ventas)"
      ]
    },
    {
      "cell_type": "markdown",
      "id": "e29a637e-549e-4c80-b2c7-0ec892cc5823",
      "metadata": {
        "id": "e29a637e-549e-4c80-b2c7-0ec892cc5823"
      },
      "source": [
        "Y **transpose** rapidamente le da la vuelta a filas y columnas, este se hace aplicando el atributo T, que no modifica el original, solo una vista."
      ]
    },
    {
      "cell_type": "code",
      "execution_count": 80,
      "id": "405d533c-7fe5-40a6-b050-09768d004b2e",
      "metadata": {
        "colab": {
          "base_uri": "https://localhost:8080/"
        },
        "id": "405d533c-7fe5-40a6-b050-09768d004b2e",
        "outputId": "d93a6d77-80e6-4e45-8b02-6d63ee6322bf"
      },
      "outputs": [
        {
          "output_type": "stream",
          "name": "stdout",
          "text": [
            "Arreglo transpuesto:\n",
            "[[ 500]\n",
            " [ 600]\n",
            " [ 550]\n",
            " [ 800]\n",
            " [1200]\n",
            " [ 800]\n",
            " [ 400]\n",
            " [1000]]\n"
          ]
        }
      ],
      "source": [
        "ventas_transpuestas = ventas.T\n",
        "\n",
        "print(\"Arreglo transpuesto:\")\n",
        "print(ventas_transpuestas)"
      ]
    },
    {
      "cell_type": "markdown",
      "id": "446be823-0988-4ba6-b774-dd4be5653627",
      "metadata": {
        "id": "446be823-0988-4ba6-b774-dd4be5653627"
      },
      "source": [
        "## 7.5.- Pandas - Series"
      ]
    },
    {
      "cell_type": "markdown",
      "id": "b3a5d8b4-6ecf-4679-bf47-9903d80d6d30",
      "metadata": {
        "id": "b3a5d8b4-6ecf-4679-bf47-9903d80d6d30"
      },
      "source": [
        "Vamos a usar estos datos para Series - tiempo_web = pd.Series([160,256,98,108])\n",
        "\n",
        "Este es el tiempo que invierten en videojuegos 4 estudiantes"
      ]
    },
    {
      "cell_type": "code",
      "execution_count": 88,
      "id": "e5e4af90-829b-41bd-83ee-9d98686e646c",
      "metadata": {
        "id": "e5e4af90-829b-41bd-83ee-9d98686e646c"
      },
      "outputs": [],
      "source": [
        "import pandas as pd\n"
      ]
    },
    {
      "cell_type": "code",
      "execution_count": 87,
      "id": "90dcae4b-11c5-477d-a2e6-6f74e51e4ba8",
      "metadata": {
        "id": "90dcae4b-11c5-477d-a2e6-6f74e51e4ba8"
      },
      "outputs": [],
      "source": [
        "tiempo_web = pd.Series([160,256,98,108])"
      ]
    },
    {
      "cell_type": "code",
      "execution_count": 86,
      "id": "21d21aba-f304-4ef5-8f4f-3237e68c0265",
      "metadata": {
        "colab": {
          "base_uri": "https://localhost:8080/"
        },
        "id": "21d21aba-f304-4ef5-8f4f-3237e68c0265",
        "outputId": "ffc68e41-7f46-4476-8441-d1ed8d629a7a"
      },
      "outputs": [
        {
          "output_type": "stream",
          "name": "stdout",
          "text": [
            "Serie de tiempo invertido en videojuegos:\n",
            "0    160\n",
            "1    256\n",
            "2     98\n",
            "3    108\n",
            "dtype: int64\n"
          ]
        }
      ],
      "source": [
        "print(\"Serie de tiempo invertido en videojuegos:\")\n",
        "print(tiempo_web)"
      ]
    },
    {
      "cell_type": "markdown",
      "id": "6328aaa1-5e96-4f5f-8e8a-d3a0955eb951",
      "metadata": {
        "id": "6328aaa1-5e96-4f5f-8e8a-d3a0955eb951"
      },
      "source": [
        "Para crear una serie con el mismo elemento"
      ]
    },
    {
      "cell_type": "code",
      "execution_count": 92,
      "id": "533c703a-ffaf-4bbb-9bc4-91265e3a1597",
      "metadata": {
        "colab": {
          "base_uri": "https://localhost:8080/"
        },
        "id": "533c703a-ffaf-4bbb-9bc4-91265e3a1597",
        "outputId": "fb0264b9-a9d8-48ae-fd61-b40ba7afe6cd"
      },
      "outputs": [
        {
          "output_type": "stream",
          "name": "stdout",
          "text": [
            "\n",
            "Serie con el mismo elemento:\n",
            "0    160\n",
            "1    160\n",
            "2    160\n",
            "3    160\n",
            "dtype: int64\n"
          ]
        }
      ],
      "source": [
        "serie_mismo_elemento = pd.Series([160] * 4)\n",
        "print(\"\\nSerie con el mismo elemento:\")\n",
        "print(serie_mismo_elemento)"
      ]
    },
    {
      "cell_type": "markdown",
      "id": "84913618-dc50-4d63-bfae-c8df7ba75e90",
      "metadata": {
        "id": "84913618-dc50-4d63-bfae-c8df7ba75e90"
      },
      "source": [
        "Acceder a un elemento es facil"
      ]
    },
    {
      "cell_type": "code",
      "execution_count": 93,
      "id": "f554ada1-b2ff-4cc4-b78e-e762f1c798f4",
      "metadata": {
        "colab": {
          "base_uri": "https://localhost:8080/"
        },
        "id": "f554ada1-b2ff-4cc4-b78e-e762f1c798f4",
        "outputId": "640b22a4-b980-4360-cd99-f3894dd923d9"
      },
      "outputs": [
        {
          "output_type": "stream",
          "name": "stdout",
          "text": [
            "\n",
            "Tiempo invertido por el primer estudiante: 160\n"
          ]
        }
      ],
      "source": [
        "primer_estudiante = tiempo_web[0]\n",
        "print(\"\\nTiempo invertido por el primer estudiante:\", primer_estudiante)"
      ]
    },
    {
      "cell_type": "markdown",
      "id": "da94bc72-a01b-4e21-a69d-aea7ad822baf",
      "metadata": {
        "id": "da94bc72-a01b-4e21-a69d-aea7ad822baf"
      },
      "source": [
        "## Tambien, todo esto se puede resumir con **describe**"
      ]
    },
    {
      "cell_type": "markdown",
      "id": "53762262-5359-4a6a-9b5b-677280c94372",
      "metadata": {
        "id": "53762262-5359-4a6a-9b5b-677280c94372"
      },
      "source": [
        "Series tiene acceso a los mismos metodos que arreglos para estadistica descriptiva"
      ]
    },
    {
      "cell_type": "code",
      "execution_count": 94,
      "id": "1825114c-1497-4321-9d4d-938ae5b677f7",
      "metadata": {
        "colab": {
          "base_uri": "https://localhost:8080/"
        },
        "id": "1825114c-1497-4321-9d4d-938ae5b677f7",
        "outputId": "ae14e7dc-b706-4886-8274-74f5aa0f25f6"
      },
      "outputs": [
        {
          "output_type": "stream",
          "name": "stdout",
          "text": [
            "\n",
            "Estadísticas descriptivas:\n",
            "count      4.000000\n",
            "mean     155.500000\n",
            "std       72.302605\n",
            "min       98.000000\n",
            "25%      105.500000\n",
            "50%      134.000000\n",
            "75%      184.000000\n",
            "max      256.000000\n",
            "dtype: float64\n"
          ]
        }
      ],
      "source": [
        "estadisticas = tiempo_web.describe()\n",
        "print(\"\\nEstadísticas descriptivas:\")\n",
        "print(estadisticas)"
      ]
    },
    {
      "cell_type": "code",
      "execution_count": 96,
      "id": "c00b33fc-5444-485f-b5c2-d9166b3f24e2",
      "metadata": {
        "colab": {
          "base_uri": "https://localhost:8080/"
        },
        "id": "c00b33fc-5444-485f-b5c2-d9166b3f24e2",
        "outputId": "aad35651-0672-4504-f8b1-a27beff84953"
      },
      "outputs": [
        {
          "output_type": "stream",
          "name": "stdout",
          "text": [
            "Resumen estadístico\n",
            "count      4.000000\n",
            "mean     155.500000\n",
            "std       72.302605\n",
            "min       98.000000\n",
            "25%      105.500000\n",
            "50%      134.000000\n",
            "75%      184.000000\n",
            "max      256.000000\n",
            "dtype: float64\n"
          ]
        }
      ],
      "source": [
        "estadisticas_resumidas = tiempo_web.describe()\n",
        "\n",
        "print(\"Resumen estadístico\")\n",
        "print(estadisticas_resumidas)"
      ]
    },
    {
      "cell_type": "markdown",
      "id": "699ec1ca-880f-4b3b-8bff-b0bbab8bd490",
      "metadata": {
        "id": "699ec1ca-880f-4b3b-8bff-b0bbab8bd490"
      },
      "source": [
        "También podemos personalizar los indices de series a traves de index\n",
        "\n",
        "['Laura','Daniel','Alberto','Eva']\n",
        "\n",
        "Asigna esos nombres"
      ]
    },
    {
      "cell_type": "code",
      "execution_count": 97,
      "id": "431dd272-ae38-4c30-aff9-c66824336000",
      "metadata": {
        "id": "431dd272-ae38-4c30-aff9-c66824336000"
      },
      "outputs": [],
      "source": [
        "tiempo_web = pd.Series([160, 256, 98, 108], index=['Laura', 'Daniel', 'Alberto', 'Eva'])\n"
      ]
    },
    {
      "cell_type": "code",
      "execution_count": 98,
      "id": "51517755-9a53-41bd-9804-d76aca88820d",
      "metadata": {
        "colab": {
          "base_uri": "https://localhost:8080/"
        },
        "id": "51517755-9a53-41bd-9804-d76aca88820d",
        "outputId": "6c12c83f-34e0-4e11-edc0-9403a47eb9d9"
      },
      "outputs": [
        {
          "output_type": "stream",
          "name": "stdout",
          "text": [
            "Serie con índices personalizados:\n",
            "Laura      160\n",
            "Daniel     256\n",
            "Alberto     98\n",
            "Eva        108\n",
            "dtype: int64\n"
          ]
        }
      ],
      "source": [
        "print(\"Serie con índices personalizados:\")\n",
        "print(tiempo_web)"
      ]
    },
    {
      "cell_type": "markdown",
      "id": "2493cf0c-c4e6-41ae-b13d-2dd390c2a460",
      "metadata": {
        "id": "2493cf0c-c4e6-41ae-b13d-2dd390c2a460"
      },
      "source": [
        "O puedes usar un diccionario para eso:"
      ]
    },
    {
      "cell_type": "code",
      "execution_count": 101,
      "id": "41c0aa8c-e1a5-432d-8274-b8452c635249",
      "metadata": {
        "id": "41c0aa8c-e1a5-432d-8274-b8452c635249"
      },
      "outputs": [],
      "source": [
        "tiempo_dict = {'Laura': 160, 'Daniel': 256, 'Alberto': 98, 'Eva': 108}\n",
        "tiempo_web = pd.Series(tiempo_dict)\n"
      ]
    },
    {
      "cell_type": "code",
      "execution_count": 102,
      "id": "21cf3969-a19e-4e88-9a46-d4c90e005058",
      "metadata": {
        "colab": {
          "base_uri": "https://localhost:8080/"
        },
        "id": "21cf3969-a19e-4e88-9a46-d4c90e005058",
        "outputId": "b1bf7523-625e-4f38-9883-a27becda7078"
      },
      "outputs": [
        {
          "output_type": "stream",
          "name": "stdout",
          "text": [
            "Serie creada con un diccionario:\n",
            "Laura      160\n",
            "Daniel     256\n",
            "Alberto     98\n",
            "Eva        108\n",
            "dtype: int64\n"
          ]
        }
      ],
      "source": [
        "print(\"Serie creada con un diccionario:\")\n",
        "print(tiempo_web)\n"
      ]
    },
    {
      "cell_type": "markdown",
      "id": "96b10252-661d-40dd-8272-9aec8d23fa4f",
      "metadata": {
        "id": "96b10252-661d-40dd-8272-9aec8d23fa4f"
      },
      "source": [
        "Puedes llamar a los elementos personalizados"
      ]
    },
    {
      "cell_type": "code",
      "execution_count": 103,
      "id": "9840eec1-0ffe-43fc-8bde-c04fef78798d",
      "metadata": {
        "colab": {
          "base_uri": "https://localhost:8080/"
        },
        "id": "9840eec1-0ffe-43fc-8bde-c04fef78798d",
        "outputId": "ff428d77-6a2d-44f9-a385-82573e5ecdb4"
      },
      "outputs": [
        {
          "output_type": "stream",
          "name": "stdout",
          "text": [
            "Tiempo de Laura: 160\n"
          ]
        }
      ],
      "source": [
        "tiempo_laura = tiempo_web['Laura']\n",
        "print(\"Tiempo de Laura:\", tiempo_laura)\n"
      ]
    },
    {
      "cell_type": "markdown",
      "id": "4fda0170-2977-4b09-b632-970103acfb2a",
      "metadata": {
        "id": "4fda0170-2977-4b09-b632-970103acfb2a"
      },
      "source": [
        "Tambien se pueden llamar como atributos"
      ]
    },
    {
      "cell_type": "code",
      "execution_count": 105,
      "id": "c34e0016-7036-4fc8-9d97-ada58c9e333a",
      "metadata": {
        "colab": {
          "base_uri": "https://localhost:8080/"
        },
        "id": "c34e0016-7036-4fc8-9d97-ada58c9e333a",
        "outputId": "f40afa6f-a65a-416e-aa7f-46d0d4732f17"
      },
      "outputs": [
        {
          "output_type": "stream",
          "name": "stdout",
          "text": [
            "Tiempo de Laura: 160\n"
          ]
        }
      ],
      "source": [
        "tiempo_laura = tiempo_web.Laura\n",
        "print(\"Tiempo de Laura:\", tiempo_laura)"
      ]
    },
    {
      "cell_type": "markdown",
      "id": "cc54c19a-3e01-4b0f-a387-8b30c1f73249",
      "metadata": {
        "id": "cc54c19a-3e01-4b0f-a387-8b30c1f73249"
      },
      "source": [
        "#### Por tu cuenta\n",
        "\n",
        "Usa el generador aleatorio de NumPy (np.random.randint) para generar 6 calificaciones del 60 al 100 y guardarlos en una serie.\n",
        "\n",
        "A continuación arma las siguientes tareas:\n",
        "\n",
        "- Convierte el arreglo en una serie llamada calificacion\n",
        "- Determina la min, max y promedio\n",
        "- Produce TODAS las estadisticas descriptivas"
      ]
    },
    {
      "cell_type": "code",
      "execution_count": 109,
      "id": "0c738c46-099d-4a90-9dd7-e75f1fc17d52",
      "metadata": {
        "id": "0c738c46-099d-4a90-9dd7-e75f1fc17d52"
      },
      "outputs": [],
      "source": [
        "calificaciones = np.random.randint(60, 101, size=6)\n"
      ]
    },
    {
      "cell_type": "code",
      "execution_count": 108,
      "id": "4d0ce195-7796-4f58-a524-b7da09833be7",
      "metadata": {
        "colab": {
          "base_uri": "https://localhost:8080/"
        },
        "id": "4d0ce195-7796-4f58-a524-b7da09833be7",
        "outputId": "181ea11c-7d79-482c-ffc4-0a3b2f9ab6d4"
      },
      "outputs": [
        {
          "output_type": "stream",
          "name": "stdout",
          "text": [
            "Calificaciones generadas:\n",
            "0     81\n",
            "1     71\n",
            "2     82\n",
            "3    100\n",
            "4     60\n",
            "5     69\n",
            "dtype: int64\n"
          ]
        }
      ],
      "source": [
        "calificacion = pd.Series(calificaciones)\n",
        "print(\"Calificaciones generadas:\")\n",
        "print(calificacion)"
      ]
    },
    {
      "cell_type": "code",
      "execution_count": 110,
      "id": "a3cd89e8-9222-4d01-9a6d-a1ff25d4f3a1",
      "metadata": {
        "colab": {
          "base_uri": "https://localhost:8080/"
        },
        "id": "a3cd89e8-9222-4d01-9a6d-a1ff25d4f3a1",
        "outputId": "0f128550-4d48-49b1-93a8-c57cacf42996"
      },
      "outputs": [
        {
          "output_type": "stream",
          "name": "stdout",
          "text": [
            "Mínima: 60\n"
          ]
        }
      ],
      "source": [
        "min_calificacion = calificacion.min()\n",
        "print(\"Mínima:\", min_calificacion)\n"
      ]
    },
    {
      "cell_type": "code",
      "execution_count": 111,
      "id": "b25f696d-1314-414f-82f3-073fd2208405",
      "metadata": {
        "colab": {
          "base_uri": "https://localhost:8080/"
        },
        "id": "b25f696d-1314-414f-82f3-073fd2208405",
        "outputId": "531d9027-64ca-4a46-be96-ff8573a223b7"
      },
      "outputs": [
        {
          "output_type": "stream",
          "name": "stdout",
          "text": [
            "Máxima: 100\n"
          ]
        }
      ],
      "source": [
        "max_calificacion = calificacion.max()\n",
        "print(\"Máxima:\", max_calificacion)"
      ]
    },
    {
      "cell_type": "code",
      "execution_count": 112,
      "id": "94f44153-38d3-458e-96da-f48b83e00ba4",
      "metadata": {
        "colab": {
          "base_uri": "https://localhost:8080/"
        },
        "id": "94f44153-38d3-458e-96da-f48b83e00ba4",
        "outputId": "22f65160-8626-480a-b993-fe9f61dd850d"
      },
      "outputs": [
        {
          "output_type": "stream",
          "name": "stdout",
          "text": [
            "Promedio: 77.16666666666667\n"
          ]
        }
      ],
      "source": [
        "promedio_calificacion = calificacion.mean()\n",
        "print(\"Promedio:\", promedio_calificacion)"
      ]
    },
    {
      "cell_type": "code",
      "execution_count": 113,
      "id": "6013999b-053e-47f2-9bbd-0a5bc7109049",
      "metadata": {
        "colab": {
          "base_uri": "https://localhost:8080/"
        },
        "id": "6013999b-053e-47f2-9bbd-0a5bc7109049",
        "outputId": "5139aadf-8c6d-4b97-fcd2-bdea8b2d0e80"
      },
      "outputs": [
        {
          "output_type": "stream",
          "name": "stdout",
          "text": [
            "count      6.000000\n",
            "mean      77.166667\n",
            "std       13.847984\n",
            "min       60.000000\n",
            "25%       69.500000\n",
            "50%       76.000000\n",
            "75%       81.750000\n",
            "max      100.000000\n",
            "dtype: float64\n"
          ]
        }
      ],
      "source": [
        "estadisticas_descriptivas = calificacion.describe()\n",
        "print(estadisticas_descriptivas)"
      ]
    },
    {
      "cell_type": "markdown",
      "id": "e1d8562d-ea27-411c-8862-52d3582dceaf",
      "metadata": {
        "id": "e1d8562d-ea27-411c-8862-52d3582dceaf"
      },
      "source": [
        "## 7.6.- Pandas - DataFrames"
      ]
    },
    {
      "cell_type": "markdown",
      "id": "fd5a2577-feb0-4dab-bfd5-af9d59bcfe5e",
      "metadata": {
        "id": "fd5a2577-feb0-4dab-bfd5-af9d59bcfe5e"
      },
      "source": [
        "##### Crear un Dataframe de un diccionario\n",
        "\n",
        "Agarra este diccionario y conviertelo en un dataframe\n",
        "\n",
        " reg_peso = {'Vanesa':[68,67,66,65],'Kevin':[89,89,90,88],\n",
        " 'Fernanda':[59,60,60,62],'Patricia':[70,68,67,65]}"
      ]
    },
    {
      "cell_type": "code",
      "execution_count": 114,
      "id": "63b5157c-a78c-4c4f-8485-f758c37389af",
      "metadata": {
        "id": "63b5157c-a78c-4c4f-8485-f758c37389af"
      },
      "outputs": [],
      "source": [
        "import pandas as pd"
      ]
    },
    {
      "cell_type": "code",
      "execution_count": 115,
      "id": "cd368165-eb15-486b-87e4-8707bcc57418",
      "metadata": {
        "id": "cd368165-eb15-486b-87e4-8707bcc57418"
      },
      "outputs": [],
      "source": [
        "reg_peso = {'Vanesa': [68, 67, 66, 65],\n",
        "            'Kevin': [89, 89, 90, 88],\n",
        "            'Fernanda': [59, 60, 60, 62],\n",
        "            'Patricia': [70, 68, 67, 65]}\n"
      ]
    },
    {
      "cell_type": "code",
      "execution_count": 116,
      "id": "c93dc85f-c74b-4592-aadf-ac6e7102ab5c",
      "metadata": {
        "id": "c93dc85f-c74b-4592-aadf-ac6e7102ab5c"
      },
      "outputs": [],
      "source": [
        "df_peso = pd.DataFrame(reg_peso)"
      ]
    },
    {
      "cell_type": "code",
      "execution_count": 117,
      "id": "42f7fa26-0ab1-42db-a5c5-72d2754120d6",
      "metadata": {
        "colab": {
          "base_uri": "https://localhost:8080/"
        },
        "id": "42f7fa26-0ab1-42db-a5c5-72d2754120d6",
        "outputId": "5b3fb0ed-1fcc-4069-832f-c70c880e2cc5"
      },
      "outputs": [
        {
          "output_type": "stream",
          "name": "stdout",
          "text": [
            "DataFrame creado a partir del diccionario:\n",
            "   Vanesa  Kevin  Fernanda  Patricia\n",
            "0      68     89        59        70\n",
            "1      67     89        60        68\n",
            "2      66     90        60        67\n",
            "3      65     88        62        65\n"
          ]
        }
      ],
      "source": [
        "print(\"DataFrame creado a partir del diccionario:\")\n",
        "print(df_peso)"
      ]
    },
    {
      "cell_type": "markdown",
      "id": "dbc1ed3b-ea2f-489f-8b47-68c90c6e37f3",
      "metadata": {
        "id": "dbc1ed3b-ea2f-489f-8b47-68c90c6e37f3"
      },
      "source": [
        "##### El atributo Index\n",
        "\n",
        "Añade los siguientes indices personalizados\n",
        "\n",
        "peso.index = ['Mes 1','Mes 2','Mes 3','Mes 4']"
      ]
    },
    {
      "cell_type": "code",
      "execution_count": 118,
      "id": "5fb7e38f-4046-401e-8ba4-09e01d79fc56",
      "metadata": {
        "id": "5fb7e38f-4046-401e-8ba4-09e01d79fc56"
      },
      "outputs": [],
      "source": [
        "df_peso.index = ['Mes 1', 'Mes 2', 'Mes 3', 'Mes 4']"
      ]
    },
    {
      "cell_type": "code",
      "execution_count": 119,
      "id": "c7fcaed2-3ecf-4375-8e6b-2405b3656327",
      "metadata": {
        "colab": {
          "base_uri": "https://localhost:8080/"
        },
        "id": "c7fcaed2-3ecf-4375-8e6b-2405b3656327",
        "outputId": "25419a3a-8206-4f59-8835-63eb7ef74bfd"
      },
      "outputs": [
        {
          "output_type": "stream",
          "name": "stdout",
          "text": [
            "DataFrame con índices personalizados:\n",
            "       Vanesa  Kevin  Fernanda  Patricia\n",
            "Mes 1      68     89        59        70\n",
            "Mes 2      67     89        60        68\n",
            "Mes 3      66     90        60        67\n",
            "Mes 4      65     88        62        65\n"
          ]
        }
      ],
      "source": [
        "print(\"DataFrame con índices personalizados:\")\n",
        "print(df_peso)"
      ]
    },
    {
      "cell_type": "markdown",
      "id": "5865da9f-efe7-4389-8930-b80dfa1dfb4c",
      "metadata": {
        "id": "5865da9f-efe7-4389-8930-b80dfa1dfb4c"
      },
      "source": [
        "##### Accesar Columnas\n",
        "\n",
        "Selecciona la información de Fernanda"
      ]
    },
    {
      "cell_type": "code",
      "execution_count": 120,
      "id": "ad5133f7-8a39-4064-b38d-475570f0a83d",
      "metadata": {
        "colab": {
          "base_uri": "https://localhost:8080/"
        },
        "id": "ad5133f7-8a39-4064-b38d-475570f0a83d",
        "outputId": "7ecb8f51-528c-40e8-c05f-2faa608bc02e"
      },
      "outputs": [
        {
          "output_type": "stream",
          "name": "stdout",
          "text": [
            "Información de Fernanda:\n",
            "Mes 1    59\n",
            "Mes 2    60\n",
            "Mes 3    60\n",
            "Mes 4    62\n",
            "Name: Fernanda, dtype: int64\n"
          ]
        }
      ],
      "source": [
        "informacion_fernanda = df_peso['Fernanda']\n",
        "\n",
        "print(\"Información de Fernanda:\")\n",
        "print(informacion_fernanda)"
      ]
    },
    {
      "cell_type": "markdown",
      "id": "de73087e-5f5a-4c42-a28d-c3d49adc5e62",
      "metadata": {
        "id": "de73087e-5f5a-4c42-a28d-c3d49adc5e62"
      },
      "source": [
        "Selecciona la de Patricia pero como atributo"
      ]
    },
    {
      "cell_type": "code",
      "execution_count": 121,
      "id": "922e871d-4817-43ae-80f4-0c3fa0689fcd",
      "metadata": {
        "colab": {
          "base_uri": "https://localhost:8080/"
        },
        "id": "922e871d-4817-43ae-80f4-0c3fa0689fcd",
        "outputId": "e5417c59-8e53-4499-8da2-8ca02b2cc946"
      },
      "outputs": [
        {
          "output_type": "stream",
          "name": "stdout",
          "text": [
            "Información de Patricia:\n",
            "Mes 1    70\n",
            "Mes 2    68\n",
            "Mes 3    67\n",
            "Mes 4    65\n",
            "Name: Patricia, dtype: int64\n"
          ]
        }
      ],
      "source": [
        "informacion_patricia = df_peso.Patricia\n",
        "\n",
        "print(\"Información de Patricia:\")\n",
        "print(informacion_patricia)"
      ]
    },
    {
      "cell_type": "markdown",
      "id": "ddc61884-7689-47b4-acad-14c07386226c",
      "metadata": {
        "id": "ddc61884-7689-47b4-acad-14c07386226c"
      },
      "source": [
        "##### Loc y iloc\n",
        "\n",
        "Selecciona la información del Mes1 usando Loc"
      ]
    },
    {
      "cell_type": "code",
      "execution_count": 122,
      "id": "1133eeb0-6a7f-4ee9-aa19-1b5d69e9aba9",
      "metadata": {
        "colab": {
          "base_uri": "https://localhost:8080/"
        },
        "id": "1133eeb0-6a7f-4ee9-aa19-1b5d69e9aba9",
        "outputId": "5c2b84b9-ded0-46f0-9504-b70e5b042d09"
      },
      "outputs": [
        {
          "output_type": "stream",
          "name": "stdout",
          "text": [
            "Información del Mes 1:\n",
            "Vanesa      68\n",
            "Kevin       89\n",
            "Fernanda    59\n",
            "Patricia    70\n",
            "Name: Mes 1, dtype: int64\n"
          ]
        }
      ],
      "source": [
        "informacion_mes1 = df_peso.loc['Mes 1']\n",
        "\n",
        "print(\"Información del Mes 1:\")\n",
        "print(informacion_mes1)"
      ]
    },
    {
      "cell_type": "markdown",
      "id": "43b4a2a9-021f-461f-96c5-a711cd27354d",
      "metadata": {
        "id": "43b4a2a9-021f-461f-96c5-a711cd27354d"
      },
      "source": [
        "Ahora solo la fila 1 usando iloc"
      ]
    },
    {
      "cell_type": "code",
      "execution_count": 123,
      "id": "77d9df78-af24-4652-bade-bf87cbbafd10",
      "metadata": {
        "colab": {
          "base_uri": "https://localhost:8080/"
        },
        "id": "77d9df78-af24-4652-bade-bf87cbbafd10",
        "outputId": "eeee68b5-8070-445a-b20c-9229b06ebd51"
      },
      "outputs": [
        {
          "output_type": "stream",
          "name": "stdout",
          "text": [
            "Información de la fila 1 (Mes 2):\n",
            "Vanesa      67\n",
            "Kevin       89\n",
            "Fernanda    60\n",
            "Patricia    68\n",
            "Name: Mes 2, dtype: int64\n"
          ]
        }
      ],
      "source": [
        "informacion_fila_1 = df_peso.iloc[1]\n",
        "\n",
        "print(\"Información de la fila 1 (Mes 2):\")\n",
        "print(informacion_fila_1)\n"
      ]
    },
    {
      "cell_type": "markdown",
      "id": "e41971f3-a6cb-4dd9-91a3-58d240d8baa4",
      "metadata": {
        "id": "e41971f3-a6cb-4dd9-91a3-58d240d8baa4"
      },
      "source": [
        "Ahora del Mes 1 al Mes 3 usando loc"
      ]
    },
    {
      "cell_type": "code",
      "execution_count": 125,
      "id": "0aead456-79b0-4de7-895b-064466924796",
      "metadata": {
        "colab": {
          "base_uri": "https://localhost:8080/"
        },
        "id": "0aead456-79b0-4de7-895b-064466924796",
        "outputId": "142078f3-5d85-454e-9930-32bdc05ebe23"
      },
      "outputs": [
        {
          "output_type": "stream",
          "name": "stdout",
          "text": [
            "Información del Mes 1 al Mes 3:\n",
            "       Vanesa  Kevin  Fernanda  Patricia\n",
            "Mes 1      68     89        59        70\n",
            "Mes 2      67     89        60        68\n",
            "Mes 3      66     90        60        67\n"
          ]
        }
      ],
      "source": [
        "informacion_meses_1_a_3 = df_peso.loc['Mes 1':'Mes 3']\n",
        "\n",
        "print(\"Información del Mes 1 al Mes 3:\")\n",
        "print(informacion_meses_1_a_3)"
      ]
    },
    {
      "cell_type": "markdown",
      "id": "f3c15123-91f2-4e18-be70-ea286393715b",
      "metadata": {
        "id": "f3c15123-91f2-4e18-be70-ea286393715b"
      },
      "source": [
        "Saca filas especificas (mes 1 y 3) usando loc"
      ]
    },
    {
      "cell_type": "code",
      "execution_count": 126,
      "id": "f55a53bb-ea3e-4800-a10f-a1d2526ce6d7",
      "metadata": {
        "colab": {
          "base_uri": "https://localhost:8080/"
        },
        "id": "f55a53bb-ea3e-4800-a10f-a1d2526ce6d7",
        "outputId": "c66e3604-30b2-4ca0-f617-af087420ae35"
      },
      "outputs": [
        {
          "output_type": "stream",
          "name": "stdout",
          "text": [
            "Información de los Meses 1 y 3:\n",
            "       Vanesa  Kevin  Fernanda  Patricia\n",
            "Mes 1      68     89        59        70\n",
            "Mes 3      66     90        60        67\n"
          ]
        }
      ],
      "source": [
        "informacion_meses_1_y_3 = df_peso.loc[['Mes 1', 'Mes 3']]\n",
        "\n",
        "print(\"Información de los Meses 1 y 3:\")\n",
        "print(informacion_meses_1_y_3)"
      ]
    },
    {
      "cell_type": "markdown",
      "id": "047a7464-3cc9-4a78-8f91-6eab1f4ebea1",
      "metadata": {
        "id": "047a7464-3cc9-4a78-8f91-6eab1f4ebea1"
      },
      "source": [
        "Y ahora los Meses 2 y 3 de Vanesa y Patricia solamente con loc"
      ]
    },
    {
      "cell_type": "code",
      "execution_count": 127,
      "id": "de605887-1a1b-4443-ab51-34ccabc0da62",
      "metadata": {
        "colab": {
          "base_uri": "https://localhost:8080/"
        },
        "id": "de605887-1a1b-4443-ab51-34ccabc0da62",
        "outputId": "b69485bc-688e-4893-ac0e-5f559521c8ed"
      },
      "outputs": [
        {
          "output_type": "stream",
          "name": "stdout",
          "text": [
            "Información de Vanesa y Patricia en los Meses 2 y 3:\n",
            "       Vanesa  Patricia\n",
            "Mes 2      67        68\n",
            "Mes 3      66        67\n"
          ]
        }
      ],
      "source": [
        "informacion_vanesa_patricia_meses_2_3 = df_peso.loc[['Mes 2', 'Mes 3'], ['Vanesa', 'Patricia']]\n",
        "\n",
        "\n",
        "print(\"Información de Vanesa y Patricia en los Meses 2 y 3:\")\n",
        "print(informacion_vanesa_patricia_meses_2_3)"
      ]
    },
    {
      "cell_type": "markdown",
      "id": "dff5c389-8633-4f16-bb42-e11a3f1430a1",
      "metadata": {
        "id": "dff5c389-8633-4f16-bb42-e11a3f1430a1"
      },
      "source": [
        "##### Indices Booleanos\n",
        "\n",
        "Dime los pesos mayores a 70kg en la tabla"
      ]
    },
    {
      "cell_type": "code",
      "execution_count": 128,
      "id": "d3b29ad2-ac97-49fa-9c0c-1c0521dffd22",
      "metadata": {
        "colab": {
          "base_uri": "https://localhost:8080/"
        },
        "id": "d3b29ad2-ac97-49fa-9c0c-1c0521dffd22",
        "outputId": "f0cd2dbe-7e4a-4a87-f0db-ad1d8a7b5449"
      },
      "outputs": [
        {
          "output_type": "stream",
          "name": "stdout",
          "text": [
            "Pesos mayores a 70kg:\n",
            "       Vanesa  Kevin  Fernanda  Patricia\n",
            "Mes 1     NaN     89       NaN       NaN\n",
            "Mes 2     NaN     89       NaN       NaN\n",
            "Mes 3     NaN     90       NaN       NaN\n",
            "Mes 4     NaN     88       NaN       NaN\n"
          ]
        }
      ],
      "source": [
        "pesos_mayores_a_70 = df_peso[df_peso > 70]\n",
        "\n",
        "print(\"Pesos mayores a 70kg:\")\n",
        "print(pesos_mayores_a_70)"
      ]
    },
    {
      "cell_type": "markdown",
      "id": "57e29244-e5a0-4ff1-8fb0-a1722694f8e1",
      "metadata": {
        "id": "57e29244-e5a0-4ff1-8fb0-a1722694f8e1"
      },
      "source": [
        "Y ahora los pesos mayores a 65kg y menores a 80kg"
      ]
    },
    {
      "cell_type": "code",
      "execution_count": 129,
      "id": "1f2f7128-8878-4fe7-a0be-7cf802513daf",
      "metadata": {
        "colab": {
          "base_uri": "https://localhost:8080/"
        },
        "id": "1f2f7128-8878-4fe7-a0be-7cf802513daf",
        "outputId": "cbe68a4c-b25e-46f9-9758-9a7998a6170c"
      },
      "outputs": [
        {
          "output_type": "stream",
          "name": "stdout",
          "text": [
            "Pesos mayores a 65kg y menores a 80kg:\n",
            "       Vanesa  Kevin  Fernanda  Patricia\n",
            "Mes 1    68.0    NaN       NaN      70.0\n",
            "Mes 2    67.0    NaN       NaN      68.0\n",
            "Mes 3    66.0    NaN       NaN      67.0\n",
            "Mes 4     NaN    NaN       NaN       NaN\n"
          ]
        }
      ],
      "source": [
        "pesos_entre_65_y_80 = df_peso[(df_peso > 65) & (df_peso < 80)]\n",
        "\n",
        "\n",
        "print(\"Pesos mayores a 65kg y menores a 80kg:\")\n",
        "print(pesos_entre_65_y_80)\n"
      ]
    },
    {
      "cell_type": "markdown",
      "id": "90c14bd6-1e0b-4075-aac5-4b535f422e5b",
      "metadata": {
        "id": "90c14bd6-1e0b-4075-aac5-4b535f422e5b"
      },
      "source": [
        "##### Accesar una celda especifica de un Dataframe\n",
        "\n",
        "Que pasa si solo queremos cuanto pesaba Patricia en el mes 3? Usa at"
      ]
    },
    {
      "cell_type": "code",
      "execution_count": 130,
      "id": "1bb262d0-6d83-4802-aadf-dbac198386fa",
      "metadata": {
        "colab": {
          "base_uri": "https://localhost:8080/"
        },
        "id": "1bb262d0-6d83-4802-aadf-dbac198386fa",
        "outputId": "cc7ea3d8-599c-4012-f049-665bc0fafe69"
      },
      "outputs": [
        {
          "output_type": "stream",
          "name": "stdout",
          "text": [
            "Peso de Patricia en el Mes 3:\n",
            "67\n"
          ]
        }
      ],
      "source": [
        "peso_patricia_mes3 = df_peso.at['Mes 3', 'Patricia']\n",
        "\n",
        "print(\"Peso de Patricia en el Mes 3:\")\n",
        "print(peso_patricia_mes3)\n"
      ]
    },
    {
      "cell_type": "markdown",
      "id": "21bc424c-ee80-447b-8473-6bf8a8f4cf16",
      "metadata": {
        "id": "21bc424c-ee80-447b-8473-6bf8a8f4cf16"
      },
      "source": [
        "Resulta que Kevin en realidad pesaba 85kg en el mes 4, cambia su valor usando at"
      ]
    },
    {
      "cell_type": "code",
      "execution_count": 131,
      "id": "47135819-af97-4cea-bb7a-9483bf8cf3ec",
      "metadata": {
        "id": "47135819-af97-4cea-bb7a-9483bf8cf3ec"
      },
      "outputs": [],
      "source": [
        "df_peso.at['Mes 4', 'Kevin'] = 85"
      ]
    },
    {
      "cell_type": "code",
      "execution_count": 132,
      "id": "f7886329-4b1d-467d-a71b-53f8ca53ca0f",
      "metadata": {
        "colab": {
          "base_uri": "https://localhost:8080/"
        },
        "id": "f7886329-4b1d-467d-a71b-53f8ca53ca0f",
        "outputId": "a1ce638b-9505-4cdf-c708-159b65ab4056"
      },
      "outputs": [
        {
          "output_type": "stream",
          "name": "stdout",
          "text": [
            "Dataframe actualizado:\n",
            "       Vanesa  Kevin  Fernanda  Patricia\n",
            "Mes 1      68     89        59        70\n",
            "Mes 2      67     89        60        68\n",
            "Mes 3      66     90        60        67\n",
            "Mes 4      65     85        62        65\n"
          ]
        }
      ],
      "source": [
        "print(\"Dataframe actualizado:\")\n",
        "print(df_peso)"
      ]
    },
    {
      "cell_type": "markdown",
      "id": "3d2c9477-5a2d-4c10-9e3d-a95ffa60941b",
      "metadata": {
        "id": "3d2c9477-5a2d-4c10-9e3d-a95ffa60941b"
      },
      "source": [
        "##### Estádistica descriptiva\n",
        "\n",
        "Puedes usar el metodo **Describe** para sacar todas las estadisticas del dataframe"
      ]
    },
    {
      "cell_type": "code",
      "execution_count": 133,
      "id": "99a4bb9a-8837-4142-8a73-bca6cd941204",
      "metadata": {
        "colab": {
          "base_uri": "https://localhost:8080/"
        },
        "id": "99a4bb9a-8837-4142-8a73-bca6cd941204",
        "outputId": "4e060ecc-7fc2-40e4-8f56-f3073c917dbb"
      },
      "outputs": [
        {
          "output_type": "stream",
          "name": "stdout",
          "text": [
            "Estadísticas descriptivas del dataframe:\n",
            "          Vanesa      Kevin   Fernanda   Patricia\n",
            "count   4.000000   4.000000   4.000000   4.000000\n",
            "mean   66.500000  88.250000  60.250000  67.500000\n",
            "std     1.290994   2.217356   1.258306   2.081666\n",
            "min    65.000000  85.000000  59.000000  65.000000\n",
            "25%    65.750000  88.000000  59.750000  66.500000\n",
            "50%    66.500000  89.000000  60.000000  67.500000\n",
            "75%    67.250000  89.250000  60.500000  68.500000\n",
            "max    68.000000  90.000000  62.000000  70.000000\n"
          ]
        }
      ],
      "source": [
        "estadisticas = df_peso.describe()\n",
        "\n",
        "print(\"Estadísticas descriptivas del dataframe:\")\n",
        "print(estadisticas)\n"
      ]
    },
    {
      "cell_type": "markdown",
      "id": "c398e7ad-c0c7-4b91-be05-1afb9a28b2cc",
      "metadata": {
        "id": "c398e7ad-c0c7-4b91-be05-1afb9a28b2cc"
      },
      "source": [
        "También puedes cambiar la cantidad de decimales usando **Precision**"
      ]
    },
    {
      "cell_type": "code",
      "source": [
        "estadisticas = df_peso.describe()\n",
        "\n",
        "estadisticas_redondeadas = estadisticas.round(2)\n",
        "\n",
        "print(\"Estadísticas descriptivas con 2 decimales:\")\n",
        "print(estadisticas_redondeadas)\n"
      ],
      "metadata": {
        "colab": {
          "base_uri": "https://localhost:8080/"
        },
        "id": "1kN2MfLM3BdS",
        "outputId": "116a008d-fac4-4135-afd0-509ae4ca662d"
      },
      "id": "1kN2MfLM3BdS",
      "execution_count": 138,
      "outputs": [
        {
          "output_type": "stream",
          "name": "stdout",
          "text": [
            "Estadísticas descriptivas con 2 decimales:\n",
            "       Vanesa  Kevin  Fernanda  Patricia\n",
            "count    4.00   4.00      4.00      4.00\n",
            "mean    66.50  88.25     60.25     67.50\n",
            "std      1.29   2.22      1.26      2.08\n",
            "min     65.00  85.00     59.00     65.00\n",
            "25%     65.75  88.00     59.75     66.50\n",
            "50%     66.50  89.00     60.00     67.50\n",
            "75%     67.25  89.25     60.50     68.50\n",
            "max     68.00  90.00     62.00     70.00\n"
          ]
        }
      ]
    },
    {
      "cell_type": "markdown",
      "id": "62e66306-03f4-443a-917e-f3d10a1e7603",
      "metadata": {
        "id": "62e66306-03f4-443a-917e-f3d10a1e7603"
      },
      "source": [
        "Y también se pueden aplicar los metodos de estadistica descriptiva individuales como mean"
      ]
    },
    {
      "cell_type": "code",
      "execution_count": 139,
      "id": "81950ce6-bf4a-4d18-8de5-5a58d24c64ca",
      "metadata": {
        "colab": {
          "base_uri": "https://localhost:8080/"
        },
        "id": "81950ce6-bf4a-4d18-8de5-5a58d24c64ca",
        "outputId": "b1f58ee7-bb32-466f-d685-a97a856a5530"
      },
      "outputs": [
        {
          "output_type": "stream",
          "name": "stdout",
          "text": [
            "\n",
            "Máximo de cada columna:\n",
            "Vanesa      68\n",
            "Kevin       90\n",
            "Fernanda    62\n",
            "Patricia    70\n",
            "dtype: int64\n"
          ]
        }
      ],
      "source": [
        "maximo = df_peso.max()\n",
        "print(\"\\nMáximo de cada columna:\")\n",
        "print(maximo)"
      ]
    },
    {
      "cell_type": "markdown",
      "id": "467812ad-6fc3-4458-908b-4033b8d8e1b5",
      "metadata": {
        "id": "467812ad-6fc3-4458-908b-4033b8d8e1b5"
      },
      "source": [
        "##### Transponer\n",
        "\n",
        "Si quisieramos voltear el dataframe, tendríamos que hacer el método T"
      ]
    },
    {
      "cell_type": "code",
      "execution_count": 140,
      "id": "c7e2e759-2640-4b2d-8b39-0cd8c411b222",
      "metadata": {
        "colab": {
          "base_uri": "https://localhost:8080/"
        },
        "id": "c7e2e759-2640-4b2d-8b39-0cd8c411b222",
        "outputId": "60199aa0-4329-4a9a-f1ca-b7fd5b71050f"
      },
      "outputs": [
        {
          "output_type": "stream",
          "name": "stdout",
          "text": [
            "Dataframe transpuesto:\n",
            "          Mes 1  Mes 2  Mes 3  Mes 4\n",
            "Vanesa       68     67     66     65\n",
            "Kevin        89     89     90     85\n",
            "Fernanda     59     60     60     62\n",
            "Patricia     70     68     67     65\n"
          ]
        }
      ],
      "source": [
        "df_transpuesto = df_peso.T\n",
        "\n",
        "print(\"Dataframe transpuesto:\")\n",
        "print(df_transpuesto)\n"
      ]
    },
    {
      "cell_type": "markdown",
      "id": "6e48f3ca-e4a7-41ae-8d72-ad5ad28645d8",
      "metadata": {
        "id": "6e48f3ca-e4a7-41ae-8d72-ad5ad28645d8"
      },
      "source": [
        "Y ahora eso nos ayudaría a sacar los estadísticos para los meses en vez de para las personas"
      ]
    },
    {
      "cell_type": "code",
      "execution_count": 141,
      "id": "ce0909d6-6404-499c-aa41-866a88d836dd",
      "metadata": {
        "colab": {
          "base_uri": "https://localhost:8080/"
        },
        "id": "ce0909d6-6404-499c-aa41-866a88d836dd",
        "outputId": "b5e843c1-3a5f-4a98-9735-282e27f985b5"
      },
      "outputs": [
        {
          "output_type": "stream",
          "name": "stdout",
          "text": [
            "Estadísticas descriptivas para los meses:\n",
            "          Mes 1      Mes 2      Mes 3     Mes 4\n",
            "count   4.00000   4.000000   4.000000   4.00000\n",
            "mean   71.50000  71.000000  70.750000  69.25000\n",
            "std    12.60952  12.516656  13.200379  10.59481\n",
            "min    59.00000  60.000000  60.000000  62.00000\n",
            "25%    65.75000  65.250000  64.500000  64.25000\n",
            "50%    69.00000  67.500000  66.500000  65.00000\n",
            "75%    74.75000  73.250000  72.750000  70.00000\n",
            "max    89.00000  89.000000  90.000000  85.00000\n"
          ]
        }
      ],
      "source": [
        "df_transpuesto = df_peso.T\n",
        "\n",
        "estadisticas_meses = df_transpuesto.describe()\n",
        "\n",
        "print(\"Estadísticas descriptivas para los meses:\")\n",
        "print(estadisticas_meses)\n"
      ]
    },
    {
      "cell_type": "markdown",
      "id": "8066a37e-b1d7-43f9-ab02-2fdc92eb76fb",
      "metadata": {
        "id": "8066a37e-b1d7-43f9-ab02-2fdc92eb76fb"
      },
      "source": [
        "Y el peso promedio por mes de nuestra gente"
      ]
    },
    {
      "cell_type": "code",
      "execution_count": 142,
      "id": "64970fa2-ceed-45c3-a87d-dda435d321f1",
      "metadata": {
        "colab": {
          "base_uri": "https://localhost:8080/"
        },
        "id": "64970fa2-ceed-45c3-a87d-dda435d321f1",
        "outputId": "c39bd626-e916-4e37-ab22-d3696b062b23"
      },
      "outputs": [
        {
          "output_type": "stream",
          "name": "stdout",
          "text": [
            "Peso promedio por mes:\n",
            "Mes 1    71.50\n",
            "Mes 2    71.00\n",
            "Mes 3    70.75\n",
            "Mes 4    69.25\n",
            "dtype: float64\n"
          ]
        }
      ],
      "source": [
        "promedio_pesos_por_mes = df_transpuesto.mean()\n",
        "\n",
        "\n",
        "print(\"Peso promedio por mes:\")\n",
        "print(promedio_pesos_por_mes)\n"
      ]
    },
    {
      "cell_type": "markdown",
      "id": "b49b3eee-2eae-409c-8977-e731035f11ce",
      "metadata": {
        "id": "b49b3eee-2eae-409c-8977-e731035f11ce"
      },
      "source": [
        "##### Ordenar el Dataframe\n",
        "\n",
        "Ahora vamos a arreglar el dataframe por fila, con los indices en orden descendente"
      ]
    },
    {
      "cell_type": "code",
      "execution_count": 143,
      "id": "3e95f594-f9b0-4ba5-a9ca-63485e8197af",
      "metadata": {
        "colab": {
          "base_uri": "https://localhost:8080/"
        },
        "id": "3e95f594-f9b0-4ba5-a9ca-63485e8197af",
        "outputId": "f1b1ca36-a2e4-46a8-c493-a8f668bbe23f"
      },
      "outputs": [
        {
          "output_type": "stream",
          "name": "stdout",
          "text": [
            "Dataframe ordenado por índices en orden descendente:\n",
            "       Vanesa  Kevin  Fernanda  Patricia\n",
            "Mes 4      65     85        62        65\n",
            "Mes 3      66     90        60        67\n",
            "Mes 2      67     89        60        68\n",
            "Mes 1      68     89        59        70\n"
          ]
        }
      ],
      "source": [
        "df_peso_ordenado = df_peso.sort_index(ascending=False)\n",
        "\n",
        "\n",
        "print(\"Dataframe ordenado por índices en orden descendente:\")\n",
        "print(df_peso_ordenado)\n"
      ]
    },
    {
      "cell_type": "markdown",
      "id": "69f1fef4-c2e4-4930-b82d-8b1f8bd73c48",
      "metadata": {
        "id": "69f1fef4-c2e4-4930-b82d-8b1f8bd73c48"
      },
      "source": [
        "Las columnas en orden ascendente"
      ]
    },
    {
      "cell_type": "code",
      "execution_count": 144,
      "id": "82e908f9-97ea-48f0-9b53-7340985b9566",
      "metadata": {
        "colab": {
          "base_uri": "https://localhost:8080/"
        },
        "id": "82e908f9-97ea-48f0-9b53-7340985b9566",
        "outputId": "3bdfbfcd-0e9f-46e8-e608-a0653f7680a3"
      },
      "outputs": [
        {
          "output_type": "stream",
          "name": "stdout",
          "text": [
            "       Fernanda  Kevin  Patricia  Vanesa\n",
            "Mes 1        59     89        70      68\n",
            "Mes 2        60     89        68      67\n",
            "Mes 3        60     90        67      66\n",
            "Mes 4        62     85        65      65\n"
          ]
        }
      ],
      "source": [
        "df_peso_ordenado_columnas = df_peso.sort_index(axis=1, ascending=True)\n",
        "\n",
        "print(df_peso_ordenado_columnas)\n"
      ]
    },
    {
      "cell_type": "markdown",
      "id": "29f1f219-b455-4984-ac22-864e7c088638",
      "metadata": {
        "id": "29f1f219-b455-4984-ac22-864e7c088638"
      },
      "source": [
        "Y también se vale ordenar los valores según una fila o columna especifica.  El siguiente código ordena de forma descendente los datos del DataFrame con respecto\n",
        "a los valores del Mes 1."
      ]
    },
    {
      "cell_type": "code",
      "execution_count": 147,
      "id": "cf6c2851-8e01-4996-a057-c903645feb59",
      "metadata": {
        "colab": {
          "base_uri": "https://localhost:8080/"
        },
        "id": "cf6c2851-8e01-4996-a057-c903645feb59",
        "outputId": "7217510e-4de9-4d63-f1c2-199f734eefac"
      },
      "outputs": [
        {
          "output_type": "stream",
          "name": "stdout",
          "text": [
            "          Mes 1  Mes 2  Mes 3  Mes 4\n",
            "Kevin        89     89     90     85\n",
            "Patricia     70     68     67     65\n",
            "Vanesa       68     67     66     65\n",
            "Fernanda     59     60     60     62\n"
          ]
        }
      ],
      "source": [
        "df_peso_transpuesto = df_peso.T\n",
        "df_peso_ordenado_mes1 = df_peso_transpuesto.sort_values(by=\"Mes 1\", ascending=False)\n",
        "print(df_peso_ordenado_mes1)\n"
      ]
    }
  ],
  "metadata": {
    "kernelspec": {
      "display_name": "Python 3",
      "language": "python",
      "name": "python3"
    },
    "language_info": {
      "codemirror_mode": {
        "name": "ipython",
        "version": 3
      },
      "file_extension": ".py",
      "mimetype": "text/x-python",
      "name": "python",
      "nbconvert_exporter": "python",
      "pygments_lexer": "ipython3",
      "version": "3.8.8"
    },
    "colab": {
      "provenance": [],
      "collapsed_sections": [
        "bff5b478-ff7c-49cd-bc26-438dafb70e07",
        "cafa5e49-63a5-4719-b986-b9c05504efae",
        "fc6ab829-7417-43f3-942b-a28077f414bb",
        "446be823-0988-4ba6-b774-dd4be5653627",
        "da94bc72-a01b-4e21-a69d-aea7ad822baf"
      ]
    }
  },
  "nbformat": 4,
  "nbformat_minor": 5
}