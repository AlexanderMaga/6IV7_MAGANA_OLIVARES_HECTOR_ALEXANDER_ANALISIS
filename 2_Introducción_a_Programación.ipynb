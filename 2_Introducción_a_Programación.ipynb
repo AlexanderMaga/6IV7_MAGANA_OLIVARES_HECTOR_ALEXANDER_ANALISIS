{
  "cells": [
    {
      "cell_type": "markdown",
      "id": "107f48ee-52a0-4c31-8616-62f0c6d08c44",
      "metadata": {
        "id": "107f48ee-52a0-4c31-8616-62f0c6d08c44"
      },
      "source": [
        "# 2.-Introducción a la Programación con Python"
      ]
    },
    {
      "cell_type": "markdown",
      "id": "b4b3f36d-d890-4bbf-9a7d-d3b41fac5f28",
      "metadata": {
        "id": "b4b3f36d-d890-4bbf-9a7d-d3b41fac5f28"
      },
      "source": [
        "## 2.2.- Operadores Aritméticos"
      ]
    },
    {
      "cell_type": "markdown",
      "id": "c4ef828e-4186-407b-ad79-ba97eed7c741",
      "metadata": {
        "id": "c4ef828e-4186-407b-ad79-ba97eed7c741"
      },
      "source": [
        "### 2.2.1.- Variables y asignaciones"
      ]
    },
    {
      "cell_type": "markdown",
      "id": "ea41ab63-e16c-49b9-83c6-d596c6d5bf1f",
      "metadata": {
        "id": "ea41ab63-e16c-49b9-83c6-d596c6d5bf1f"
      },
      "source": [
        "Ya has usado iPython de calculadora con expresiones como sumas"
      ]
    },
    {
      "cell_type": "code",
      "execution_count": 23,
      "id": "41ca1908-31b9-4400-bde9-859935737dbf",
      "metadata": {
        "colab": {
          "base_uri": "https://localhost:8080/"
        },
        "id": "41ca1908-31b9-4400-bde9-859935737dbf",
        "outputId": "1ae33482-3ac0-491c-f82e-ef63f7b4f41e"
      },
      "outputs": [
        {
          "output_type": "stream",
          "name": "stdout",
          "text": [
            "22\n"
          ]
        }
      ],
      "source": [
        "z= 12\n",
        "y= 10\n",
        "q= z+y\n",
        "print (q)"
      ]
    },
    {
      "cell_type": "markdown",
      "id": "67de4824-f60b-42ad-94c0-88ef30c200f7",
      "metadata": {
        "id": "67de4824-f60b-42ad-94c0-88ef30c200f7"
      },
      "source": [
        "Creemos una variable w que valga 39"
      ]
    },
    {
      "cell_type": "code",
      "execution_count": 24,
      "id": "8bc4f8d0-21dc-49ab-9dcc-3f3cff6dcad1",
      "metadata": {
        "id": "8bc4f8d0-21dc-49ab-9dcc-3f3cff6dcad1"
      },
      "outputs": [],
      "source": [
        "w = 39"
      ]
    },
    {
      "cell_type": "code",
      "execution_count": 25,
      "id": "7bbd9cf7-1155-4e34-a91a-aa24460eb51f",
      "metadata": {
        "colab": {
          "base_uri": "https://localhost:8080/"
        },
        "id": "7bbd9cf7-1155-4e34-a91a-aa24460eb51f",
        "outputId": "731d88fe-db9e-41f5-fa40-a80e42c3bd99"
      },
      "outputs": [
        {
          "output_type": "stream",
          "name": "stdout",
          "text": [
            "39\n"
          ]
        }
      ],
      "source": [
        "print (w)"
      ]
    },
    {
      "cell_type": "markdown",
      "id": "9c91670c-5e61-498d-98b5-ffed9823c035",
      "metadata": {
        "id": "9c91670c-5e61-498d-98b5-ffed9823c035"
      },
      "source": [
        "Es útil realizar estas declaraciones, ya que las declaraciones permiten almacenar valores que pueden ser útiles posteriormente. Por ejemplo:"
      ]
    },
    {
      "cell_type": "code",
      "execution_count": 26,
      "id": "f99306ff-a0fa-4337-b651-0153f28dd099",
      "metadata": {
        "colab": {
          "base_uri": "https://localhost:8080/"
        },
        "id": "f99306ff-a0fa-4337-b651-0153f28dd099",
        "outputId": "c6ce7347-f9f0-4da4-9e7c-9f1e14ea7dfe"
      },
      "outputs": [
        {
          "output_type": "stream",
          "name": "stdout",
          "text": [
            "11\n"
          ]
        }
      ],
      "source": [
        "i= 9+ 2\n",
        "print (i)"
      ]
    },
    {
      "cell_type": "code",
      "execution_count": 27,
      "id": "aea3bd86-29ed-4b4e-8a54-0d3c96ad348b",
      "metadata": {
        "id": "aea3bd86-29ed-4b4e-8a54-0d3c96ad348b"
      },
      "outputs": [],
      "source": [
        "z= 7"
      ]
    },
    {
      "cell_type": "markdown",
      "id": "c4545a41-a888-4f8f-abd8-2db07631a346",
      "metadata": {
        "id": "c4545a41-a888-4f8f-abd8-2db07631a346"
      },
      "source": [
        "Continuando con esta forma de declarar las variables, también podemos asignar"
      ]
    },
    {
      "cell_type": "code",
      "execution_count": 28,
      "id": "cbf482f5-cbbd-4ea4-bc2c-99b6e62be741",
      "metadata": {
        "id": "cbf482f5-cbbd-4ea4-bc2c-99b6e62be741"
      },
      "outputs": [],
      "source": [
        "division = w/z"
      ]
    },
    {
      "cell_type": "code",
      "execution_count": 29,
      "id": "9ba3b30a-b0e7-4312-9978-77743e51a615",
      "metadata": {
        "colab": {
          "base_uri": "https://localhost:8080/"
        },
        "id": "9ba3b30a-b0e7-4312-9978-77743e51a615",
        "outputId": "a6fcf9f5-f291-4fcb-dcaf-63c596e79523"
      },
      "outputs": [
        {
          "output_type": "stream",
          "name": "stdout",
          "text": [
            "5.571428571428571\n"
          ]
        }
      ],
      "source": [
        "print(division)"
      ]
    },
    {
      "cell_type": "markdown",
      "id": "d115b081-5d07-49e9-b258-92ff1171045d",
      "metadata": {
        "id": "d115b081-5d07-49e9-b258-92ff1171045d"
      },
      "source": [
        "Observa lo que ocurre si escribes"
      ]
    },
    {
      "cell_type": "code",
      "execution_count": 30,
      "id": "9fb52bea-5cd2-4da1-a8bd-36271b55caa3",
      "metadata": {
        "colab": {
          "base_uri": "https://localhost:8080/",
          "height": 141
        },
        "id": "9fb52bea-5cd2-4da1-a8bd-36271b55caa3",
        "outputId": "00c58f25-2b68-4e13-9ae1-22dff8eac26b"
      },
      "outputs": [
        {
          "output_type": "error",
          "ename": "NameError",
          "evalue": "name 'Division' is not defined",
          "traceback": [
            "\u001b[0;31m---------------------------------------------------------------------------\u001b[0m",
            "\u001b[0;31mNameError\u001b[0m                                 Traceback (most recent call last)",
            "\u001b[0;32m<ipython-input-30-ee4e0b8d2381>\u001b[0m in \u001b[0;36m<cell line: 0>\u001b[0;34m()\u001b[0m\n\u001b[0;32m----> 1\u001b[0;31m \u001b[0mprint\u001b[0m\u001b[0;34m(\u001b[0m\u001b[0mDivision\u001b[0m \u001b[0;34m)\u001b[0m\u001b[0;34m\u001b[0m\u001b[0;34m\u001b[0m\u001b[0m\n\u001b[0m",
            "\u001b[0;31mNameError\u001b[0m: name 'Division' is not defined"
          ]
        }
      ],
      "source": [
        "print(Division )"
      ]
    },
    {
      "cell_type": "markdown",
      "id": "10b311be-a87f-48fe-ac68-fd758a6531d5",
      "metadata": {
        "id": "10b311be-a87f-48fe-ac68-fd758a6531d5"
      },
      "source": [
        "¿De qué tipo es la variable división?. Teclea type(división)"
      ]
    },
    {
      "cell_type": "code",
      "execution_count": null,
      "id": "6f9311d2-bbe9-4fb5-8ed9-7391b69b344a",
      "metadata": {
        "id": "6f9311d2-bbe9-4fb5-8ed9-7391b69b344a"
      },
      "outputs": [],
      "source": [
        "type(division)"
      ]
    },
    {
      "cell_type": "markdown",
      "id": "a8787aa5-1a17-4584-895a-af65cc8caccc",
      "metadata": {
        "id": "a8787aa5-1a17-4584-895a-af65cc8caccc"
      },
      "source": [
        " Python reconoce a la variable w como un entero."
      ]
    },
    {
      "cell_type": "code",
      "execution_count": null,
      "id": "afe037f0-de37-41e2-953d-d844e0a80fda",
      "metadata": {
        "id": "afe037f0-de37-41e2-953d-d844e0a80fda"
      },
      "outputs": [],
      "source": [
        "type(w)"
      ]
    },
    {
      "cell_type": "markdown",
      "id": "005e7373-42db-4a0d-adfd-9bbce8142a24",
      "metadata": {
        "id": "005e7373-42db-4a0d-adfd-9bbce8142a24"
      },
      "source": [
        "#### Por tu cuenta\n",
        "\n",
        "Calcula la suma de 10.8, 12.2 y 0.2, guardala en una variable llamada b, y muestra la variable"
      ]
    },
    {
      "cell_type": "code",
      "execution_count": null,
      "id": "b311d94d-52f6-4118-a6aa-76bea95587ab",
      "metadata": {
        "id": "b311d94d-52f6-4118-a6aa-76bea95587ab"
      },
      "outputs": [],
      "source": [
        "b = 10.8 +12.2+0.2\n",
        "print(b)"
      ]
    },
    {
      "cell_type": "markdown",
      "id": "9465c9ba-b34b-429a-8881-36d24df64a7e",
      "metadata": {
        "id": "9465c9ba-b34b-429a-8881-36d24df64a7e"
      },
      "source": [
        "### 2.2.2.- Aritmetica"
      ]
    },
    {
      "cell_type": "markdown",
      "id": "7b42b218-4742-47d9-b736-e98261be0587",
      "metadata": {
        "id": "7b42b218-4742-47d9-b736-e98261be0587"
      },
      "source": [
        "##### Multiplicación\n",
        "\n",
        "Realiza un 7 * 4"
      ]
    },
    {
      "cell_type": "code",
      "execution_count": null,
      "id": "6b91ef2e-d2e0-4b02-8f26-0711925b0776",
      "metadata": {
        "id": "6b91ef2e-d2e0-4b02-8f26-0711925b0776"
      },
      "outputs": [],
      "source": [
        "a= 7*4\n",
        "print(a)"
      ]
    },
    {
      "cell_type": "markdown",
      "id": "6d23d001-7a4c-4145-b914-2f82ed77037a",
      "metadata": {
        "id": "6d23d001-7a4c-4145-b914-2f82ed77037a"
      },
      "source": [
        "##### Exponenciación\n",
        "\n",
        "Realiza un 2 ** 4"
      ]
    },
    {
      "cell_type": "code",
      "execution_count": null,
      "id": "9099f0a2-8c8a-43bb-89f7-1777ad5ffcad",
      "metadata": {
        "id": "9099f0a2-8c8a-43bb-89f7-1777ad5ffcad"
      },
      "outputs": [],
      "source": [
        "s= 2**4\n",
        "print(s)"
      ]
    },
    {
      "cell_type": "markdown",
      "id": "7221d3fd-6edd-4646-960e-5234eb1224cb",
      "metadata": {
        "id": "7221d3fd-6edd-4646-960e-5234eb1224cb"
      },
      "source": [
        "##### División Verdadera\n",
        "\n",
        "Divide 8/5"
      ]
    },
    {
      "cell_type": "code",
      "execution_count": null,
      "id": "956eaff7-044d-4321-9117-9c79838fdfe9",
      "metadata": {
        "id": "956eaff7-044d-4321-9117-9c79838fdfe9"
      },
      "outputs": [],
      "source": [
        "d=8/5\n",
        "print(d)"
      ]
    },
    {
      "cell_type": "markdown",
      "id": "acd82688-1da7-4d4b-8770-a2c8cf1a9959",
      "metadata": {
        "id": "acd82688-1da7-4d4b-8770-a2c8cf1a9959"
      },
      "source": [
        "##### División de piso\n",
        "\n",
        "Divide 20//6 - verás como te da un rsultado entero"
      ]
    },
    {
      "cell_type": "code",
      "execution_count": null,
      "id": "5bdd55d8-2a08-49b5-80bd-98c741b5b3a1",
      "metadata": {
        "id": "5bdd55d8-2a08-49b5-80bd-98c741b5b3a1"
      },
      "outputs": [],
      "source": [
        "f=20//6\n",
        "print(f)"
      ]
    },
    {
      "cell_type": "markdown",
      "id": "7c5a2f8a-d79d-40f6-a019-ac2ad4e176b8",
      "metadata": {
        "id": "7c5a2f8a-d79d-40f6-a019-ac2ad4e176b8"
      },
      "source": [
        "##### Restante\n",
        "\n",
        "Ahora obten el restante de dividir 26 / 8 usando el operador %"
      ]
    },
    {
      "cell_type": "code",
      "execution_count": null,
      "id": "06df6019-2880-42da-bc70-e8fe75b8085f",
      "metadata": {
        "id": "06df6019-2880-42da-bc70-e8fe75b8085f"
      },
      "outputs": [],
      "source": [
        "q=26%8\n",
        "print(q)"
      ]
    },
    {
      "cell_type": "markdown",
      "id": "7b682671-bc7b-4e34-8fe8-7b9034a43bc9",
      "metadata": {
        "id": "7b682671-bc7b-4e34-8fe8-7b9034a43bc9"
      },
      "source": [
        "##### División de piso\n",
        "\n",
        "Divide 20//6 - verás como te da un resultado entero"
      ]
    },
    {
      "cell_type": "code",
      "execution_count": null,
      "id": "e74bf267-cecf-4e6c-99ff-8e40b2aac32a",
      "metadata": {
        "id": "e74bf267-cecf-4e6c-99ff-8e40b2aac32a"
      },
      "outputs": [],
      "source": [
        "f=20//6\n",
        "print(f)"
      ]
    },
    {
      "cell_type": "markdown",
      "id": "3259cdcb-13a8-40c6-99fa-bd6611dabc99",
      "metadata": {
        "id": "3259cdcb-13a8-40c6-99fa-bd6611dabc99"
      },
      "source": [
        "##### Agrupación con parentesis\n",
        "\n",
        "Checa que python respeta la jerarquia de operaciones"
      ]
    },
    {
      "cell_type": "code",
      "execution_count": null,
      "id": "15f252d5-a478-49d9-b98e-01630d77d227",
      "metadata": {
        "id": "15f252d5-a478-49d9-b98e-01630d77d227"
      },
      "outputs": [],
      "source": [
        "r= ((2**2)+3)-2\n",
        "print(r)"
      ]
    },
    {
      "cell_type": "markdown",
      "id": "f280f822-c9b1-4c44-91a3-c6a18ee83f2b",
      "metadata": {
        "id": "f280f822-c9b1-4c44-91a3-c6a18ee83f2b"
      },
      "source": [
        "#### Por tu cuenta\n",
        "\n",
        "Evalua la expresión 3*(4-5) con y sin parentesis. Son los paréntesis redundantes?"
      ]
    },
    {
      "cell_type": "markdown",
      "id": "fc5d8121-3fa3-42e7-beb4-bee00ea356c4",
      "metadata": {
        "id": "fc5d8121-3fa3-42e7-beb4-bee00ea356c4"
      },
      "source": [
        "---"
      ]
    },
    {
      "cell_type": "markdown",
      "id": "fcbe6ca4-24fd-4150-b7bb-f870814b662e",
      "metadata": {
        "id": "fcbe6ca4-24fd-4150-b7bb-f870814b662e"
      },
      "source": [
        "## 2.3.- Función print, arreglos con comillas simples y dobles comillas"
      ]
    },
    {
      "cell_type": "markdown",
      "id": "d5b0476e-8651-4ade-acbe-5a03a0866865",
      "metadata": {
        "id": "d5b0476e-8651-4ade-acbe-5a03a0866865"
      },
      "source": [
        "### 2.3.1.- La función Print"
      ]
    },
    {
      "cell_type": "markdown",
      "id": "18ca616b-3a2c-4184-8381-3a5e6a970e8d",
      "metadata": {
        "id": "18ca616b-3a2c-4184-8381-3a5e6a970e8d"
      },
      "source": [
        "ejecuta el siguiente snippet\n",
        "\n",
        "**print(“Hoy aprenderé a usar la función print”)**"
      ]
    },
    {
      "cell_type": "code",
      "execution_count": 35,
      "id": "058c39e6-75ad-4a4a-b97c-44dc1d4bd4cc",
      "metadata": {
        "colab": {
          "base_uri": "https://localhost:8080/"
        },
        "id": "058c39e6-75ad-4a4a-b97c-44dc1d4bd4cc",
        "outputId": "5239e138-708d-493b-fec5-d98c702c103d"
      },
      "outputs": [
        {
          "output_type": "stream",
          "name": "stdout",
          "text": [
            "Hoy aprendere a usar la función print\n"
          ]
        }
      ],
      "source": [
        "print('Hoy aprendere a usar la función print')"
      ]
    },
    {
      "cell_type": "markdown",
      "id": "8269f4b5-ae18-416f-be14-a05d1da536e2",
      "metadata": {
        "id": "8269f4b5-ae18-416f-be14-a05d1da536e2"
      },
      "source": [
        "Ahora Ejecuta\n",
        "\n",
        "**Print(“Hoy aprenderé a usar la función print”)**"
      ]
    },
    {
      "cell_type": "code",
      "execution_count": 40,
      "id": "8100353f-2679-469d-b979-46a710dac3a0",
      "metadata": {
        "colab": {
          "base_uri": "https://localhost:8080/"
        },
        "id": "8100353f-2679-469d-b979-46a710dac3a0",
        "outputId": "29eb35b1-5416-43c2-a26e-13490193c6e4"
      },
      "outputs": [
        {
          "output_type": "stream",
          "name": "stdout",
          "text": [
            "Hoy aprenderé a usar la función print\n"
          ]
        }
      ],
      "source": [
        "Print('Hoy aprenderé a usar la función print')"
      ]
    },
    {
      "cell_type": "markdown",
      "id": "63a86fc8-6aee-4501-8474-4b11c0cdd7e6",
      "metadata": {
        "id": "63a86fc8-6aee-4501-8474-4b11c0cdd7e6"
      },
      "source": [
        "Por ejemplo, para declarar el arreglo\n",
        "Hoy aprenderé a usar la función ‘print’"
      ]
    },
    {
      "cell_type": "markdown",
      "id": "36f2a965-9b25-4353-9af0-ae233e25fbe8",
      "metadata": {
        "id": "36f2a965-9b25-4353-9af0-ae233e25fbe8"
      },
      "source": [
        "**print(“Hoy aprenderé a usar la función ‘print’”)**"
      ]
    },
    {
      "cell_type": "code",
      "execution_count": 42,
      "id": "45a00297-3508-4bf3-aa5b-dff48ff9fe2d",
      "metadata": {
        "colab": {
          "base_uri": "https://localhost:8080/"
        },
        "id": "45a00297-3508-4bf3-aa5b-dff48ff9fe2d",
        "outputId": "e533815b-e92f-4684-f733-5a2380c03dce"
      },
      "outputs": [
        {
          "output_type": "stream",
          "name": "stdout",
          "text": [
            "Hoy aprenderé a usar la función ‘print’\n"
          ]
        }
      ],
      "source": [
        "print('Hoy aprenderé a usar la función ‘print’')"
      ]
    },
    {
      "cell_type": "markdown",
      "id": "bde0dc8c-4eaf-4745-99f3-28da569395a3",
      "metadata": {
        "id": "bde0dc8c-4eaf-4745-99f3-28da569395a3"
      },
      "source": [
        "### 2.3.1.- Triples comillas\n",
        "\n",
        "Esto se resuelve utilizando dobles comillas"
      ]
    },
    {
      "cell_type": "code",
      "execution_count": 43,
      "id": "e0fdec45-8cb7-4be5-994c-87eef67685d9",
      "metadata": {
        "colab": {
          "base_uri": "https://localhost:8080/"
        },
        "id": "e0fdec45-8cb7-4be5-994c-87eef67685d9",
        "outputId": "169f31eb-1e44-4335-bc47-34c7eb0b0dfc"
      },
      "outputs": [
        {
          "output_type": "stream",
          "name": "stdout",
          "text": [
            "Hoy aprenderé a usar la función ‘print’\n"
          ]
        }
      ],
      "source": [
        "print('''Hoy aprenderé a usar la función ‘print’''')"
      ]
    },
    {
      "cell_type": "markdown",
      "id": "ea86c6b8-771a-4617-9fec-a93916e87a53",
      "metadata": {
        "id": "ea86c6b8-771a-4617-9fec-a93916e87a53"
      },
      "source": [
        "Esta diferencia será más obvia cuando trabajemos líneas de texto en el ambiente de JupyterLab.\n",
        "Otras opciones para insertar texto el prompt de Anaconda son\n",
        "\n",
        "**print(‘Hoy aprenderé’,’a usar’, ‘la función print’)**\n",
        "\n",
        "**print(‘Hoy aprenderé\\n a usar\\n la función print’)**\n",
        "\n",
        "\n",
        "print(‘También aprenderé a dividir \\\n",
        "\n",
        "…: líneas de texto cuando las expresiones \\\n",
        "\n",
        "…: sean demasiado largas’)"
      ]
    },
    {
      "cell_type": "markdown",
      "id": "da8ab0c5-ed69-491b-b0c3-b951eab1b304",
      "metadata": {
        "id": "da8ab0c5-ed69-491b-b0c3-b951eab1b304"
      },
      "source": [
        "Cuando requieras utilizar comillas dobles y sencillas en algún enunciado, por ejemplo\n",
        "\n",
        "Aprender ‘Python’, es realmente “sencillo”\n",
        "\n",
        "Es posible hacerlo utilizando triples comillas"
      ]
    },
    {
      "cell_type": "code",
      "execution_count": 44,
      "id": "610e6493-a12e-4519-a32e-a79194139457",
      "metadata": {
        "colab": {
          "base_uri": "https://localhost:8080/"
        },
        "id": "610e6493-a12e-4519-a32e-a79194139457",
        "outputId": "4c51ecb4-3970-43d1-9e28-b9a4fa9c9802"
      },
      "outputs": [
        {
          "output_type": "stream",
          "name": "stdout",
          "text": [
            "Hoy aprenderé a usar la función ‘print’\n"
          ]
        }
      ],
      "source": [
        "print('''Hoy aprenderé a usar la función ‘print’''')"
      ]
    },
    {
      "cell_type": "markdown",
      "id": "13741755-cfd3-4ced-bd60-8722bc73c0d2",
      "metadata": {
        "id": "13741755-cfd3-4ced-bd60-8722bc73c0d2"
      },
      "source": [
        "Con Python, puedes asignar a una variable un arreglo de caracteres\n",
        "\n",
        "**arreglo1=‘Hoy aprenderé a usar la función print’**"
      ]
    },
    {
      "cell_type": "code",
      "execution_count": 48,
      "id": "a825385d-73b8-4468-8bd3-594a5d7d6abe",
      "metadata": {
        "id": "a825385d-73b8-4468-8bd3-594a5d7d6abe"
      },
      "outputs": [],
      "source": [
        "arreglo1='Hoy aprenderé a usar la función print'"
      ]
    },
    {
      "cell_type": "code",
      "execution_count": 49,
      "id": "c4bd2820-8dc7-4cdc-9cec-4b0f2040c59d",
      "metadata": {
        "colab": {
          "base_uri": "https://localhost:8080/"
        },
        "id": "c4bd2820-8dc7-4cdc-9cec-4b0f2040c59d",
        "outputId": "c9c24516-3b9f-4f60-be72-61a9fd105ca0"
      },
      "outputs": [
        {
          "output_type": "stream",
          "name": "stdout",
          "text": [
            "Hoy aprenderé a usar la función print\n"
          ]
        }
      ],
      "source": [
        "print(arreglo1)"
      ]
    },
    {
      "cell_type": "markdown",
      "id": "3b14599d-02fb-4c28-8dfd-b27b01ee8e28",
      "metadata": {
        "id": "3b14599d-02fb-4c28-8dfd-b27b01ee8e28"
      },
      "source": [
        "Con estas herramientas, ya puedes mostrar los resultados de los cálculos en una forma más amigable\n",
        "\n",
        "Arma un programa que divida 2 variables y devuelva \"w elevado a la z da por resultado y\""
      ]
    },
    {
      "cell_type": "code",
      "execution_count": 50,
      "id": "6e2e6bd5-ccdc-4dad-9a3b-a98149839106",
      "metadata": {
        "id": "6e2e6bd5-ccdc-4dad-9a3b-a98149839106"
      },
      "outputs": [],
      "source": [
        "w= 5\n",
        "z= 3\n",
        "potencia = w**z"
      ]
    },
    {
      "cell_type": "code",
      "execution_count": 52,
      "id": "2a939657-8034-42dd-ab09-97046e3fcc19",
      "metadata": {
        "colab": {
          "base_uri": "https://localhost:8080/"
        },
        "id": "2a939657-8034-42dd-ab09-97046e3fcc19",
        "outputId": "3b72300f-6202-485d-f7df-8c8f69b2e167"
      },
      "outputs": [
        {
          "output_type": "stream",
          "name": "stdout",
          "text": [
            "w elevado a la z da por resultado y: 125\n"
          ]
        }
      ],
      "source": [
        "print('w elevado a la z da por resultado y:', potencia)"
      ]
    },
    {
      "cell_type": "markdown",
      "id": "b4585070-9949-427a-84f5-ccf0a3a7f9a1",
      "metadata": {
        "id": "b4585070-9949-427a-84f5-ccf0a3a7f9a1"
      },
      "source": [
        "### 2.3.1.- Obtener input del usuario\n",
        "\n",
        "Input que solicita al usuario la información específica que debe ingresar al programa\n",
        "\n",
        "**nombre=input(‘¿Cuál es tu nombre?’)**"
      ]
    },
    {
      "cell_type": "code",
      "execution_count": 53,
      "id": "371649c1-a963-41d4-8025-670791d36f73",
      "metadata": {
        "colab": {
          "base_uri": "https://localhost:8080/"
        },
        "id": "371649c1-a963-41d4-8025-670791d36f73",
        "outputId": "8bdd289b-da91-4e86-a6a0-4927fb27a37d"
      },
      "outputs": [
        {
          "name": "stdout",
          "output_type": "stream",
          "text": [
            "¿Cuál es tu nombre?Alexander\n"
          ]
        }
      ],
      "source": [
        "nombre=input('¿Cuál es tu nombre?')"
      ]
    },
    {
      "cell_type": "markdown",
      "id": "a853d83c-f42c-4ed3-83eb-2f76d179f626",
      "metadata": {
        "id": "a853d83c-f42c-4ed3-83eb-2f76d179f626"
      },
      "source": [
        "Posteriormente puedes llamar a la variable nombre"
      ]
    },
    {
      "cell_type": "markdown",
      "id": "f4591abb-8139-466e-a48b-cda83af1bd14",
      "metadata": {
        "id": "f4591abb-8139-466e-a48b-cda83af1bd14"
      },
      "source": [
        "Por default, Python guarda las entradas que recibe del comando input como un arreglo. Checa el type en cuestión"
      ]
    },
    {
      "cell_type": "code",
      "execution_count": 54,
      "id": "cd0ea52b-96b1-4fcd-8be9-322e95a877aa",
      "metadata": {
        "colab": {
          "base_uri": "https://localhost:8080/"
        },
        "id": "cd0ea52b-96b1-4fcd-8be9-322e95a877aa",
        "outputId": "adc2fd7d-a1d0-4ec6-ec6f-5ee41e23dff7"
      },
      "outputs": [
        {
          "name": "stdout",
          "output_type": "stream",
          "text": [
            "¿Cuál es tu nombre?Alexander\n"
          ]
        }
      ],
      "source": [
        "nombre=input('¿Cuál es tu nombre?')"
      ]
    },
    {
      "cell_type": "code",
      "execution_count": 55,
      "id": "ea6ada1e-490b-497a-927a-f338f9b424c9",
      "metadata": {
        "colab": {
          "base_uri": "https://localhost:8080/",
          "height": 36
        },
        "id": "ea6ada1e-490b-497a-927a-f338f9b424c9",
        "outputId": "c6bbd101-2ac0-40af-909a-2c61173dec7a"
      },
      "outputs": [
        {
          "output_type": "execute_result",
          "data": {
            "text/plain": [
              "'Alexander'"
            ],
            "application/vnd.google.colaboratory.intrinsic+json": {
              "type": "string"
            }
          },
          "metadata": {},
          "execution_count": 55
        }
      ],
      "source": [
        "nombre"
      ]
    },
    {
      "cell_type": "code",
      "execution_count": 56,
      "id": "2061bcfa-a08c-464d-a777-65cc0e455151",
      "metadata": {
        "colab": {
          "base_uri": "https://localhost:8080/"
        },
        "id": "2061bcfa-a08c-464d-a777-65cc0e455151",
        "outputId": "4561fa85-694a-4587-f51f-af46f1b9994f"
      },
      "outputs": [
        {
          "output_type": "stream",
          "name": "stdout",
          "text": [
            "Alexander\n"
          ]
        }
      ],
      "source": [
        "print(nombre)"
      ]
    },
    {
      "cell_type": "markdown",
      "id": "5a50edd7-4634-4c10-a0f9-e2a3fb07cd84",
      "metadata": {
        "id": "5a50edd7-4634-4c10-a0f9-e2a3fb07cd84"
      },
      "source": [
        "Arma un programa que te pida 2 números y los sume"
      ]
    },
    {
      "cell_type": "code",
      "execution_count": 58,
      "id": "74947eed-8b26-4a2a-9c0e-567bd73988b7",
      "metadata": {
        "colab": {
          "base_uri": "https://localhost:8080/"
        },
        "id": "74947eed-8b26-4a2a-9c0e-567bd73988b7",
        "outputId": "f38b05ad-ee32-4efc-d268-9ad9c6947c0b"
      },
      "outputs": [
        {
          "output_type": "stream",
          "name": "stdout",
          "text": [
            "digita un numero2\n",
            "digita un segundo numero3\n",
            "23\n"
          ]
        }
      ],
      "source": [
        "n1= input ('digita un numero')\n",
        "n2= input ('digita un segundo numero')\n",
        "print(n1+n2)"
      ]
    },
    {
      "cell_type": "markdown",
      "id": "69fe69ee-445e-424c-bcd1-8af19b75ef4e",
      "metadata": {
        "id": "69fe69ee-445e-424c-bcd1-8af19b75ef4e"
      },
      "source": [
        "No se pudo, para que python pueda hay que usar **int()**"
      ]
    },
    {
      "cell_type": "code",
      "execution_count": 59,
      "id": "8dc93858-923a-41b8-b179-6025fd33878f",
      "metadata": {
        "colab": {
          "base_uri": "https://localhost:8080/"
        },
        "id": "8dc93858-923a-41b8-b179-6025fd33878f",
        "outputId": "c808e66a-0417-4ece-be4b-9cc3ec913631"
      },
      "outputs": [
        {
          "output_type": "stream",
          "name": "stdout",
          "text": [
            "digita un numero2\n",
            "digita un segundo numero3\n",
            "5\n"
          ]
        }
      ],
      "source": [
        "n1=int(input ('digita un numero'))\n",
        "n2= int(input ('digita un segundo numero'))\n",
        "print(n1+n2)"
      ]
    },
    {
      "cell_type": "markdown",
      "id": "715564fc-75c1-4dd4-b115-89e1763246a4",
      "metadata": {
        "id": "715564fc-75c1-4dd4-b115-89e1763246a4"
      },
      "source": [
        "#### Por tu cuenta\n",
        "\n",
        "Usa float() para convertir \"6.2\" (una cadena) a un valor flotante"
      ]
    },
    {
      "cell_type": "code",
      "execution_count": 60,
      "id": "62e04f9b-7f4f-4a24-a17b-3a9210c6a8ce",
      "metadata": {
        "colab": {
          "base_uri": "https://localhost:8080/"
        },
        "id": "62e04f9b-7f4f-4a24-a17b-3a9210c6a8ce",
        "outputId": "f347d8ca-017b-450f-85eb-d57364d0eee2"
      },
      "outputs": [
        {
          "output_type": "stream",
          "name": "stdout",
          "text": [
            "6.2\n"
          ]
        }
      ],
      "source": [
        "numero = float(\"6.2\")\n",
        "print(numero)"
      ]
    },
    {
      "cell_type": "markdown",
      "id": "ff47d95b-02aa-4c5a-a539-df106c393c09",
      "metadata": {
        "id": "ff47d95b-02aa-4c5a-a539-df106c393c09"
      },
      "source": [
        "---"
      ]
    },
    {
      "cell_type": "markdown",
      "id": "02620ade-789c-4784-a14b-47095b74f033",
      "metadata": {
        "id": "02620ade-789c-4784-a14b-47095b74f033"
      },
      "source": [
        "## 2.4.- Primeros Programas con python"
      ]
    },
    {
      "cell_type": "markdown",
      "id": "056407e5-1261-49e1-81cc-d56e3107abb6",
      "metadata": {
        "id": "056407e5-1261-49e1-81cc-d56e3107abb6"
      },
      "source": [
        "Ejecuta el script ejemplo1_c2.py"
      ]
    },
    {
      "cell_type": "markdown",
      "id": "233bebf3-995f-47cb-9c2b-8ff13c938a44",
      "metadata": {
        "id": "233bebf3-995f-47cb-9c2b-8ff13c938a44"
      },
      "source": [
        "Recuerda que en python también podemos hacer comparaciones mayor y menor que"
      ]
    },
    {
      "cell_type": "markdown",
      "id": "3bffa3af-3dd7-4672-94d1-bbe18ae7247e",
      "metadata": {
        "id": "3bffa3af-3dd7-4672-94d1-bbe18ae7247e"
      },
      "source": [
        "Y que también, para cehcar si algo es igual, se usa =="
      ]
    },
    {
      "cell_type": "code",
      "execution_count": null,
      "id": "f452cf39-21cd-4b35-aa13-48b1604cc5d2",
      "metadata": {
        "colab": {
          "base_uri": "https://localhost:8080/"
        },
        "id": "f452cf39-21cd-4b35-aa13-48b1604cc5d2",
        "outputId": "ccfb4b59-d0c6-46fe-e5ab-001a62f4a47e"
      },
      "outputs": [
        {
          "output_type": "stream",
          "name": "stdout",
          "text": [
            "Ingresa tu edad y la de tu mejor amigo,\\ para decirte la relación qué hay entre ellas \n"
          ]
        }
      ],
      "source": [
        "print('Ingresa tu edad y la de tu mejor amigo,\\ para decirte la relación qué hay entre ellas ')\n",
        "edad1=int(input('Ingresa tu edad: '))\n",
        "\n",
        "edad2=int(input('Ingresa la edad de tu mejor amigo: '))\n",
        "if edad1==edad2:\n",
        "  print(edad1, ' es igual', edad2, '\\n Tu amigo y tú, \\ tienen la misma edad.')\n",
        "if edad1 !=edad2:\n",
        "  print(edadl,' es diferente de', edad2, '\\n Tu amigo y tú \\ tienen edades diferentes.')\n",
        "if edad1< edad2:\n",
        "  print(edad1,' es menor que', edad2, '\\n Tu amigo es mayor que tú.')\n",
        "if edad1 >edad2:\n",
        "  print(edad1,' es mayor que', edad2, '\\n Tu amigo \\\n",
        "es menor que tú.')\n",
        "if edad1 <= edad2:\n",
        "  print(edad1,' es menor o igual a', edad2, '\\n Tu amigo \\ tiene al menos, tu edad.')\n"
      ]
    },
    {
      "cell_type": "markdown",
      "id": "58b2b137-def5-4acb-ae48-f07f3783d3de",
      "metadata": {
        "id": "58b2b137-def5-4acb-ae48-f07f3783d3de"
      },
      "source": [
        "---"
      ]
    }
  ],
  "metadata": {
    "kernelspec": {
      "display_name": "Python 3",
      "language": "python",
      "name": "python3"
    },
    "language_info": {
      "codemirror_mode": {
        "name": "ipython",
        "version": 3
      },
      "file_extension": ".py",
      "mimetype": "text/x-python",
      "name": "python",
      "nbconvert_exporter": "python",
      "pygments_lexer": "ipython3",
      "version": "3.8.8"
    },
    "colab": {
      "provenance": [],
      "collapsed_sections": [
        "b4b3f36d-d890-4bbf-9a7d-d3b41fac5f28",
        "fcbe6ca4-24fd-4150-b7bb-f870814b662e"
      ]
    }
  },
  "nbformat": 4,
  "nbformat_minor": 5
}