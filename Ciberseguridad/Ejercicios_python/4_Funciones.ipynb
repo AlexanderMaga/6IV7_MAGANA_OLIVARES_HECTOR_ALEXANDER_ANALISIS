{
  "cells": [
    {
      "cell_type": "markdown",
      "id": "69901415-871c-4128-94ba-7cb605818be1",
      "metadata": {
        "id": "69901415-871c-4128-94ba-7cb605818be1"
      },
      "source": [
        "# 4.- Funciones"
      ]
    },
    {
      "cell_type": "markdown",
      "id": "82a4386e-b878-475e-b82d-03dbcb9d44d3",
      "metadata": {
        "id": "82a4386e-b878-475e-b82d-03dbcb9d44d3"
      },
      "source": [
        "## 4.2.- Función def"
      ]
    },
    {
      "cell_type": "markdown",
      "id": "8e864b12-a5a9-4cde-b565-a59929d9d7eb",
      "metadata": {
        "id": "8e864b12-a5a9-4cde-b565-a59929d9d7eb"
      },
      "source": [
        "Vamos a comenzar creando una funcion que tome un número y devuelva su raiz cuadrada"
      ]
    },
    {
      "cell_type": "code",
      "execution_count": 1,
      "id": "c555a87f-f94f-4dfb-ac88-4bd40e1f2c96",
      "metadata": {
        "id": "c555a87f-f94f-4dfb-ac88-4bd40e1f2c96"
      },
      "outputs": [],
      "source": [
        "import math"
      ]
    },
    {
      "cell_type": "code",
      "execution_count": 4,
      "id": "315753b7-f2b8-46d8-a61c-499e912f468a",
      "metadata": {
        "colab": {
          "base_uri": "https://localhost:8080/"
        },
        "id": "315753b7-f2b8-46d8-a61c-499e912f468a",
        "outputId": "e052bb16-67fa-4b0b-f151-1fe13011ab0a"
      },
      "outputs": [
        {
          "output_type": "stream",
          "name": "stdout",
          "text": [
            "4.0\n"
          ]
        }
      ],
      "source": [
        "def raiz_cuadrada(numero):\n",
        "    return math.sqrt(numero)\n",
        "numero = 16\n",
        "resultado = raiz_cuadrada(numero)\n",
        "print(resultado)\n"
      ]
    },
    {
      "cell_type": "markdown",
      "id": "a034c45f-dd3c-4e3b-b4b5-4c266b7eb003",
      "metadata": {
        "id": "a034c45f-dd3c-4e3b-b4b5-4c266b7eb003"
      },
      "source": [
        "Las funciones también las podemos llamar desde otras expresiones como print"
      ]
    },
    {
      "cell_type": "code",
      "execution_count": 6,
      "id": "24499624-16fa-4b44-b50d-a0a77dd65543",
      "metadata": {
        "colab": {
          "base_uri": "https://localhost:8080/"
        },
        "id": "24499624-16fa-4b44-b50d-a0a77dd65543",
        "outputId": "b663dc28-daa6-4084-b7b3-faffcb5c297f"
      },
      "outputs": [
        {
          "output_type": "stream",
          "name": "stdout",
          "text": [
            "La raíz cuadrada de 25 es 5.0\n"
          ]
        }
      ],
      "source": [
        "def raiz_cuadrada(numero):\n",
        "    return math.sqrt(numero)\n",
        "\n",
        "print(f\"La raíz cuadrada de 25 es {raiz_cuadrada(25)}\")\n"
      ]
    },
    {
      "cell_type": "markdown",
      "id": "5fa7a304-a3ac-49f8-a9c7-985ff3cd4738",
      "metadata": {
        "id": "5fa7a304-a3ac-49f8-a9c7-985ff3cd4738"
      },
      "source": [
        "Muchas funciones podemos ? para saber como se usa la función"
      ]
    },
    {
      "cell_type": "code",
      "execution_count": 9,
      "id": "48187ac5-0ca4-4412-9b2c-8dc240a0a891",
      "metadata": {
        "id": "48187ac5-0ca4-4412-9b2c-8dc240a0a891"
      },
      "outputs": [],
      "source": [
        "math.sqrt?"
      ]
    },
    {
      "cell_type": "markdown",
      "id": "55e03a1c-54ea-4685-b6e0-1880a7073360",
      "metadata": {
        "id": "55e03a1c-54ea-4685-b6e0-1880a7073360"
      },
      "source": [
        "#### Por tu cuenta\n",
        "\n",
        "Define una función que calcule la raiz cubica de un numero dado"
      ]
    },
    {
      "cell_type": "code",
      "execution_count": 10,
      "id": "3e9e8b00-c189-400d-b1ba-467fe444b379",
      "metadata": {
        "id": "3e9e8b00-c189-400d-b1ba-467fe444b379"
      },
      "outputs": [],
      "source": [
        "def raiz_cubica(numero):\n",
        "    return numero ** (1/3)\n"
      ]
    },
    {
      "cell_type": "code",
      "execution_count": 11,
      "id": "3b7ece1c-8e0a-4ea0-8166-64dd75e4661a",
      "metadata": {
        "colab": {
          "base_uri": "https://localhost:8080/"
        },
        "id": "3b7ece1c-8e0a-4ea0-8166-64dd75e4661a",
        "outputId": "17b1fb43-a312-4558-8d50-69e11d50ddcf"
      },
      "outputs": [
        {
          "output_type": "stream",
          "name": "stdout",
          "text": [
            "La raíz cúbica de 27 es 3.0\n"
          ]
        }
      ],
      "source": [
        "numero = 27\n",
        "resultado = raiz_cubica(numero)\n",
        "print(f\"La raíz cúbica de {numero} es {resultado}\")\n"
      ]
    },
    {
      "cell_type": "markdown",
      "id": "dc1856d4-be0c-4cc6-b217-10fb4bab5fe6",
      "metadata": {
        "id": "dc1856d4-be0c-4cc6-b217-10fb4bab5fe6"
      },
      "source": [
        "## 4.3.- Funciones con Múltiples Parámetros"
      ]
    },
    {
      "cell_type": "markdown",
      "id": "1f12cc0d-bd8e-45a9-b1b8-f976783ccf4f",
      "metadata": {
        "id": "1f12cc0d-bd8e-45a9-b1b8-f976783ccf4f"
      },
      "source": [
        "Ahora armaremos una función usando IF que nos dice cual es la raiz cuadrada más grande de 3 números"
      ]
    },
    {
      "cell_type": "code",
      "execution_count": 12,
      "id": "8f4f0077-7108-42ce-942e-e12ee8744582",
      "metadata": {
        "id": "8f4f0077-7108-42ce-942e-e12ee8744582"
      },
      "outputs": [],
      "source": [
        "import math\n",
        "\n",
        "def raiz_cuadrada_mas_grande(num1, num2, num3):\n",
        "    raiz1 = math.sqrt(num1)\n",
        "    raiz2 = math.sqrt(num2)\n",
        "    raiz3 = math.sqrt(num3)\n",
        "\n",
        "    if raiz1 > raiz2 and raiz1 > raiz3:\n",
        "        return raiz1\n",
        "    elif raiz2 > raiz1 and raiz2 > raiz3:\n",
        "        return raiz2\n",
        "    else:\n",
        "        return raiz3\n"
      ]
    },
    {
      "cell_type": "code",
      "execution_count": 13,
      "id": "8d9ccb53-92c1-4ff9-9202-543fa6c640d3",
      "metadata": {
        "colab": {
          "base_uri": "https://localhost:8080/"
        },
        "id": "8d9ccb53-92c1-4ff9-9202-543fa6c640d3",
        "outputId": "bc64a2b2-acd9-403c-fc5a-a9b7c37b8766"
      },
      "outputs": [
        {
          "output_type": "stream",
          "name": "stdout",
          "text": [
            "La raíz cuadrada más grande es 5.0\n"
          ]
        }
      ],
      "source": [
        "num1 = 16\n",
        "num2 = 25\n",
        "num3 = 9\n",
        "\n",
        "resultado = raiz_cuadrada_mas_grande(num1, num2, num3)\n",
        "print(f\"La raíz cuadrada más grande es {resultado}\")\n"
      ]
    },
    {
      "cell_type": "markdown",
      "id": "21bdb948-fa7a-4c21-9acb-6ae8266aa3e6",
      "metadata": {
        "id": "21bdb948-fa7a-4c21-9acb-6ae8266aa3e6"
      },
      "source": [
        "Por si las dudas, esto se podría haber simplificado usando Max y Min"
      ]
    },
    {
      "cell_type": "code",
      "execution_count": 14,
      "id": "8a495cc4-00c7-4cfb-9d0c-c35dea9683ae",
      "metadata": {
        "id": "8a495cc4-00c7-4cfb-9d0c-c35dea9683ae"
      },
      "outputs": [],
      "source": [
        "import math\n",
        "\n",
        "def raiz_cuadrada_mas_grande(num1, num2, num3):\n",
        "    raiz1 = math.sqrt(num1)\n",
        "    raiz2 = math.sqrt(num2)\n",
        "    raiz3 = math.sqrt(num3)\n",
        "\n",
        "    return max(raiz1, raiz2, raiz3)\n"
      ]
    },
    {
      "cell_type": "code",
      "execution_count": 15,
      "id": "1242a788-f538-4949-a483-8bbdb57ec9f8",
      "metadata": {
        "colab": {
          "base_uri": "https://localhost:8080/"
        },
        "id": "1242a788-f538-4949-a483-8bbdb57ec9f8",
        "outputId": "f94a717a-142e-4e51-8e90-edcef8139086"
      },
      "outputs": [
        {
          "output_type": "stream",
          "name": "stdout",
          "text": [
            "La raíz cuadrada más grande es 5.0\n"
          ]
        }
      ],
      "source": [
        "resultado = raiz_cuadrada_mas_grande(num1, num2, num3)\n",
        "print(f\"La raíz cuadrada más grande es {resultado}\")\n"
      ]
    },
    {
      "cell_type": "markdown",
      "id": "83d18c4c-e99c-4f4c-a0dc-41b41f50c6ed",
      "metadata": {
        "id": "83d18c4c-e99c-4f4c-a0dc-41b41f50c6ed"
      },
      "source": [
        "#### Por tu cuenta\n",
        "\n",
        "Llama la función max con la lista 15,82,13,55 como argumento, yluego la min con la palabara amarillo como argumento"
      ]
    },
    {
      "cell_type": "markdown",
      "id": "2d356f80-2d18-4849-a3dd-4253cb4edcd6",
      "metadata": {
        "id": "2d356f80-2d18-4849-a3dd-4253cb4edcd6"
      },
      "source": [
        "## 4.4.- Números aleatorios"
      ]
    },
    {
      "cell_type": "markdown",
      "id": "c7ad0802-525b-4399-8fc7-454593d86ae9",
      "metadata": {
        "id": "c7ad0802-525b-4399-8fc7-454593d86ae9"
      },
      "source": [
        "Vamos a simular el lanzamiento de una moneda (cara o cruz), usemos la biblioteca random y simulemos 10 tiros"
      ]
    },
    {
      "cell_type": "code",
      "execution_count": 18,
      "id": "3a8bd37e-3b1a-499b-88c3-c3063b1c2f72",
      "metadata": {
        "colab": {
          "base_uri": "https://localhost:8080/"
        },
        "id": "3a8bd37e-3b1a-499b-88c3-c3063b1c2f72",
        "outputId": "aa6cc456-36db-43cb-ac19-8e2cf1814e36"
      },
      "outputs": [
        {
          "output_type": "stream",
          "name": "stdout",
          "text": [
            "cruz\n",
            "cara\n",
            "cara\n",
            "cruz\n",
            "cruz\n",
            "cruz\n",
            "cara\n",
            "cara\n",
            "cara\n",
            "cruz\n"
          ]
        }
      ],
      "source": [
        "import random\n",
        "\n",
        "for i in range(10):\n",
        "    tiro = random.choice([\"cara\", \"cruz\"])\n",
        "    print(tiro)\n"
      ]
    },
    {
      "cell_type": "code",
      "execution_count": null,
      "id": "efd3d47a-b8cb-4e82-ac33-b7802b1cdd40",
      "metadata": {
        "id": "efd3d47a-b8cb-4e82-ac33-b7802b1cdd40"
      },
      "outputs": [],
      "source": []
    },
    {
      "cell_type": "markdown",
      "id": "05cefe11-289a-44e2-a987-b443cce37ce3",
      "metadata": {
        "id": "05cefe11-289a-44e2-a987-b443cce37ce3"
      },
      "source": [
        "Ejecutalo de nuevo, checa como ahora tenemos diferentes resultados"
      ]
    },
    {
      "cell_type": "markdown",
      "id": "4e02ace3-df9d-41aa-87bd-6fd2daa2d0a4",
      "metadata": {
        "id": "4e02ace3-df9d-41aa-87bd-6fd2daa2d0a4"
      },
      "source": [
        "Ahora vamos a escribir un código que simule el lanzamiento de una moneda 100,000 veces. No vamos a mostrar 100,000 resultados, solo una pequeña tabla con todas las caras y todas la cruces"
      ]
    },
    {
      "cell_type": "code",
      "execution_count": 20,
      "id": "70ee75bc-9a07-4c56-af3b-38cc3efcd256",
      "metadata": {
        "colab": {
          "base_uri": "https://localhost:8080/"
        },
        "id": "70ee75bc-9a07-4c56-af3b-38cc3efcd256",
        "outputId": "d405e6ac-e32d-4f2f-a8b5-98f8c9fd6001"
      },
      "outputs": [
        {
          "output_type": "execute_result",
          "data": {
            "text/plain": [
              "(50038, 49962)"
            ]
          },
          "metadata": {},
          "execution_count": 20
        }
      ],
      "source": [
        "caras = 0\n",
        "cruces = 0\n",
        "\n",
        "for _ in range(100000):\n",
        "    tiro = random.choice([\"cara\", \"cruz\"])\n",
        "    if tiro == \"cara\":\n",
        "        caras += 1\n",
        "    else:\n",
        "        cruces += 1\n",
        "\n",
        "caras, cruces\n"
      ]
    },
    {
      "cell_type": "markdown",
      "id": "5ac8c289-07af-4305-a7b0-a47f551d142a",
      "metadata": {
        "id": "5ac8c289-07af-4305-a7b0-a47f551d142a"
      },
      "source": [
        "Si queremos obligar a que random sieeeempre nos de los mismos resultados, podemos usar seed. Arma una semilla de 25 y ejecuta el código 2 veces, checa como se repita (seed necesita repetirse 2 veces tmb)"
      ]
    },
    {
      "cell_type": "code",
      "execution_count": 21,
      "id": "06562bd7-2288-4e71-b817-55aeae5017b4",
      "metadata": {
        "colab": {
          "base_uri": "https://localhost:8080/"
        },
        "id": "06562bd7-2288-4e71-b817-55aeae5017b4",
        "outputId": "95b92e75-e7dd-45ed-ae6e-f3be8edd6a21"
      },
      "outputs": [
        {
          "output_type": "stream",
          "name": "stdout",
          "text": [
            "Caras: 50072, Cruces: 49928\n",
            "Caras: 50072, Cruces: 49928\n"
          ]
        }
      ],
      "source": [
        "random.seed(25)\n",
        "\n",
        "caras1 = sum(random.choice([\"cara\", \"cruz\"]) == \"cara\" for _ in range(100000))\n",
        "cruces1 = 100000 - caras1\n",
        "\n",
        "print(f\"Caras: {caras1}, Cruces: {cruces1}\")\n",
        "\n",
        "random.seed(25)\n",
        "\n",
        "caras2 = sum(random.choice([\"cara\", \"cruz\"]) == \"cara\" for _ in range(100000))\n",
        "cruces2 = 100000 - caras2\n",
        "\n",
        "print(f\"Caras: {caras2}, Cruces: {cruces2}\")\n"
      ]
    },
    {
      "cell_type": "markdown",
      "id": "ae4f4e14-ebd5-45f8-a8e4-9b31641a0af1",
      "metadata": {
        "id": "ae4f4e14-ebd5-45f8-a8e4-9b31641a0af1"
      },
      "source": [
        "Es momento de jugar a \"El Gran 8\".\n",
        "\n",
        "Lo primero será lanzar un par de dados - arma una función que simule 2 dados y devuelva los valores que cayeron"
      ]
    },
    {
      "cell_type": "code",
      "execution_count": 22,
      "id": "07d2eda1-61af-4814-89da-822a1cb05e01",
      "metadata": {
        "colab": {
          "base_uri": "https://localhost:8080/"
        },
        "id": "07d2eda1-61af-4814-89da-822a1cb05e01",
        "outputId": "5660019c-2fe9-4368-9dec-3d918c31a63d"
      },
      "outputs": [
        {
          "output_type": "stream",
          "name": "stdout",
          "text": [
            "El primer dado cayó en: 4\n",
            "El segundo dado cayó en: 2\n"
          ]
        }
      ],
      "source": [
        "import random\n",
        "\n",
        "def lanzar_dados():\n",
        "    dado1 = random.randint(1, 6)\n",
        "    dado2 = random.randint(1, 6)\n",
        "    return dado1, dado2\n",
        "\n",
        "dado1, dado2 = lanzar_dados()\n",
        "print(f\"El primer dado cayó en: {dado1}\")\n",
        "print(f\"El segundo dado cayó en: {dado2}\")\n"
      ]
    },
    {
      "cell_type": "markdown",
      "id": "6c524cee-4fb0-496d-b33b-343a1b9d6d62",
      "metadata": {
        "id": "6c524cee-4fb0-496d-b33b-343a1b9d6d62"
      },
      "source": [
        "Ahora arma una función que muestre la suma de los resultados de los 2 dados"
      ]
    },
    {
      "cell_type": "code",
      "execution_count": 23,
      "id": "f64c316a-f793-41ed-a4c0-68d014fbe816",
      "metadata": {
        "colab": {
          "base_uri": "https://localhost:8080/"
        },
        "id": "f64c316a-f793-41ed-a4c0-68d014fbe816",
        "outputId": "53e4b7f1-7ea5-474a-81f4-b4f9f32634be"
      },
      "outputs": [
        {
          "output_type": "stream",
          "name": "stdout",
          "text": [
            "La suma de los dos dados es: 7\n"
          ]
        }
      ],
      "source": [
        "import random\n",
        "\n",
        "def lanzar_dados():\n",
        "    dado1 = random.randint(1, 6)\n",
        "    dado2 = random.randint(1, 6)\n",
        "    return dado1, dado2\n",
        "\n",
        "def suma_dados():\n",
        "    dado1, dado2 = lanzar_dados()\n",
        "    return dado1 + dado2\n",
        "suma = suma_dados()\n",
        "print(f\"La suma de los dos dados es: {suma}\")\n"
      ]
    },
    {
      "cell_type": "markdown",
      "id": "c5eb4532-dce4-4397-b753-223bb5030a8f",
      "metadata": {
        "id": "c5eb4532-dce4-4397-b753-223bb5030a8f"
      },
      "source": [
        "Ahora necesitamos una variable que almacene el resutlado de lanzar los dados (funcion 1) y otra que sume los resultados de la función 1."
      ]
    },
    {
      "cell_type": "code",
      "execution_count": 25,
      "id": "9f51af4c-2def-494b-b7a2-9201414a4019",
      "metadata": {
        "colab": {
          "base_uri": "https://localhost:8080/"
        },
        "id": "9f51af4c-2def-494b-b7a2-9201414a4019",
        "outputId": "fce9ed9e-d15f-4fc2-a954-31e317714a59"
      },
      "outputs": [
        {
          "output_type": "stream",
          "name": "stdout",
          "text": [
            "El primer dado cayó en: 1\n",
            "El segundo dado cayó en: 4\n",
            "La suma de los dos dados es: 5\n"
          ]
        }
      ],
      "source": [
        "import random\n",
        "\n",
        "def lanzar_dados():\n",
        "    dado1 = random.randint(1, 6)\n",
        "    dado2 = random.randint(1, 6)\n",
        "    return dado1, dado2\n",
        "\n",
        "dado1, dado2 = lanzar_dados()\n",
        "\n",
        "suma = dado1 + dado2\n",
        "\n",
        "print(f\"El primer dado cayó en: {dado1}\")\n",
        "print(f\"El segundo dado cayó en: {dado2}\")\n",
        "print(f\"La suma de los dos dados es: {suma}\")\n"
      ]
    },
    {
      "cell_type": "markdown",
      "id": "21576096-58ea-4bd7-9e1b-bbe197aa08f2",
      "metadata": {
        "id": "21576096-58ea-4bd7-9e1b-bbe197aa08f2"
      },
      "source": [
        "Ahora, vamos  a simular las consecuencias del primer tiro - si la suma es 8, ganaste, si es 7, perdiste, y si no, continuamos"
      ]
    },
    {
      "cell_type": "code",
      "execution_count": 51,
      "id": "b35649ce-62bb-48fe-904a-089dccb42867",
      "metadata": {
        "id": "b35649ce-62bb-48fe-904a-089dccb42867"
      },
      "outputs": [],
      "source": [
        "import random\n",
        "\n",
        "def lanzar_dados():\n",
        "    dado1 = random.randint(1, 6)\n",
        "    dado2 = random.randint(1, 6)\n",
        "    return dado1, dado2\n",
        "\n",
        "def simular_juego():\n",
        "    dado1, dado2 = lanzar_dados()\n",
        "\n",
        "    suma = dado1 + dado2\n",
        "\n",
        "\n",
        "if suma == 8:\n",
        "        print(\"¡Ganaste!\")\n",
        "elif suma == 7:\n",
        "        print(\"¡Perdiste!\")\n",
        "\n"
      ]
    },
    {
      "cell_type": "markdown",
      "id": "34507a56-d650-4156-b1f2-d485a9b3634e",
      "metadata": {
        "id": "34507a56-d650-4156-b1f2-d485a9b3634e"
      },
      "source": [
        "Y ahora con un bucle vamos a seguir el juego, se relanzan los dados y si se hace un bucle while que mientras que no haya un resultado de 6,8, o 7, se sigue tirando, si no se define si se ganó o se perdió"
      ]
    },
    {
      "cell_type": "code",
      "execution_count": 57,
      "id": "0142cde5-6158-4c73-bbf4-e2d48efcd532",
      "metadata": {
        "id": "0142cde5-6158-4c73-bbf4-e2d48efcd532"
      },
      "outputs": [],
      "source": [
        "import random\n",
        "\n",
        "def lanzar_dados():\n",
        "    dado1 = random.randint(1, 6)\n",
        "    dado2 = random.randint(1, 6)\n",
        "    return dado1, dado2\n",
        "\n",
        "def simular_juego():\n",
        "    while True:\n",
        "        dado1, dado2 = lanzar_dados()\n",
        "        suma = dado1 + dado2\n",
        "\n",
        "        if suma == 8:\n",
        "          print(\"¡Ganaste!\")\n",
        "          break\n",
        "        elif suma == 7:\n",
        "          print(\"¡Perdiste!\")\n",
        "          break\n"
      ]
    },
    {
      "cell_type": "markdown",
      "id": "e330a41d-998a-4dd8-a8b9-51d255f0464d",
      "metadata": {
        "id": "e330a41d-998a-4dd8-a8b9-51d255f0464d"
      },
      "source": [
        "Ahora unifica todo el código"
      ]
    },
    {
      "cell_type": "markdown",
      "id": "6c9e079c-3683-4901-a856-0bc24d2ea3b5",
      "metadata": {
        "id": "6c9e079c-3683-4901-a856-0bc24d2ea3b5"
      },
      "source": [
        "#### Por tu cuenta\n",
        "\n",
        "Usa un bucle for, randrange y una expresión condicional para simular 20 tiros de moneda, mosrando A para águila y S para Sello"
      ]
    },
    {
      "cell_type": "code",
      "execution_count": 58,
      "id": "24ea22a4-3fea-416b-af85-6a026c4ca9e7",
      "metadata": {
        "colab": {
          "base_uri": "https://localhost:8080/"
        },
        "id": "24ea22a4-3fea-416b-af85-6a026c4ca9e7",
        "outputId": "7d5f1c28-5db2-46eb-af64-fc1cb712c647"
      },
      "outputs": [
        {
          "output_type": "stream",
          "name": "stdout",
          "text": [
            "S\n",
            "A\n",
            "A\n",
            "A\n",
            "S\n",
            "A\n",
            "A\n",
            "A\n",
            "A\n",
            "A\n",
            "A\n",
            "A\n",
            "A\n",
            "S\n",
            "S\n",
            "A\n",
            "S\n",
            "S\n",
            "A\n",
            "A\n"
          ]
        }
      ],
      "source": [
        "import random\n",
        "\n",
        "for _ in range(20):\n",
        "    tiro = random.randrange(2)  # 0 para Sello, 1 para Águila\n",
        "    resultado = \"A\" if tiro == 1 else \"S\"\n",
        "    print(resultado)\n"
      ]
    },
    {
      "cell_type": "markdown",
      "id": "902a0cb5-4b49-40f2-b285-afd87b760f18",
      "metadata": {
        "id": "902a0cb5-4b49-40f2-b285-afd87b760f18"
      },
      "source": [
        "## 4.5.- Funciones sin parámetros y múltiples parámetros"
      ]
    },
    {
      "cell_type": "markdown",
      "id": "71dd025d-bf4b-4c68-99b5-0cb72614740e",
      "metadata": {
        "id": "71dd025d-bf4b-4c68-99b5-0cb72614740e"
      },
      "source": [
        "def raizcuadra(numero):\n",
        "    \"\"\"Esta función saca la raiz cuadra de un número\"\"\"\n",
        "    return numero ** (1/2)Se acuerdan de la primer funcion que hicimos? Que pasa si la corremos sin parametro?"
      ]
    },
    {
      "cell_type": "code",
      "execution_count": 59,
      "id": "e381d145-b1cb-46c5-99b9-9f83e90964bd",
      "metadata": {
        "id": "e381d145-b1cb-46c5-99b9-9f83e90964bd"
      },
      "outputs": [],
      "source": [
        "def raizcuadra(numero):\n",
        "return numero ** (1/2)"
      ]
    },
    {
      "cell_type": "code",
      "execution_count": null,
      "id": "4b642fdf-9360-4196-9a89-c717e6bf1bda",
      "metadata": {
        "id": "4b642fdf-9360-4196-9a89-c717e6bf1bda"
      },
      "outputs": [],
      "source": []
    },
    {
      "cell_type": "markdown",
      "id": "010114c1-509a-4cc1-a388-ca28850d9932",
      "metadata": {
        "id": "010114c1-509a-4cc1-a388-ca28850d9932"
      },
      "source": [
        "Asigna un parametro estandar para evitar este error"
      ]
    },
    {
      "cell_type": "markdown",
      "id": "6c3d4102-a3b3-40de-a916-1df8e54b4a29",
      "metadata": {
        "id": "6c3d4102-a3b3-40de-a916-1df8e54b4a29"
      },
      "source": [
        "También, hay funciones que pueden aceptar una cantidad indefinida de parametros - arma una función llamada promedio_calif que te diga el promedio de una cantidad arbitraria de calificaciones"
      ]
    },
    {
      "cell_type": "code",
      "execution_count": 60,
      "id": "a3fc7b58-87e9-441e-9772-14f961c0f1b4",
      "metadata": {
        "id": "a3fc7b58-87e9-441e-9772-14f961c0f1b4"
      },
      "outputs": [],
      "source": [
        "def promedio_calif(*calificaciones):\n",
        "    return sum(calificaciones) / len(calificaciones) if calificaciones else 0\n"
      ]
    },
    {
      "cell_type": "code",
      "execution_count": 61,
      "id": "27b2e996-20e0-4093-99f6-dbf330689d39",
      "metadata": {
        "colab": {
          "base_uri": "https://localhost:8080/"
        },
        "id": "27b2e996-20e0-4093-99f6-dbf330689d39",
        "outputId": "813fac9c-66e8-441e-bb9e-4d84deb1e9b2"
      },
      "outputs": [
        {
          "output_type": "stream",
          "name": "stdout",
          "text": [
            "El promedio de las calificaciones es: 8.0\n"
          ]
        }
      ],
      "source": [
        "promedio = promedio_calif(8, 9, 10, 7, 6)\n",
        "print(f\"El promedio de las calificaciones es: {promedio}\")\n"
      ]
    },
    {
      "cell_type": "markdown",
      "id": "e3f6b2e9-4ed4-4c34-81b1-e60ca1b59bff",
      "metadata": {
        "id": "e3f6b2e9-4ed4-4c34-81b1-e60ca1b59bff"
      },
      "source": [
        "#### Por tu cuenta\n",
        "\n",
        "Arma una función que reciba una cantidad arbitraria de argumentos y calcule el producto de multiplicarlos todos entre ellos"
      ]
    },
    {
      "cell_type": "code",
      "execution_count": 62,
      "id": "1e1d13b9-3cb1-43e5-9cf9-b6da52643a78",
      "metadata": {
        "id": "1e1d13b9-3cb1-43e5-9cf9-b6da52643a78"
      },
      "outputs": [],
      "source": [
        "def producto(*numeros):\n",
        "    resultado = 1\n",
        "    for numero in numeros:\n",
        "        resultado *= numero\n",
        "    return resultado\n"
      ]
    },
    {
      "cell_type": "code",
      "execution_count": 63,
      "id": "0be5568a-6d23-4fcb-bbde-8c8fd120828d",
      "metadata": {
        "colab": {
          "base_uri": "https://localhost:8080/"
        },
        "id": "0be5568a-6d23-4fcb-bbde-8c8fd120828d",
        "outputId": "04963240-fec3-49e7-d9ab-19566ff65391"
      },
      "outputs": [
        {
          "output_type": "stream",
          "name": "stdout",
          "text": [
            "El producto de los números es: 120\n"
          ]
        }
      ],
      "source": [
        "producto_resultado = producto(2, 3, 4, 5)\n",
        "print(f\"El producto de los números es: {producto_resultado}\")\n"
      ]
    },
    {
      "cell_type": "markdown",
      "id": "6892461b-49af-466b-b947-2e649586b5d5",
      "metadata": {
        "id": "6892461b-49af-466b-b947-2e649586b5d5"
      },
      "source": [
        "## 4.6.- Alcance Local y Global"
      ]
    },
    {
      "cell_type": "markdown",
      "id": "1c759b58-4b0f-4e11-9a61-af3ee94a26e6",
      "metadata": {
        "id": "1c759b58-4b0f-4e11-9a61-af3ee94a26e6"
      },
      "source": [
        "Recordemos nuestra función de raiz cuadrada"
      ]
    },
    {
      "cell_type": "code",
      "execution_count": 64,
      "id": "47693ade-1834-4d6f-b5d2-1582b62d02af",
      "metadata": {
        "id": "47693ade-1834-4d6f-b5d2-1582b62d02af"
      },
      "outputs": [],
      "source": [
        "aprox_pi= 3.1416"
      ]
    },
    {
      "cell_type": "code",
      "execution_count": 65,
      "id": "0fff8b16-95e3-4138-be6d-4e7296ba2535",
      "metadata": {
        "id": "0fff8b16-95e3-4138-be6d-4e7296ba2535"
      },
      "outputs": [],
      "source": [
        "def accer():\n",
        "  print('aprox_pi es llamada de accer como', aprox_pi)"
      ]
    },
    {
      "cell_type": "code",
      "execution_count": 66,
      "id": "390db399-8b11-49e4-9d96-09597a3ed6c4",
      "metadata": {
        "colab": {
          "base_uri": "https://localhost:8080/"
        },
        "id": "390db399-8b11-49e4-9d96-09597a3ed6c4",
        "outputId": "97f6482c-a121-44d1-de18-fc356919eeba"
      },
      "outputs": [
        {
          "output_type": "stream",
          "name": "stdout",
          "text": [
            "aprox_pi es llamada de accer como 3.1416\n"
          ]
        }
      ],
      "source": [
        "accer()"
      ]
    },
    {
      "cell_type": "markdown",
      "id": "92d9d3b6-d1ae-480d-9026-b605aa24245f",
      "metadata": {
        "id": "92d9d3b6-d1ae-480d-9026-b605aa24245f"
      },
      "source": [
        "Define la variable aprox pi =3.141 y luego define una función que llame a esta variable de acceso global"
      ]
    },
    {
      "cell_type": "markdown",
      "id": "90a3042c-1f46-4ef1-9f19-9cae0aeae31f",
      "metadata": {
        "id": "90a3042c-1f46-4ef1-9f19-9cae0aeae31f"
      },
      "source": [
        "Intenta modificar aprox pi desde una función - verás que python no lo hace, solo modifica una copia"
      ]
    },
    {
      "cell_type": "markdown",
      "id": "5e3fc9f1-f1c8-419e-a7ad-ad015daa9ada",
      "metadata": {
        "id": "5e3fc9f1-f1c8-419e-a7ad-ad015daa9ada"
      },
      "source": [
        "## 4.7.- El módulo de matemáticas de Python"
      ]
    },
    {
      "cell_type": "markdown",
      "id": "66a15356-6461-4202-a7d0-56526d3c1536",
      "metadata": {
        "id": "66a15356-6461-4202-a7d0-56526d3c1536"
      },
      "source": [
        "Calcula el log10 de 1000"
      ]
    },
    {
      "cell_type": "code",
      "execution_count": 69,
      "id": "d04ec048-5865-4040-a3f2-3b3cbcb1d40a",
      "metadata": {
        "colab": {
          "base_uri": "https://localhost:8080/"
        },
        "id": "d04ec048-5865-4040-a3f2-3b3cbcb1d40a",
        "outputId": "732bf474-2552-40c3-e5f2-c7ac26c7ee6e"
      },
      "outputs": [
        {
          "output_type": "execute_result",
          "data": {
            "text/plain": [
              "3.0"
            ]
          },
          "metadata": {},
          "execution_count": 69
        }
      ],
      "source": [
        "log10_resultado = math.log10(1000)\n",
        "log10_resultado"
      ]
    },
    {
      "cell_type": "markdown",
      "id": "2db1131d-227b-46fe-aa43-ea83fd7ff1bc",
      "metadata": {
        "id": "2db1131d-227b-46fe-aa43-ea83fd7ff1bc"
      },
      "source": [
        "Importa la librería math"
      ]
    },
    {
      "cell_type": "code",
      "execution_count": 68,
      "id": "4252d1a8-4e52-43d1-a5a4-045def644677",
      "metadata": {
        "id": "4252d1a8-4e52-43d1-a5a4-045def644677"
      },
      "outputs": [],
      "source": [
        "import math"
      ]
    },
    {
      "cell_type": "markdown",
      "id": "4cebaf0a-a127-4a90-971a-a306d39ebc10",
      "metadata": {
        "id": "4cebaf0a-a127-4a90-971a-a306d39ebc10"
      },
      "source": [
        "ahora si, calcula el log10 de 1000"
      ]
    },
    {
      "cell_type": "code",
      "execution_count": 70,
      "id": "47bf2d24-fcb4-4907-92e7-af142e2afded",
      "metadata": {
        "colab": {
          "base_uri": "https://localhost:8080/"
        },
        "id": "47bf2d24-fcb4-4907-92e7-af142e2afded",
        "outputId": "811f12e8-e2dc-45dd-8d67-a8c5c4fb32a7"
      },
      "outputs": [
        {
          "output_type": "execute_result",
          "data": {
            "text/plain": [
              "3.0"
            ]
          },
          "metadata": {},
          "execution_count": 70
        }
      ],
      "source": [
        "log10_resultado = math.log10(1000)\n",
        "log10_resultado"
      ]
    },
    {
      "cell_type": "markdown",
      "id": "1494d2e2-c5f0-4426-bd28-3ccea38d7b09",
      "metadata": {
        "id": "1494d2e2-c5f0-4426-bd28-3ccea38d7b09"
      },
      "source": [
        "## 4.8.- Medidas de tendencia central y Dispersión"
      ]
    },
    {
      "cell_type": "markdown",
      "id": "68b9172a-f029-4f3c-83d1-545ff8937e5a",
      "metadata": {
        "id": "68b9172a-f029-4f3c-83d1-545ff8937e5a"
      },
      "source": [
        "Importa la librería d eestadistica, y crea una lista de calificaciones aleatorias entre 50 y 100"
      ]
    },
    {
      "cell_type": "code",
      "execution_count": 71,
      "id": "06d77b88-6f25-4ee2-81c9-deb91bde85d4",
      "metadata": {
        "id": "06d77b88-6f25-4ee2-81c9-deb91bde85d4"
      },
      "outputs": [],
      "source": [
        "import statistics"
      ]
    },
    {
      "cell_type": "code",
      "execution_count": 72,
      "id": "55722831-d3af-4942-9a4c-fe1a3aac33b9",
      "metadata": {
        "id": "55722831-d3af-4942-9a4c-fe1a3aac33b9"
      },
      "outputs": [],
      "source": [
        "calificaciones = [random.randint(50, 100) for _ in range(10)]"
      ]
    },
    {
      "cell_type": "code",
      "execution_count": 73,
      "id": "f3a0f859-bc27-47e0-967c-714e6ed4d536",
      "metadata": {
        "colab": {
          "base_uri": "https://localhost:8080/"
        },
        "id": "f3a0f859-bc27-47e0-967c-714e6ed4d536",
        "outputId": "bf2a1fea-26c3-485e-bb52-2ad8c4b562aa"
      },
      "outputs": [
        {
          "output_type": "stream",
          "name": "stdout",
          "text": [
            "Calificaciones: [57, 96, 76, 92, 94, 59, 88, 96, 84, 90]\n"
          ]
        }
      ],
      "source": [
        "\n",
        "print(\"Calificaciones:\", calificaciones)"
      ]
    },
    {
      "cell_type": "code",
      "execution_count": 74,
      "id": "35c23b1d-ff38-47e4-aea6-cdafea8eef6c",
      "metadata": {
        "colab": {
          "base_uri": "https://localhost:8080/"
        },
        "id": "35c23b1d-ff38-47e4-aea6-cdafea8eef6c",
        "outputId": "c4e19f2e-9e13-4843-e13c-5aca65919c3e"
      },
      "outputs": [
        {
          "output_type": "stream",
          "name": "stdout",
          "text": [
            "Promedio: 83.2\n"
          ]
        }
      ],
      "source": [
        "promedio = statistics.mean(calificaciones)\n",
        "print(\"Promedio:\", promedio)"
      ]
    },
    {
      "cell_type": "markdown",
      "id": "77e5a078-1a94-4fc1-acb0-4ae291e3ea0c",
      "metadata": {
        "id": "77e5a078-1a94-4fc1-acb0-4ae291e3ea0c"
      },
      "source": [
        "Calcula las medidas de tendencia central"
      ]
    },
    {
      "cell_type": "markdown",
      "id": "d0b2cda1-016b-4f15-8663-586820f6aae0",
      "metadata": {
        "id": "d0b2cda1-016b-4f15-8663-586820f6aae0"
      },
      "source": [
        "Calcula las medidas de dispersión"
      ]
    },
    {
      "cell_type": "markdown",
      "id": "e55f2a84-65b1-4e86-b4d4-9be69022fdc2",
      "metadata": {
        "id": "e55f2a84-65b1-4e86-b4d4-9be69022fdc2"
      },
      "source": [
        "#### Por tu cuenta\n",
        "\n",
        "Para los numeros del 1 al 20, calcula la varianza y la desviacion estandar - compara con la varianza poblacional y la desviacion estandar poblacional"
      ]
    }
  ],
  "metadata": {
    "kernelspec": {
      "display_name": "Python 3",
      "language": "python",
      "name": "python3"
    },
    "language_info": {
      "codemirror_mode": {
        "name": "ipython",
        "version": 3
      },
      "file_extension": ".py",
      "mimetype": "text/x-python",
      "name": "python",
      "nbconvert_exporter": "python",
      "pygments_lexer": "ipython3",
      "version": "3.8.8"
    },
    "colab": {
      "provenance": []
    }
  },
  "nbformat": 4,
  "nbformat_minor": 5
}