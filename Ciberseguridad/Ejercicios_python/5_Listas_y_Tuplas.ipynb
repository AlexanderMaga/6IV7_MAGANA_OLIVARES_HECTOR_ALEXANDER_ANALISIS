{
  "cells": [
    {
      "cell_type": "markdown",
      "id": "d1a16963-6e72-4bf2-8445-47f8c4950de0",
      "metadata": {
        "id": "d1a16963-6e72-4bf2-8445-47f8c4950de0"
      },
      "source": [
        "# 5.- Listas y Tuplas"
      ]
    },
    {
      "cell_type": "markdown",
      "id": "6f9ec23e-0185-492f-bc67-b8a4bb2d4ef0",
      "metadata": {
        "id": "6f9ec23e-0185-492f-bc67-b8a4bb2d4ef0"
      },
      "source": [
        "## 5.2.- Listas"
      ]
    },
    {
      "cell_type": "markdown",
      "id": "6fadf4a8-0173-4be4-8fa8-5a28260a55be",
      "metadata": {
        "id": "6fadf4a8-0173-4be4-8fa8-5a28260a55be"
      },
      "source": [
        "Una lista generalmente tiene datos homogeneos"
      ]
    },
    {
      "cell_type": "code",
      "execution_count": 1,
      "id": "ee8b43ec-dc1e-4ab0-ad07-cc689c1aab5f",
      "metadata": {
        "id": "ee8b43ec-dc1e-4ab0-ad07-cc689c1aab5f"
      },
      "outputs": [],
      "source": [
        "a= ['Patricia', 'Mexico']"
      ]
    },
    {
      "cell_type": "code",
      "execution_count": 2,
      "id": "7f1c613e-f435-40e7-a422-3429c4a6b3bc",
      "metadata": {
        "colab": {
          "base_uri": "https://localhost:8080/"
        },
        "id": "7f1c613e-f435-40e7-a422-3429c4a6b3bc",
        "outputId": "d9206bea-f0af-4c85-b81f-cb5dc3a5805b"
      },
      "outputs": [
        {
          "output_type": "execute_result",
          "data": {
            "text/plain": [
              "['Patricia', 'Mexico']"
            ]
          },
          "metadata": {},
          "execution_count": 2
        }
      ],
      "source": [
        "a"
      ]
    },
    {
      "cell_type": "markdown",
      "id": "228872fa-2eb0-4eff-8f6a-eb7c80ec4be4",
      "metadata": {
        "id": "228872fa-2eb0-4eff-8f6a-eb7c80ec4be4"
      },
      "source": [
        "Tambien puede tener datos heterogeneos, como texto y numeros"
      ]
    },
    {
      "cell_type": "code",
      "execution_count": 3,
      "id": "bc1858c1-4645-4ef3-a58c-9caa9b434a73",
      "metadata": {
        "id": "bc1858c1-4645-4ef3-a58c-9caa9b434a73"
      },
      "outputs": [],
      "source": [
        "a= ['Patricia', 'Mexico', 1980]"
      ]
    },
    {
      "cell_type": "code",
      "execution_count": 4,
      "id": "27383860-9b02-47b1-b5fb-138dd6e99241",
      "metadata": {
        "colab": {
          "base_uri": "https://localhost:8080/"
        },
        "id": "27383860-9b02-47b1-b5fb-138dd6e99241",
        "outputId": "00e3d445-0d30-44ae-af2e-9953d7ad5b00"
      },
      "outputs": [
        {
          "output_type": "execute_result",
          "data": {
            "text/plain": [
              "['Patricia', 'Mexico', 1980]"
            ]
          },
          "metadata": {},
          "execution_count": 4
        }
      ],
      "source": [
        "a"
      ]
    },
    {
      "cell_type": "markdown",
      "id": "40204270-3b76-4327-9388-eff4bf61efd7",
      "metadata": {
        "id": "40204270-3b76-4327-9388-eff4bf61efd7"
      },
      "source": [
        "El primer elemento siempre es indice 0, y de ahi vas contando"
      ]
    },
    {
      "cell_type": "code",
      "execution_count": 5,
      "id": "d8cba557-3e4a-4533-a84b-240686eb0924",
      "metadata": {
        "colab": {
          "base_uri": "https://localhost:8080/",
          "height": 36
        },
        "id": "d8cba557-3e4a-4533-a84b-240686eb0924",
        "outputId": "5b740c50-a69e-4bb4-d892-2173b43facd4"
      },
      "outputs": [
        {
          "output_type": "execute_result",
          "data": {
            "text/plain": [
              "'Patricia'"
            ],
            "application/vnd.google.colaboratory.intrinsic+json": {
              "type": "string"
            }
          },
          "metadata": {},
          "execution_count": 5
        }
      ],
      "source": [
        "a= ['Patricia', 'Mexico', 1980]\n",
        "a[0]"
      ]
    },
    {
      "cell_type": "markdown",
      "id": "a2d96f9a-877b-4e2c-8d3b-acde754d8bca",
      "metadata": {
        "id": "a2d96f9a-877b-4e2c-8d3b-acde754d8bca"
      },
      "source": [
        "Usa len para conocer el numero de elementos en nuestra lista"
      ]
    },
    {
      "cell_type": "code",
      "execution_count": 6,
      "id": "c71f62dc-61e3-4c41-aa3a-69766ac5d274",
      "metadata": {
        "colab": {
          "base_uri": "https://localhost:8080/"
        },
        "id": "c71f62dc-61e3-4c41-aa3a-69766ac5d274",
        "outputId": "89aec79f-c758-43c2-d206-f92989674f91"
      },
      "outputs": [
        {
          "output_type": "execute_result",
          "data": {
            "text/plain": [
              "3"
            ]
          },
          "metadata": {},
          "execution_count": 6
        }
      ],
      "source": [
        "a= ['Patricia', 'Mexico', 1980]\n",
        "len(a)"
      ]
    },
    {
      "cell_type": "markdown",
      "id": "acee545a-8948-47b1-a317-fac6b0fdd123",
      "metadata": {
        "id": "acee545a-8948-47b1-a317-fac6b0fdd123"
      },
      "source": [
        "Los indices siempre deben de ser enteros - y también se vale que sean expresiones"
      ]
    },
    {
      "cell_type": "code",
      "execution_count": 7,
      "id": "9db1fa63-ead8-458c-9479-801bd92cbbf9",
      "metadata": {
        "colab": {
          "base_uri": "https://localhost:8080/"
        },
        "id": "9db1fa63-ead8-458c-9479-801bd92cbbf9",
        "outputId": "1e5e908b-afdf-4384-9198-5c8942755b68"
      },
      "outputs": [
        {
          "output_type": "execute_result",
          "data": {
            "text/plain": [
              "1980"
            ]
          },
          "metadata": {},
          "execution_count": 7
        }
      ],
      "source": [
        "a= ['Patricia', 'Mexico', 1980]\n",
        "az=1\n",
        "ay=3\n",
        "a[ay-az]"
      ]
    },
    {
      "cell_type": "markdown",
      "id": "a72c8a51-e531-4f87-9602-99fa2d433e24",
      "metadata": {
        "id": "a72c8a51-e531-4f87-9602-99fa2d433e24"
      },
      "source": [
        "PUedes cambiar elementos en particular"
      ]
    },
    {
      "cell_type": "code",
      "execution_count": 8,
      "id": "61ac17b8-eaa1-4fac-9f0c-196f616e4b6a",
      "metadata": {
        "id": "61ac17b8-eaa1-4fac-9f0c-196f616e4b6a"
      },
      "outputs": [],
      "source": [
        "a= ['Patricia', 'Mexico', 1980]\n",
        "a[2]=2000"
      ]
    },
    {
      "cell_type": "code",
      "execution_count": 9,
      "id": "ea2e5260-3434-4d9c-9616-222c868baf13",
      "metadata": {
        "colab": {
          "base_uri": "https://localhost:8080/"
        },
        "id": "ea2e5260-3434-4d9c-9616-222c868baf13",
        "outputId": "b77da7af-9287-4aa6-979d-51ba7a1d37f9"
      },
      "outputs": [
        {
          "output_type": "execute_result",
          "data": {
            "text/plain": [
              "2000"
            ]
          },
          "metadata": {},
          "execution_count": 9
        }
      ],
      "source": [
        "a[2]"
      ]
    },
    {
      "cell_type": "markdown",
      "id": "45284c87-094b-421e-8f69-576bcd813c2f",
      "metadata": {
        "id": "45284c87-094b-421e-8f69-576bcd813c2f"
      },
      "source": [
        "¿Que pasa si llamamos un indice fuera de la lista?"
      ]
    },
    {
      "cell_type": "code",
      "execution_count": 10,
      "id": "ff5315d3-c051-451e-a9a2-58970f14ff2d",
      "metadata": {
        "colab": {
          "base_uri": "https://localhost:8080/",
          "height": 141
        },
        "id": "ff5315d3-c051-451e-a9a2-58970f14ff2d",
        "outputId": "37ae8107-e4c3-4aa0-a0a7-ef40bedfdabd"
      },
      "outputs": [
        {
          "output_type": "error",
          "ename": "IndexError",
          "evalue": "list index out of range",
          "traceback": [
            "\u001b[0;31m---------------------------------------------------------------------------\u001b[0m",
            "\u001b[0;31mIndexError\u001b[0m                                Traceback (most recent call last)",
            "\u001b[0;32m<ipython-input-10-f75b6be7d8e3>\u001b[0m in \u001b[0;36m<cell line: 0>\u001b[0;34m()\u001b[0m\n\u001b[0;32m----> 1\u001b[0;31m \u001b[0ma\u001b[0m\u001b[0;34m[\u001b[0m\u001b[0;36m3\u001b[0m\u001b[0;34m]\u001b[0m\u001b[0;34m\u001b[0m\u001b[0;34m\u001b[0m\u001b[0m\n\u001b[0m",
            "\u001b[0;31mIndexError\u001b[0m: list index out of range"
          ]
        }
      ],
      "source": [
        "a[3]"
      ]
    },
    {
      "cell_type": "markdown",
      "id": "fea227c1-ae86-4712-befa-af7107de75d3",
      "metadata": {
        "id": "fea227c1-ae86-4712-befa-af7107de75d3"
      },
      "source": [
        "Cada elemento puede usarse como una variable"
      ]
    },
    {
      "cell_type": "code",
      "execution_count": 11,
      "id": "6ffb823c-ab3d-4319-ae31-f7bebcbbeb30",
      "metadata": {
        "colab": {
          "base_uri": "https://localhost:8080/"
        },
        "id": "6ffb823c-ab3d-4319-ae31-f7bebcbbeb30",
        "outputId": "c48ccff6-555f-48b6-a220-9b5f28bb4bf5"
      },
      "outputs": [
        {
          "output_type": "execute_result",
          "data": {
            "text/plain": [
              "6"
            ]
          },
          "metadata": {},
          "execution_count": 11
        }
      ],
      "source": [
        "a= [1, 2, 3]\n",
        "w= 5+a[2]-a[1]\n",
        "w"
      ]
    },
    {
      "cell_type": "markdown",
      "id": "48eb6744-5a6c-4761-9b53-894b3049fd57",
      "metadata": {
        "id": "48eb6744-5a6c-4761-9b53-894b3049fd57"
      },
      "source": [
        "Vamos agregando elementos a una lista vacía"
      ]
    },
    {
      "cell_type": "code",
      "execution_count": 12,
      "id": "31afa804-ec4b-446c-9718-e9d88c41cc79",
      "metadata": {
        "id": "31afa804-ec4b-446c-9718-e9d88c41cc79"
      },
      "outputs": [],
      "source": [
        "l= []"
      ]
    },
    {
      "cell_type": "code",
      "execution_count": 13,
      "id": "328640e8-3bcd-4650-87e3-98f8139c4182",
      "metadata": {
        "id": "328640e8-3bcd-4650-87e3-98f8139c4182"
      },
      "outputs": [],
      "source": [
        "l+= 'Por ejemplo'"
      ]
    },
    {
      "cell_type": "code",
      "execution_count": 14,
      "id": "801c2dc4-7528-46f0-8aa0-392b3c6afeeb",
      "metadata": {
        "colab": {
          "base_uri": "https://localhost:8080/"
        },
        "id": "801c2dc4-7528-46f0-8aa0-392b3c6afeeb",
        "outputId": "7b760f51-01e5-4337-adba-05f1f22318cb"
      },
      "outputs": [
        {
          "output_type": "execute_result",
          "data": {
            "text/plain": [
              "['P', 'o', 'r', ' ', 'e', 'j', 'e', 'm', 'p', 'l', 'o']"
            ]
          },
          "metadata": {},
          "execution_count": 14
        }
      ],
      "source": [
        "l"
      ]
    },
    {
      "cell_type": "markdown",
      "id": "8e8ecac4-5a0a-472a-9db9-ada0d66b1184",
      "metadata": {
        "id": "8e8ecac4-5a0a-472a-9db9-ada0d66b1184"
      },
      "source": [
        "Y es totalmente viable concatenar 2 listas"
      ]
    },
    {
      "cell_type": "code",
      "execution_count": 15,
      "id": "e6b83da1-84cd-49ff-833c-ea19b020e4a9",
      "metadata": {
        "colab": {
          "base_uri": "https://localhost:8080/"
        },
        "id": "e6b83da1-84cd-49ff-833c-ea19b020e4a9",
        "outputId": "24b838be-cea8-4a88-e88f-3f62641dd6cb"
      },
      "outputs": [
        {
          "output_type": "execute_result",
          "data": {
            "text/plain": [
              "['Patricia', 'Mexico', 1980, 1, 2, 3]"
            ]
          },
          "metadata": {},
          "execution_count": 15
        }
      ],
      "source": [
        "a= ['Patricia', 'Mexico', 1980]\n",
        "A=[1,2,3]\n",
        "l=a +A\n",
        "l"
      ]
    },
    {
      "cell_type": "markdown",
      "id": "94ef821c-02c9-442b-bbbc-88ec86166b61",
      "metadata": {
        "id": "94ef821c-02c9-442b-bbbc-88ec86166b61"
      },
      "source": [
        "#### Por tu cuenta\n",
        "\n",
        "Arma una función que eleve al cuadrado dotos los elementos de una lista. Prueba con una lista con todos los numeros pares del 2 al 20."
      ]
    },
    {
      "cell_type": "code",
      "execution_count": 16,
      "id": "45b5299d-36b9-4134-b278-73181a0d81cb",
      "metadata": {
        "colab": {
          "base_uri": "https://localhost:8080/"
        },
        "id": "45b5299d-36b9-4134-b278-73181a0d81cb",
        "outputId": "bd5ac908-c157-408a-80f0-712e9a248bac"
      },
      "outputs": [
        {
          "output_type": "stream",
          "name": "stdout",
          "text": [
            "[4, 16, 36, 64, 100, 144, 196, 256, 324, 400]\n"
          ]
        }
      ],
      "source": [
        "def cuadrado_lista(lista):\n",
        "    return [x**2 for x in lista]\n",
        "\n",
        "numeros_pares = list(range(2, 21, 2))\n",
        "resultado = cuadrado_lista(numeros_pares)\n",
        "print(resultado)\n"
      ]
    },
    {
      "cell_type": "markdown",
      "id": "51fdf97c-476b-417a-9142-d63f6488e351",
      "metadata": {
        "id": "51fdf97c-476b-417a-9142-d63f6488e351"
      },
      "source": [
        "Ahora vamos a añadir 3 elementos a la tupla"
      ]
    },
    {
      "cell_type": "code",
      "execution_count": 17,
      "id": "d7ea6549-4285-42ed-9595-141b324b0d8d",
      "metadata": {
        "colab": {
          "base_uri": "https://localhost:8080/"
        },
        "id": "d7ea6549-4285-42ed-9595-141b324b0d8d",
        "outputId": "b05784e1-5def-4db1-b0da-7950b1805525"
      },
      "outputs": [
        {
          "output_type": "execute_result",
          "data": {
            "text/plain": [
              "(2, 4, 6, 8, 10, 12, 14, 16, 18, 20, 22, 24, 26)"
            ]
          },
          "metadata": {},
          "execution_count": 17
        }
      ],
      "source": [
        "original = tuple(range(2, 21, 2))\n",
        "modificada = original + (22, 24, 26)\n",
        "modificada\n"
      ]
    },
    {
      "cell_type": "markdown",
      "id": "7a75137d-205b-43d6-b9a3-d73b61c4f383",
      "metadata": {
        "id": "7a75137d-205b-43d6-b9a3-d73b61c4f383"
      },
      "source": [
        "Puedes llamar a los elementos individuales, arma un print que nos diga en que año nació paty (tiene 23 años al 2021)"
      ]
    },
    {
      "cell_type": "code",
      "execution_count": 19,
      "id": "451ff4ad-e817-4f00-b48e-3291b5e47618",
      "metadata": {
        "colab": {
          "base_uri": "https://localhost:8080/"
        },
        "id": "451ff4ad-e817-4f00-b48e-3291b5e47618",
        "outputId": "9f3403ee-8f79-4dc3-e78e-e0297cbe85d6"
      },
      "outputs": [
        {
          "output_type": "stream",
          "name": "stdout",
          "text": [
            "Nacio en: 2002\n"
          ]
        }
      ],
      "source": [
        "dt= 'Paty', 'F', '23'\n",
        "print('Nacio en:',2025 - int(dt[2]))"
      ]
    },
    {
      "cell_type": "markdown",
      "id": "5d282773-6fc3-4056-b784-14e5ef195d07",
      "metadata": {
        "id": "5d282773-6fc3-4056-b784-14e5ef195d07"
      },
      "source": [
        "Es posible acceder a cualquier secuencia de elementos, asignando cada elemnto de la secuencia con una variable separada por comas"
      ]
    },
    {
      "cell_type": "code",
      "execution_count": 21,
      "id": "1f4b9f03-8cc1-47a4-b60c-a9faced7fcd0",
      "metadata": {
        "colab": {
          "base_uri": "https://localhost:8080/",
          "height": 36
        },
        "id": "1f4b9f03-8cc1-47a4-b60c-a9faced7fcd0",
        "outputId": "b94dcadc-9a27-4f74-f85c-15efc0d246d4"
      },
      "outputs": [
        {
          "output_type": "execute_result",
          "data": {
            "text/plain": [
              "'paco'"
            ],
            "application/vnd.google.colaboratory.intrinsic+json": {
              "type": "string"
            }
          },
          "metadata": {},
          "execution_count": 21
        }
      ],
      "source": [
        "datos=('paco', [1, 2])\n",
        "nombre, est =datos\n",
        "nombre\n"
      ]
    },
    {
      "cell_type": "code",
      "execution_count": 22,
      "id": "4e870462-6ac0-4da5-84d7-7721842e108c",
      "metadata": {
        "colab": {
          "base_uri": "https://localhost:8080/"
        },
        "id": "4e870462-6ac0-4da5-84d7-7721842e108c",
        "outputId": "6427e10f-a134-462e-c4e3-4d5f4a9aa320"
      },
      "outputs": [
        {
          "output_type": "execute_result",
          "data": {
            "text/plain": [
              "[1, 2]"
            ]
          },
          "metadata": {},
          "execution_count": 22
        }
      ],
      "source": [
        "est"
      ]
    },
    {
      "cell_type": "code",
      "execution_count": null,
      "id": "9568689e-c811-4fce-be49-6a7d6319e0d8",
      "metadata": {
        "id": "9568689e-c811-4fce-be49-6a7d6319e0d8"
      },
      "outputs": [],
      "source": []
    },
    {
      "cell_type": "code",
      "execution_count": null,
      "id": "4045957b-b011-4f30-873f-842dbd6a372e",
      "metadata": {
        "id": "4045957b-b011-4f30-873f-842dbd6a372e"
      },
      "outputs": [],
      "source": []
    },
    {
      "cell_type": "markdown",
      "id": "5969742f-1fbf-4624-9ad2-ee0d93ef8bdf",
      "metadata": {
        "id": "5969742f-1fbf-4624-9ad2-ee0d93ef8bdf"
      },
      "source": [
        "Si en la tupla solo hay caracteres, vamos a armar un print que nos de cada letra por separado"
      ]
    },
    {
      "cell_type": "code",
      "execution_count": 23,
      "id": "9d72b043-b0c5-49cb-b7c5-650d0d2d9687",
      "metadata": {
        "colab": {
          "base_uri": "https://localhost:8080/"
        },
        "id": "9d72b043-b0c5-49cb-b7c5-650d0d2d9687",
        "outputId": "33ab58a4-dae9-4680-bb49-171369ee8ec6"
      },
      "outputs": [
        {
          "output_type": "stream",
          "name": "stdout",
          "text": [
            "V,A\n"
          ]
        }
      ],
      "source": [
        "p,s='VA'\n",
        "print(f'{p},{s}')"
      ]
    },
    {
      "cell_type": "code",
      "execution_count": null,
      "id": "58736758-30e0-4b06-9bba-cee7cd305dca",
      "metadata": {
        "id": "58736758-30e0-4b06-9bba-cee7cd305dca"
      },
      "outputs": [],
      "source": []
    },
    {
      "cell_type": "code",
      "execution_count": null,
      "id": "5dd0b92b-5211-4daa-9593-33d77c724ed1",
      "metadata": {
        "id": "5dd0b92b-5211-4daa-9593-33d77c724ed1"
      },
      "outputs": [],
      "source": []
    },
    {
      "cell_type": "markdown",
      "id": "9af5b414-23c0-4dea-b56e-2b50bf54ad79",
      "metadata": {
        "id": "9af5b414-23c0-4dea-b56e-2b50bf54ad79"
      },
      "source": [
        "Y si son valores..."
      ]
    },
    {
      "cell_type": "code",
      "execution_count": 24,
      "id": "53fe6f63-23f3-4fcb-81ee-f1932d4adfe8",
      "metadata": {
        "colab": {
          "base_uri": "https://localhost:8080/"
        },
        "id": "53fe6f63-23f3-4fcb-81ee-f1932d4adfe8",
        "outputId": "dc2bae42-00ef-4503-9f7c-4fb6d7798a70"
      },
      "outputs": [
        {
          "output_type": "stream",
          "name": "stdout",
          "text": [
            "1,2,3\n"
          ]
        }
      ],
      "source": [
        "e,b,c=(1,2,3)\n",
        "print(f'{e},{b},{c}')"
      ]
    },
    {
      "cell_type": "code",
      "execution_count": null,
      "id": "700c9144-5de5-4b55-83e1-fbc39f090da7",
      "metadata": {
        "id": "700c9144-5de5-4b55-83e1-fbc39f090da7"
      },
      "outputs": [],
      "source": []
    },
    {
      "cell_type": "code",
      "execution_count": null,
      "id": "30bc0060-b70f-405d-bf50-2fa9f6e72719",
      "metadata": {
        "id": "30bc0060-b70f-405d-bf50-2fa9f6e72719"
      },
      "outputs": [],
      "source": []
    },
    {
      "cell_type": "markdown",
      "id": "e735cded-fe6f-48bb-8062-801e0fd6c1b6",
      "metadata": {
        "id": "e735cded-fe6f-48bb-8062-801e0fd6c1b6"
      },
      "source": [
        "## 5.4.- Separando Secuencias"
      ]
    },
    {
      "cell_type": "markdown",
      "id": "268097d6-3300-4929-9981-8b1e55d549ec",
      "metadata": {
        "id": "268097d6-3300-4929-9981-8b1e55d549ec"
      },
      "source": [
        "Crea una secuencia con todas las potencias de 2 - del 2 al 256"
      ]
    },
    {
      "cell_type": "code",
      "execution_count": 27,
      "id": "42058ae5-f784-412b-8470-2b7f2c229c3e",
      "metadata": {
        "colab": {
          "base_uri": "https://localhost:8080/"
        },
        "id": "42058ae5-f784-412b-8470-2b7f2c229c3e",
        "outputId": "0922998b-78be-4928-d23b-6f704559af77"
      },
      "outputs": [
        {
          "output_type": "execute_result",
          "data": {
            "text/plain": [
              "[2, 4, 8, 16, 32, 64, 128, 256]"
            ]
          },
          "metadata": {},
          "execution_count": 27
        }
      ],
      "source": [
        "p= [2,4,8,16,32,64,128,256]\n",
        "p"
      ]
    },
    {
      "cell_type": "code",
      "execution_count": null,
      "id": "c38bf316-ff05-45e9-afc9-622b65d003f8",
      "metadata": {
        "id": "c38bf316-ff05-45e9-afc9-622b65d003f8"
      },
      "outputs": [],
      "source": []
    },
    {
      "cell_type": "markdown",
      "id": "01ebf672-550e-4ca6-abd5-73e8f036aebc",
      "metadata": {
        "id": "01ebf672-550e-4ca6-abd5-73e8f036aebc"
      },
      "source": [
        "Selecciona el 16 y 32"
      ]
    },
    {
      "cell_type": "code",
      "execution_count": 28,
      "id": "2ded3131-a702-4467-a906-c8e9821e846c",
      "metadata": {
        "colab": {
          "base_uri": "https://localhost:8080/"
        },
        "id": "2ded3131-a702-4467-a906-c8e9821e846c",
        "outputId": "923bc4dd-e449-4370-eacd-0e1b39dbbeff"
      },
      "outputs": [
        {
          "output_type": "execute_result",
          "data": {
            "text/plain": [
              "[16, 32]"
            ]
          },
          "metadata": {},
          "execution_count": 28
        }
      ],
      "source": [
        "p[3:5]"
      ]
    },
    {
      "cell_type": "markdown",
      "id": "51a7badc-c12d-4df1-9a04-cfac6cccf92b",
      "metadata": {
        "id": "51a7badc-c12d-4df1-9a04-cfac6cccf92b"
      },
      "source": [
        "Ahora selecciona los primeros 5 elementos"
      ]
    },
    {
      "cell_type": "code",
      "execution_count": 29,
      "id": "3c5bbac0-ed79-483b-ad46-b1ec64bb76a3",
      "metadata": {
        "colab": {
          "base_uri": "https://localhost:8080/"
        },
        "id": "3c5bbac0-ed79-483b-ad46-b1ec64bb76a3",
        "outputId": "279d6731-81c6-431b-957b-b8a507d7ba2e"
      },
      "outputs": [
        {
          "output_type": "execute_result",
          "data": {
            "text/plain": [
              "[2, 4, 8, 16, 32]"
            ]
          },
          "metadata": {},
          "execution_count": 29
        }
      ],
      "source": [
        "p[:5]"
      ]
    },
    {
      "cell_type": "markdown",
      "id": "04f36a0c-af19-441d-ace3-13f19b279292",
      "metadata": {
        "id": "04f36a0c-af19-441d-ace3-13f19b279292"
      },
      "source": [
        "Ahora vamos a seleccionar todos desde el 16 en adelante"
      ]
    },
    {
      "cell_type": "code",
      "execution_count": 30,
      "id": "7bcfbdbc-f0f2-44c4-b59b-2c9f8e4ec93d",
      "metadata": {
        "colab": {
          "base_uri": "https://localhost:8080/"
        },
        "id": "7bcfbdbc-f0f2-44c4-b59b-2c9f8e4ec93d",
        "outputId": "bc09981c-fcf2-40b0-a1dd-81d4c4c64a8c"
      },
      "outputs": [
        {
          "output_type": "execute_result",
          "data": {
            "text/plain": [
              "[16, 32, 64, 128, 256]"
            ]
          },
          "metadata": {},
          "execution_count": 30
        }
      ],
      "source": [
        "p[3:]"
      ]
    },
    {
      "cell_type": "markdown",
      "id": "f04faa4d-bf17-45e2-874a-cfc78919f798",
      "metadata": {
        "id": "f04faa4d-bf17-45e2-874a-cfc78919f798"
      },
      "source": [
        "Si dejamos los : asi nomás, selecciona todo"
      ]
    },
    {
      "cell_type": "code",
      "execution_count": 31,
      "id": "5ae3fa58-9a65-40af-af88-bd03be1753b2",
      "metadata": {
        "colab": {
          "base_uri": "https://localhost:8080/"
        },
        "id": "5ae3fa58-9a65-40af-af88-bd03be1753b2",
        "outputId": "56ca87c9-e98f-4c47-ccd7-13bd49e6b18f"
      },
      "outputs": [
        {
          "output_type": "execute_result",
          "data": {
            "text/plain": [
              "[2, 4, 8, 16, 32, 64, 128, 256]"
            ]
          },
          "metadata": {},
          "execution_count": 31
        }
      ],
      "source": [
        "p[:]"
      ]
    },
    {
      "cell_type": "markdown",
      "id": "b9bc5f09-3352-4e1e-a560-3e5528197175",
      "metadata": {
        "id": "b9bc5f09-3352-4e1e-a560-3e5528197175"
      },
      "source": [
        "También podemos seleccionar elementos de 2 en 2 o de 3 en 3 o asi, deja :: y luego va el stepfunction"
      ]
    },
    {
      "cell_type": "code",
      "execution_count": 32,
      "id": "dc1f41f6-156c-4c75-ba27-ff30655d5d0e",
      "metadata": {
        "colab": {
          "base_uri": "https://localhost:8080/"
        },
        "id": "dc1f41f6-156c-4c75-ba27-ff30655d5d0e",
        "outputId": "64adf684-47b4-4e9f-ba1a-4037691bae99"
      },
      "outputs": [
        {
          "output_type": "execute_result",
          "data": {
            "text/plain": [
              "[2, 16, 128]"
            ]
          },
          "metadata": {},
          "execution_count": 32
        }
      ],
      "source": [
        "p[::3]"
      ]
    },
    {
      "cell_type": "markdown",
      "id": "c2a43c4a-78bc-40bc-9303-4894721a1a11",
      "metadata": {
        "id": "c2a43c4a-78bc-40bc-9303-4894721a1a11"
      },
      "source": [
        "Y si vamos de -3 en -3 significa que empieza desde el final"
      ]
    },
    {
      "cell_type": "code",
      "execution_count": 33,
      "id": "67dfc2aa-e7fb-4618-b06d-efc838aaffe8",
      "metadata": {
        "colab": {
          "base_uri": "https://localhost:8080/"
        },
        "id": "67dfc2aa-e7fb-4618-b06d-efc838aaffe8",
        "outputId": "1c8008d9-cfe5-4fa6-c224-774ca25cbcd0"
      },
      "outputs": [
        {
          "output_type": "execute_result",
          "data": {
            "text/plain": [
              "[256, 32, 4]"
            ]
          },
          "metadata": {},
          "execution_count": 33
        }
      ],
      "source": [
        "p[::-3]"
      ]
    },
    {
      "cell_type": "markdown",
      "id": "21fd3e6f-8f87-4778-a42c-337ab34b6077",
      "metadata": {
        "id": "21fd3e6f-8f87-4778-a42c-337ab34b6077"
      },
      "source": [
        "Ahora modifica los nombres de los primeros 3 elementos, - en vez de numero que sea su nombre en letra"
      ]
    },
    {
      "cell_type": "code",
      "execution_count": 34,
      "id": "55433e0e-0d85-44aa-bd82-51b63d02b594",
      "metadata": {
        "id": "55433e0e-0d85-44aa-bd82-51b63d02b594"
      },
      "outputs": [],
      "source": [
        "p[0:3]=['dos','cuatro','ocho']"
      ]
    },
    {
      "cell_type": "code",
      "execution_count": 35,
      "id": "e01238e9-68ce-498c-8d3e-35537a289094",
      "metadata": {
        "colab": {
          "base_uri": "https://localhost:8080/"
        },
        "id": "e01238e9-68ce-498c-8d3e-35537a289094",
        "outputId": "6113e8e2-b177-4c5d-b0c2-0f7914400fe6"
      },
      "outputs": [
        {
          "output_type": "execute_result",
          "data": {
            "text/plain": [
              "['dos', 'cuatro', 'ocho', 16, 32, 64, 128, 256]"
            ]
          },
          "metadata": {},
          "execution_count": 35
        }
      ],
      "source": [
        "p"
      ]
    },
    {
      "cell_type": "markdown",
      "id": "17713748-a6e6-45de-b6a0-66ef95e49cdf",
      "metadata": {
        "id": "17713748-a6e6-45de-b6a0-66ef95e49cdf"
      },
      "source": [
        "Mira, si le decimos qu elos elementos 0:2 van a estar [], entonces los borra"
      ]
    },
    {
      "cell_type": "code",
      "execution_count": 36,
      "id": "693215b6-3b49-47f2-9153-bf902a39c87c",
      "metadata": {
        "id": "693215b6-3b49-47f2-9153-bf902a39c87c"
      },
      "outputs": [],
      "source": [
        "p[0:2]=[]"
      ]
    },
    {
      "cell_type": "code",
      "execution_count": 37,
      "id": "e3c4aa21-3166-463a-9602-7fb8befd2ebe",
      "metadata": {
        "colab": {
          "base_uri": "https://localhost:8080/"
        },
        "id": "e3c4aa21-3166-463a-9602-7fb8befd2ebe",
        "outputId": "91b8e338-255a-49a1-f791-641da5d5a649"
      },
      "outputs": [
        {
          "output_type": "execute_result",
          "data": {
            "text/plain": [
              "['ocho', 16, 32, 64, 128, 256]"
            ]
          },
          "metadata": {},
          "execution_count": 37
        }
      ],
      "source": [
        "p"
      ]
    },
    {
      "cell_type": "code",
      "execution_count": null,
      "id": "64f0cfdb-9dd5-4b25-8a51-3cfa738d7dba",
      "metadata": {
        "id": "64f0cfdb-9dd5-4b25-8a51-3cfa738d7dba"
      },
      "outputs": [],
      "source": []
    },
    {
      "cell_type": "code",
      "execution_count": null,
      "id": "23f10cd9-f3e5-4333-a668-cb6a44c98549",
      "metadata": {
        "id": "23f10cd9-f3e5-4333-a668-cb6a44c98549"
      },
      "outputs": [],
      "source": []
    },
    {
      "cell_type": "markdown",
      "id": "270080aa-82c2-4407-b507-8be7a1bf26f7",
      "metadata": {
        "id": "270080aa-82c2-4407-b507-8be7a1bf26f7"
      },
      "source": [
        "#### Por tu cuenta\n",
        "\n",
        "Crea una lista llamada números que contenga los valores del 1 al 15, haz las siguientes operaciones\n",
        "-selecciona los numeros enteros\n",
        "-reemplaza los elementos en indices 5 al 9 por 0s\n",
        "-manten solo los primeros 5 elementos, y muestra la lista resultante\n",
        "-Borra todos los elementos que quedan"
      ]
    },
    {
      "cell_type": "code",
      "execution_count": 38,
      "id": "bea74808-8298-4fe0-9c48-457ce0f055b7",
      "metadata": {
        "id": "bea74808-8298-4fe0-9c48-457ce0f055b7"
      },
      "outputs": [],
      "source": [
        "numeros = list(range(1, 16))\n",
        "enteros = [x for x in numeros if isinstance(x, int)]\n",
        "numeros[5:10] = [0] * 5\n"
      ]
    },
    {
      "cell_type": "code",
      "execution_count": 39,
      "id": "d2e85b6a-f33f-444b-a1f1-e2f2dc3cbd38",
      "metadata": {
        "colab": {
          "base_uri": "https://localhost:8080/"
        },
        "id": "d2e85b6a-f33f-444b-a1f1-e2f2dc3cbd38",
        "outputId": "5b5c3e71-5788-4212-ae70-a82b5d71c253"
      },
      "outputs": [
        {
          "output_type": "stream",
          "name": "stdout",
          "text": [
            "[1, 2, 3, 4, 5]\n"
          ]
        }
      ],
      "source": [
        "numeros = numeros[:5]\n",
        "print(numeros)\n"
      ]
    },
    {
      "cell_type": "code",
      "execution_count": 40,
      "id": "971effa8-4e76-4e87-a741-a9eb06b284cf",
      "metadata": {
        "colab": {
          "base_uri": "https://localhost:8080/"
        },
        "id": "971effa8-4e76-4e87-a741-a9eb06b284cf",
        "outputId": "aff24457-88da-4182-f097-24b4ef3b8350"
      },
      "outputs": [
        {
          "output_type": "stream",
          "name": "stdout",
          "text": [
            "[]\n"
          ]
        }
      ],
      "source": [
        "numeros.clear()\n",
        "print(numeros)\n"
      ]
    },
    {
      "cell_type": "markdown",
      "id": "e787df57-f04d-460b-ac74-ac76912815e4",
      "metadata": {
        "id": "e787df57-f04d-460b-ac74-ac76912815e4"
      },
      "source": [
        "### 5.4.2 - Del"
      ]
    },
    {
      "cell_type": "markdown",
      "id": "4efc660f-3092-43d5-a846-6e12b97c98b4",
      "metadata": {
        "id": "4efc660f-3092-43d5-a846-6e12b97c98b4"
      },
      "source": [
        "Ahora arma uan lista con todos los multiples de 10 del 0 al 90"
      ]
    },
    {
      "cell_type": "code",
      "execution_count": 50,
      "id": "82dffac8-898a-45ea-b5be-cd6f0ad74f8d",
      "metadata": {
        "id": "82dffac8-898a-45ea-b5be-cd6f0ad74f8d"
      },
      "outputs": [],
      "source": [
        "l=[0,10,20,30,40,50,60,70,80,90]"
      ]
    },
    {
      "cell_type": "code",
      "execution_count": 42,
      "id": "69cc933f-368a-42a8-9f19-f7fc28e995ef",
      "metadata": {
        "colab": {
          "base_uri": "https://localhost:8080/"
        },
        "id": "69cc933f-368a-42a8-9f19-f7fc28e995ef",
        "outputId": "e61e51ef-c821-4fb1-9e27-c84266b4bf3a"
      },
      "outputs": [
        {
          "output_type": "execute_result",
          "data": {
            "text/plain": [
              "[0, 10, 20, 30, 40, 50, 60, 70, 80, 90]"
            ]
          },
          "metadata": {},
          "execution_count": 42
        }
      ],
      "source": [
        "l"
      ]
    },
    {
      "cell_type": "code",
      "execution_count": null,
      "id": "21f15acd-bbc2-47ee-bd92-60e6b43df9a3",
      "metadata": {
        "id": "21f15acd-bbc2-47ee-bd92-60e6b43df9a3"
      },
      "outputs": [],
      "source": []
    },
    {
      "cell_type": "markdown",
      "id": "7f593981-b5fc-4629-9725-72e158c5e6b3",
      "metadata": {
        "id": "7f593981-b5fc-4629-9725-72e158c5e6b3"
      },
      "source": [
        "Borra del 30 al 50"
      ]
    },
    {
      "cell_type": "code",
      "execution_count": 51,
      "id": "9b08bf42-1f27-4166-8873-89aef5459e20",
      "metadata": {
        "id": "9b08bf42-1f27-4166-8873-89aef5459e20"
      },
      "outputs": [],
      "source": [
        "l[3:6]=[]"
      ]
    },
    {
      "cell_type": "code",
      "execution_count": 52,
      "id": "e46d970a-fff5-4205-bf72-eb4ca270fa93",
      "metadata": {
        "colab": {
          "base_uri": "https://localhost:8080/"
        },
        "id": "e46d970a-fff5-4205-bf72-eb4ca270fa93",
        "outputId": "431666c3-8fbb-480e-de9d-2dbef3d1c1fb"
      },
      "outputs": [
        {
          "output_type": "execute_result",
          "data": {
            "text/plain": [
              "[0, 10, 20, 60, 70, 80, 90]"
            ]
          },
          "metadata": {},
          "execution_count": 52
        }
      ],
      "source": [
        "l"
      ]
    },
    {
      "cell_type": "code",
      "execution_count": null,
      "id": "37cf9c6a-dea7-47d9-9a25-9c3effa656e0",
      "metadata": {
        "id": "37cf9c6a-dea7-47d9-9a25-9c3effa656e0"
      },
      "outputs": [],
      "source": []
    },
    {
      "cell_type": "markdown",
      "id": "76350a53-7aab-4c18-9b43-a55f8b0c551d",
      "metadata": {
        "id": "76350a53-7aab-4c18-9b43-a55f8b0c551d"
      },
      "source": [
        "A continuación, rearma la lista y borra cada segundo elemento"
      ]
    },
    {
      "cell_type": "code",
      "execution_count": 56,
      "id": "17481723-57af-4e64-9479-9d5d33b9af4d",
      "metadata": {
        "id": "17481723-57af-4e64-9479-9d5d33b9af4d"
      },
      "outputs": [],
      "source": [
        "l=[0,10,20,30,40,50,60,70,80,90]"
      ]
    },
    {
      "cell_type": "code",
      "execution_count": 58,
      "id": "434abc5e-a248-4945-b6de-c0492ca8cbc2",
      "metadata": {
        "id": "434abc5e-a248-4945-b6de-c0492ca8cbc2"
      },
      "outputs": [],
      "source": [
        "del l[::2]"
      ]
    },
    {
      "cell_type": "code",
      "execution_count": 59,
      "id": "aca73456-1032-4b23-b0b6-9b7b44ce0c88",
      "metadata": {
        "colab": {
          "base_uri": "https://localhost:8080/"
        },
        "id": "aca73456-1032-4b23-b0b6-9b7b44ce0c88",
        "outputId": "793b9be8-29dd-46e7-df9e-c9a258e903ff"
      },
      "outputs": [
        {
          "output_type": "execute_result",
          "data": {
            "text/plain": [
              "[10, 30, 50, 70, 90]"
            ]
          },
          "metadata": {},
          "execution_count": 59
        }
      ],
      "source": [
        "l"
      ]
    },
    {
      "cell_type": "markdown",
      "id": "da7c571a-ba0f-472b-9800-b94b7808ff05",
      "metadata": {
        "id": "da7c571a-ba0f-472b-9800-b94b7808ff05"
      },
      "source": [
        "Y por último, borra la lista completa"
      ]
    },
    {
      "cell_type": "code",
      "execution_count": 60,
      "id": "d21a9a28-cca0-436d-becb-c021125b4c55",
      "metadata": {
        "id": "d21a9a28-cca0-436d-becb-c021125b4c55"
      },
      "outputs": [],
      "source": [
        "l[0:10]=[]"
      ]
    },
    {
      "cell_type": "code",
      "execution_count": 61,
      "id": "cda97e49-305e-4213-92d5-83ebd048f8e4",
      "metadata": {
        "colab": {
          "base_uri": "https://localhost:8080/"
        },
        "id": "cda97e49-305e-4213-92d5-83ebd048f8e4",
        "outputId": "ebb16507-b16b-442b-afad-1cf04dc6bb27"
      },
      "outputs": [
        {
          "output_type": "execute_result",
          "data": {
            "text/plain": [
              "[]"
            ]
          },
          "metadata": {},
          "execution_count": 61
        }
      ],
      "source": [
        "l"
      ]
    },
    {
      "cell_type": "code",
      "execution_count": null,
      "id": "29191760-af5b-4e40-99d4-7c990035e8ac",
      "metadata": {
        "id": "29191760-af5b-4e40-99d4-7c990035e8ac"
      },
      "outputs": [],
      "source": []
    },
    {
      "cell_type": "markdown",
      "id": "5f383b91-b740-40ed-9904-cfefc90ae7c9",
      "metadata": {
        "id": "5f383b91-b740-40ed-9904-cfefc90ae7c9"
      },
      "source": [
        "#### Por tu cuenta\n",
        "\n",
        "Crea una lista con los numeros del 1 al 15\n",
        "- borra una parte que contenga los primeros 4 elementos, muestra tu resultado\n",
        "- Empezando con el primer elemento, borra cada 2do elemento de la lista."
      ]
    },
    {
      "cell_type": "code",
      "execution_count": 65,
      "id": "f242cd81-a228-4ff9-8b6c-dddab8ce1d6c",
      "metadata": {
        "id": "f242cd81-a228-4ff9-8b6c-dddab8ce1d6c"
      },
      "outputs": [],
      "source": [
        "l=[1,2,3,4,5,6,7,8,9,10,11,12,13,14,15]"
      ]
    },
    {
      "cell_type": "code",
      "execution_count": 66,
      "id": "a8df8333-685b-4a9f-8132-009421dc71e5",
      "metadata": {
        "id": "a8df8333-685b-4a9f-8132-009421dc71e5"
      },
      "outputs": [],
      "source": [
        "l[0:4]=[]"
      ]
    },
    {
      "cell_type": "code",
      "execution_count": 67,
      "id": "501f2a73-c5af-4416-a486-65d88b3cad0f",
      "metadata": {
        "colab": {
          "base_uri": "https://localhost:8080/"
        },
        "id": "501f2a73-c5af-4416-a486-65d88b3cad0f",
        "outputId": "05b92faa-3765-4947-ba81-5c89d2a51318"
      },
      "outputs": [
        {
          "output_type": "execute_result",
          "data": {
            "text/plain": [
              "[5, 6, 7, 8, 9, 10, 11, 12, 13, 14, 15]"
            ]
          },
          "metadata": {},
          "execution_count": 67
        }
      ],
      "source": [
        "l"
      ]
    },
    {
      "cell_type": "code",
      "execution_count": 68,
      "id": "db29369a-ab64-4bc4-8c89-ec84a85d3cf8",
      "metadata": {
        "id": "db29369a-ab64-4bc4-8c89-ec84a85d3cf8"
      },
      "outputs": [],
      "source": [
        "l=[1,2,3,4,5,6,7,8,9,10,11,12,13,14,15]"
      ]
    },
    {
      "cell_type": "code",
      "execution_count": 69,
      "id": "a36e6bf6-5b25-468b-9db6-68376bf4cd11",
      "metadata": {
        "id": "a36e6bf6-5b25-468b-9db6-68376bf4cd11"
      },
      "outputs": [],
      "source": [
        "del l[::2]"
      ]
    },
    {
      "cell_type": "code",
      "execution_count": 70,
      "id": "698d75a4-9817-4489-8863-e55b7474a40a",
      "metadata": {
        "colab": {
          "base_uri": "https://localhost:8080/"
        },
        "id": "698d75a4-9817-4489-8863-e55b7474a40a",
        "outputId": "9f39e320-4152-48b4-fb0c-3d40669c2e9f"
      },
      "outputs": [
        {
          "output_type": "execute_result",
          "data": {
            "text/plain": [
              "[2, 4, 6, 8, 10, 12, 14]"
            ]
          },
          "metadata": {},
          "execution_count": 70
        }
      ],
      "source": [
        "l"
      ]
    },
    {
      "cell_type": "code",
      "execution_count": null,
      "id": "97b9c56f-9050-49f9-91a1-21e2c6cc3311",
      "metadata": {
        "id": "97b9c56f-9050-49f9-91a1-21e2c6cc3311"
      },
      "outputs": [],
      "source": []
    },
    {
      "cell_type": "markdown",
      "id": "6a657591-236e-4a92-8aac-a46d77f57cdb",
      "metadata": {
        "id": "6a657591-236e-4a92-8aac-a46d77f57cdb"
      },
      "source": [
        "## 5.5.- Listas Ordenadas"
      ]
    },
    {
      "cell_type": "markdown",
      "id": "16151e48-3630-4dcd-a3c4-66c374430646",
      "metadata": {
        "id": "16151e48-3630-4dcd-a3c4-66c374430646"
      },
      "source": [
        "Vamos  armar la lista\n",
        "\n",
        "edad = [65,26,28,36,18]"
      ]
    },
    {
      "cell_type": "code",
      "execution_count": 71,
      "id": "6637251b-41df-44cc-9e5c-6290dba5cbd4",
      "metadata": {
        "id": "6637251b-41df-44cc-9e5c-6290dba5cbd4"
      },
      "outputs": [],
      "source": [
        "edad = [65,26,28,36,18]"
      ]
    },
    {
      "cell_type": "code",
      "execution_count": null,
      "id": "d3a52279-18a0-4e01-8413-9e5e2ebed60b",
      "metadata": {
        "id": "d3a52279-18a0-4e01-8413-9e5e2ebed60b"
      },
      "outputs": [],
      "source": []
    },
    {
      "cell_type": "markdown",
      "id": "bb6aa8e8-9f7d-45f2-a79f-3f32f5db51c9",
      "metadata": {
        "id": "bb6aa8e8-9f7d-45f2-a79f-3f32f5db51c9"
      },
      "source": [
        "Ahora vamos a ordenarla usando sort()"
      ]
    },
    {
      "cell_type": "code",
      "execution_count": 72,
      "id": "920cf4e0-e995-4fd5-beaf-20954b074f84",
      "metadata": {
        "id": "920cf4e0-e995-4fd5-beaf-20954b074f84"
      },
      "outputs": [],
      "source": [
        "edad.sort()"
      ]
    },
    {
      "cell_type": "code",
      "execution_count": 73,
      "id": "0ba2863f-1e1a-4e85-a2ed-b6bfadb93eb1",
      "metadata": {
        "colab": {
          "base_uri": "https://localhost:8080/"
        },
        "id": "0ba2863f-1e1a-4e85-a2ed-b6bfadb93eb1",
        "outputId": "28486bd6-1b88-473e-fe39-5ccf706551b7"
      },
      "outputs": [
        {
          "output_type": "execute_result",
          "data": {
            "text/plain": [
              "[18, 26, 28, 36, 65]"
            ]
          },
          "metadata": {},
          "execution_count": 73
        }
      ],
      "source": [
        "edad"
      ]
    },
    {
      "cell_type": "markdown",
      "id": "8a9575ea-33cd-43cd-9f5d-0b3101e84101",
      "metadata": {
        "id": "8a9575ea-33cd-43cd-9f5d-0b3101e84101"
      },
      "source": [
        "Ahora vamos aordenarla usando sort(reverse=true)"
      ]
    },
    {
      "cell_type": "code",
      "execution_count": 75,
      "id": "43c0e69f-6adc-4d7f-83b0-37fabd28bcfe",
      "metadata": {
        "id": "43c0e69f-6adc-4d7f-83b0-37fabd28bcfe"
      },
      "outputs": [],
      "source": [
        "edad.sort(reverse=True)"
      ]
    },
    {
      "cell_type": "code",
      "execution_count": 76,
      "id": "8c4d0a76-abcd-4f1a-950b-176f8deeec7a",
      "metadata": {
        "colab": {
          "base_uri": "https://localhost:8080/"
        },
        "id": "8c4d0a76-abcd-4f1a-950b-176f8deeec7a",
        "outputId": "e8e3e11a-5fc2-4afc-e085-7567a6940108"
      },
      "outputs": [
        {
          "output_type": "execute_result",
          "data": {
            "text/plain": [
              "[65, 36, 28, 26, 18]"
            ]
          },
          "metadata": {},
          "execution_count": 76
        }
      ],
      "source": [
        "edad"
      ]
    },
    {
      "cell_type": "code",
      "execution_count": null,
      "id": "4f631ae8-d3f9-45bd-bb40-62a41a8a2938",
      "metadata": {
        "id": "4f631ae8-d3f9-45bd-bb40-62a41a8a2938"
      },
      "outputs": [],
      "source": []
    },
    {
      "cell_type": "markdown",
      "id": "d4c2de46-6517-4751-b11e-10f58fabb731",
      "metadata": {
        "id": "d4c2de46-6517-4751-b11e-10f58fabb731"
      },
      "source": [
        "También se puede usar la función sorted, que es una función que devuelve otra lista"
      ]
    },
    {
      "cell_type": "code",
      "execution_count": 79,
      "id": "d3657f31-4ada-4d22-9644-4110caaa1b24",
      "metadata": {
        "id": "d3657f31-4ada-4d22-9644-4110caaa1b24"
      },
      "outputs": [],
      "source": [
        "edad = [65,26,28,36,18]"
      ]
    },
    {
      "cell_type": "code",
      "execution_count": 81,
      "id": "e1b49817-2c15-4946-98a8-2a2cd768b236",
      "metadata": {
        "id": "e1b49817-2c15-4946-98a8-2a2cd768b236"
      },
      "outputs": [],
      "source": [
        "edad1= sorted(edad)"
      ]
    },
    {
      "cell_type": "code",
      "execution_count": 82,
      "id": "5e90cc89-cae0-47db-bf46-b622385bc3fb",
      "metadata": {
        "colab": {
          "base_uri": "https://localhost:8080/"
        },
        "id": "5e90cc89-cae0-47db-bf46-b622385bc3fb",
        "outputId": "a948a27d-6a35-4d0d-dec2-a0586f2dfd17"
      },
      "outputs": [
        {
          "output_type": "execute_result",
          "data": {
            "text/plain": [
              "[18, 26, 28, 36, 65]"
            ]
          },
          "metadata": {},
          "execution_count": 82
        }
      ],
      "source": [
        "edad1"
      ]
    },
    {
      "cell_type": "code",
      "execution_count": null,
      "id": "1c048a24-59d8-4d56-955f-90227a727ee2",
      "metadata": {
        "id": "1c048a24-59d8-4d56-955f-90227a727ee2"
      },
      "outputs": [],
      "source": []
    },
    {
      "cell_type": "markdown",
      "id": "316e7554-d647-4c9c-8c99-356aba8c2688",
      "metadata": {
        "id": "316e7554-d647-4c9c-8c99-356aba8c2688"
      },
      "source": [
        "Se pueden ordenar cadenas de caracters"
      ]
    },
    {
      "cell_type": "code",
      "execution_count": 83,
      "id": "a9cbd0df-1f39-4898-b0a4-9c29d00e462b",
      "metadata": {
        "id": "a9cbd0df-1f39-4898-b0a4-9c29d00e462b"
      },
      "outputs": [],
      "source": [
        "n='FRANCOSCO'"
      ]
    },
    {
      "cell_type": "code",
      "execution_count": 84,
      "id": "c287cd7f-580c-495c-81b2-0512294a54c6",
      "metadata": {
        "id": "c287cd7f-580c-495c-81b2-0512294a54c6"
      },
      "outputs": [],
      "source": [
        "la=sorted(n)"
      ]
    },
    {
      "cell_type": "code",
      "execution_count": 85,
      "id": "8817f622-0f59-4022-a5da-da31f458cad4",
      "metadata": {
        "colab": {
          "base_uri": "https://localhost:8080/"
        },
        "id": "8817f622-0f59-4022-a5da-da31f458cad4",
        "outputId": "56f254f8-f87c-4f25-afb8-46b781ddb078"
      },
      "outputs": [
        {
          "output_type": "execute_result",
          "data": {
            "text/plain": [
              "['A', 'C', 'C', 'F', 'N', 'O', 'O', 'R', 'S']"
            ]
          },
          "metadata": {},
          "execution_count": 85
        }
      ],
      "source": [
        "la"
      ]
    },
    {
      "cell_type": "markdown",
      "id": "faf47c21-c6e1-4006-801a-46fcfe875760",
      "metadata": {
        "id": "faf47c21-c6e1-4006-801a-46fcfe875760"
      },
      "source": [
        "Y también las tuplas, pero solo usando sorted"
      ]
    },
    {
      "cell_type": "code",
      "execution_count": 86,
      "id": "af686482-c3dc-4979-8891-d30d669e1b0e",
      "metadata": {
        "id": "af686482-c3dc-4979-8891-d30d669e1b0e"
      },
      "outputs": [],
      "source": [
        "e=('hugo', 'paco', 'luis')"
      ]
    },
    {
      "cell_type": "code",
      "execution_count": 87,
      "id": "79868e1a-8c36-4658-97b7-39dc63aece88",
      "metadata": {
        "id": "79868e1a-8c36-4658-97b7-39dc63aece88"
      },
      "outputs": [],
      "source": [
        "eo=sorted(e)"
      ]
    },
    {
      "cell_type": "code",
      "execution_count": 88,
      "id": "26c7dde5-1773-4903-9a1d-4a0d05b9ebf1",
      "metadata": {
        "colab": {
          "base_uri": "https://localhost:8080/"
        },
        "id": "26c7dde5-1773-4903-9a1d-4a0d05b9ebf1",
        "outputId": "c98e0181-b65a-4780-bb92-2ee00172f63b"
      },
      "outputs": [
        {
          "output_type": "execute_result",
          "data": {
            "text/plain": [
              "['hugo', 'luis', 'paco']"
            ]
          },
          "metadata": {},
          "execution_count": 88
        }
      ],
      "source": [
        "eo"
      ]
    },
    {
      "cell_type": "markdown",
      "id": "fd59c820-17fc-4c26-b4bd-d712c0f899e2",
      "metadata": {
        "id": "fd59c820-17fc-4c26-b4bd-d712c0f899e2"
      },
      "source": [
        "### 5.5.2.- Buscando Secuencias"
      ]
    },
    {
      "cell_type": "markdown",
      "id": "a28823a1-57ce-4a0d-a337-03d44f00d475",
      "metadata": {
        "id": "a28823a1-57ce-4a0d-a337-03d44f00d475"
      },
      "source": [
        "Ahora arma la lista\n",
        "\n",
        "edad = [65,12,19,80,36,28,16,18,36,16,45,32,36,59]    "
      ]
    },
    {
      "cell_type": "code",
      "execution_count": 89,
      "id": "b7d8ace3-e89d-4eb3-888c-88b6db252126",
      "metadata": {
        "id": "b7d8ace3-e89d-4eb3-888c-88b6db252126"
      },
      "outputs": [],
      "source": [
        "edad = [65,12,19,80,36,28,16,18,36,16,45,32,36,59]"
      ]
    },
    {
      "cell_type": "code",
      "execution_count": null,
      "id": "16cea3cd-f574-4d91-a695-73caabe8b80a",
      "metadata": {
        "id": "16cea3cd-f574-4d91-a695-73caabe8b80a"
      },
      "outputs": [],
      "source": []
    },
    {
      "cell_type": "code",
      "execution_count": null,
      "id": "548f8dcc-2648-4441-9241-18de578adff4",
      "metadata": {
        "id": "548f8dcc-2648-4441-9241-18de578adff4"
      },
      "outputs": [],
      "source": []
    },
    {
      "cell_type": "markdown",
      "id": "97238422-0f79-4232-abf4-43e27f6a3a32",
      "metadata": {
        "id": "97238422-0f79-4232-abf4-43e27f6a3a32"
      },
      "source": [
        "Y busca en ella la edad 45 usando el método index()"
      ]
    },
    {
      "cell_type": "code",
      "execution_count": 90,
      "id": "6f1db40f-a4a5-42b6-9eec-1b038a4c7f5e",
      "metadata": {
        "colab": {
          "base_uri": "https://localhost:8080/"
        },
        "id": "6f1db40f-a4a5-42b6-9eec-1b038a4c7f5e",
        "outputId": "fe086090-16b9-4740-f06b-b672b24e31d7"
      },
      "outputs": [
        {
          "output_type": "execute_result",
          "data": {
            "text/plain": [
              "10"
            ]
          },
          "metadata": {},
          "execution_count": 90
        }
      ],
      "source": [
        "edad.index(45)"
      ]
    },
    {
      "cell_type": "code",
      "execution_count": null,
      "id": "ffadc33b-5c59-44e1-ad5f-d245ff967b38",
      "metadata": {
        "id": "ffadc33b-5c59-44e1-ad5f-d245ff967b38"
      },
      "outputs": [],
      "source": []
    },
    {
      "cell_type": "markdown",
      "id": "fddd6daa-b6a8-4999-adb0-6663778198cb",
      "metadata": {
        "id": "fddd6daa-b6a8-4999-adb0-6663778198cb"
      },
      "source": [
        "Si buscas algo que no esta, como 43, el resultado es..."
      ]
    },
    {
      "cell_type": "code",
      "execution_count": 92,
      "id": "5cdcf524-0249-4af0-b80c-34e35fc4f351",
      "metadata": {
        "id": "5cdcf524-0249-4af0-b80c-34e35fc4f351"
      },
      "outputs": [],
      "source": [
        "edad = [65,12,19,80,36,28,16,18,36,16,45,32,36,59]"
      ]
    },
    {
      "cell_type": "code",
      "execution_count": 93,
      "id": "a6e20552-b4a1-4cb0-a75e-45082e204407",
      "metadata": {
        "colab": {
          "base_uri": "https://localhost:8080/",
          "height": 141
        },
        "id": "a6e20552-b4a1-4cb0-a75e-45082e204407",
        "outputId": "bfa63329-6f81-4202-b186-073d0adea7b8"
      },
      "outputs": [
        {
          "output_type": "error",
          "ename": "ValueError",
          "evalue": "43 is not in list",
          "traceback": [
            "\u001b[0;31m---------------------------------------------------------------------------\u001b[0m",
            "\u001b[0;31mValueError\u001b[0m                                Traceback (most recent call last)",
            "\u001b[0;32m<ipython-input-93-3d7a28478f51>\u001b[0m in \u001b[0;36m<cell line: 0>\u001b[0;34m()\u001b[0m\n\u001b[0;32m----> 1\u001b[0;31m \u001b[0medad\u001b[0m\u001b[0;34m.\u001b[0m\u001b[0mindex\u001b[0m\u001b[0;34m(\u001b[0m\u001b[0;36m43\u001b[0m\u001b[0;34m)\u001b[0m\u001b[0;34m\u001b[0m\u001b[0;34m\u001b[0m\u001b[0m\n\u001b[0m",
            "\u001b[0;31mValueError\u001b[0m: 43 is not in list"
          ]
        }
      ],
      "source": [
        "edad.index(43)"
      ]
    },
    {
      "cell_type": "markdown",
      "id": "5f2ef81e-4b06-4dc0-9448-f9b654934f02",
      "metadata": {
        "id": "5f2ef81e-4b06-4dc0-9448-f9b654934f02"
      },
      "source": [
        "Tambien puedes usar el comando in, checa si 56 está in edad"
      ]
    },
    {
      "cell_type": "code",
      "execution_count": 94,
      "id": "d3fc8551-44df-4b27-bd17-5a106650df51",
      "metadata": {
        "colab": {
          "base_uri": "https://localhost:8080/"
        },
        "id": "d3fc8551-44df-4b27-bd17-5a106650df51",
        "outputId": "c7bc012c-3083-422d-a680-86b940c33844"
      },
      "outputs": [
        {
          "output_type": "execute_result",
          "data": {
            "text/plain": [
              "True"
            ]
          },
          "metadata": {},
          "execution_count": 94
        }
      ],
      "source": [
        "45 in edad"
      ]
    },
    {
      "cell_type": "code",
      "execution_count": null,
      "id": "9bf49d61-c927-4da0-9870-00a763e9cb15",
      "metadata": {
        "id": "9bf49d61-c927-4da0-9870-00a763e9cb15"
      },
      "outputs": [],
      "source": []
    },
    {
      "cell_type": "code",
      "execution_count": null,
      "id": "48c81a99-7ade-40ad-841a-5d7648475191",
      "metadata": {
        "id": "48c81a99-7ade-40ad-841a-5d7648475191"
      },
      "outputs": [],
      "source": []
    },
    {
      "cell_type": "markdown",
      "id": "ab18778b-6b0d-486f-ba82-8bd8180e49a5",
      "metadata": {
        "id": "ab18778b-6b0d-486f-ba82-8bd8180e49a5"
      },
      "source": [
        "### 5.5.3.- Otros Métodos de Lista"
      ]
    },
    {
      "cell_type": "markdown",
      "id": "5d9ef857-0c98-4d81-bc80-d216d7a6569e",
      "metadata": {
        "id": "5d9ef857-0c98-4d81-bc80-d216d7a6569e"
      },
      "source": [
        "Arma una ensalada\n",
        "\n",
        "vegetales = ['espinaca','apio']"
      ]
    },
    {
      "cell_type": "code",
      "execution_count": 95,
      "id": "cbb8406c-a845-48f7-b750-236900ea5cdd",
      "metadata": {
        "id": "cbb8406c-a845-48f7-b750-236900ea5cdd"
      },
      "outputs": [],
      "source": [
        "vegetales = ['espinaca','apio']"
      ]
    },
    {
      "cell_type": "code",
      "execution_count": null,
      "id": "d53654ef-3eff-4836-8ac7-1d87ed2d5b01",
      "metadata": {
        "id": "d53654ef-3eff-4836-8ac7-1d87ed2d5b01"
      },
      "outputs": [],
      "source": []
    },
    {
      "cell_type": "code",
      "execution_count": null,
      "id": "00e67747-42e1-4a27-b170-e1df71392cd3",
      "metadata": {
        "id": "00e67747-42e1-4a27-b170-e1df71392cd3"
      },
      "outputs": [],
      "source": []
    },
    {
      "cell_type": "markdown",
      "id": "8a58a395-7594-4096-83b4-e1e6c5cdcfb6",
      "metadata": {
        "id": "8a58a395-7594-4096-83b4-e1e6c5cdcfb6"
      },
      "source": [
        "Usa el método insert() para meter 'lechuga' en la posición 0"
      ]
    },
    {
      "cell_type": "code",
      "execution_count": 97,
      "id": "d1af9cf7-e8b5-400a-a18f-3196c72e7cc4",
      "metadata": {
        "id": "d1af9cf7-e8b5-400a-a18f-3196c72e7cc4"
      },
      "outputs": [],
      "source": [
        "vegetales.insert(0,'lechuga')"
      ]
    },
    {
      "cell_type": "code",
      "execution_count": 98,
      "id": "b87a1186-e837-481e-a4a9-b94212c7d37d",
      "metadata": {
        "colab": {
          "base_uri": "https://localhost:8080/"
        },
        "id": "b87a1186-e837-481e-a4a9-b94212c7d37d",
        "outputId": "217cd7de-a5f1-4f8e-e852-a8e8acdf1ff1"
      },
      "outputs": [
        {
          "output_type": "execute_result",
          "data": {
            "text/plain": [
              "['lechuga', 'espinaca', 'apio']"
            ]
          },
          "metadata": {},
          "execution_count": 98
        }
      ],
      "source": [
        "vegetales"
      ]
    },
    {
      "cell_type": "code",
      "execution_count": null,
      "id": "2d9e1136-c419-4296-a74a-14d7cb47a85f",
      "metadata": {
        "id": "2d9e1136-c419-4296-a74a-14d7cb47a85f"
      },
      "outputs": [],
      "source": []
    },
    {
      "cell_type": "markdown",
      "id": "52d4166b-d321-4a51-bbdd-978c4ded199e",
      "metadata": {
        "id": "52d4166b-d321-4a51-bbdd-978c4ded199e"
      },
      "source": [
        "Usa el método append() para meter 'esparragos' al final"
      ]
    },
    {
      "cell_type": "code",
      "execution_count": 99,
      "id": "2d6855bb-11d3-4d2e-9e5d-599cd6d659cf",
      "metadata": {
        "id": "2d6855bb-11d3-4d2e-9e5d-599cd6d659cf"
      },
      "outputs": [],
      "source": [
        "vegetales.append('esparragos')"
      ]
    },
    {
      "cell_type": "code",
      "execution_count": 100,
      "id": "2c8f2cb3-8b4a-4529-8579-863600c19eaf",
      "metadata": {
        "colab": {
          "base_uri": "https://localhost:8080/"
        },
        "id": "2c8f2cb3-8b4a-4529-8579-863600c19eaf",
        "outputId": "db1be150-b2f4-4631-fc5a-e190c42f533e"
      },
      "outputs": [
        {
          "output_type": "execute_result",
          "data": {
            "text/plain": [
              "['lechuga', 'espinaca', 'apio', 'esparragos']"
            ]
          },
          "metadata": {},
          "execution_count": 100
        }
      ],
      "source": [
        "vegetales"
      ]
    },
    {
      "cell_type": "code",
      "execution_count": null,
      "id": "5b6ab9a5-9573-4788-b50d-b1d203021c25",
      "metadata": {
        "id": "5b6ab9a5-9573-4788-b50d-b1d203021c25"
      },
      "outputs": [],
      "source": []
    },
    {
      "cell_type": "markdown",
      "id": "854f646e-1f1a-4677-90f0-f2b23a679ac9",
      "metadata": {
        "id": "854f646e-1f1a-4677-90f0-f2b23a679ac9"
      },
      "source": [
        "Agrega el precio usando el comando extend\n",
        "\n",
        "Precio = (10,15,8,30)"
      ]
    },
    {
      "cell_type": "code",
      "execution_count": 101,
      "id": "0db26dae-3e95-4172-b80b-110bd0caa0ff",
      "metadata": {
        "id": "0db26dae-3e95-4172-b80b-110bd0caa0ff"
      },
      "outputs": [],
      "source": [
        "Precio = (10,15,8,30)"
      ]
    },
    {
      "cell_type": "code",
      "execution_count": 103,
      "id": "22a9e659-cf27-4972-90d6-d832c3a3d3ec",
      "metadata": {
        "id": "22a9e659-cf27-4972-90d6-d832c3a3d3ec"
      },
      "outputs": [],
      "source": [
        "vegetales.extend(Precio)"
      ]
    },
    {
      "cell_type": "code",
      "execution_count": 104,
      "id": "fe39d26d-136a-4e35-8ea6-ea2d437533f7",
      "metadata": {
        "colab": {
          "base_uri": "https://localhost:8080/"
        },
        "id": "fe39d26d-136a-4e35-8ea6-ea2d437533f7",
        "outputId": "b043e379-07a8-46d1-d6fc-5be5cf585cfc"
      },
      "outputs": [
        {
          "output_type": "execute_result",
          "data": {
            "text/plain": [
              "['lechuga', 'espinaca', 'apio', 'esparragos', 10, 15, 8, 30]"
            ]
          },
          "metadata": {},
          "execution_count": 104
        }
      ],
      "source": [
        "vegetales"
      ]
    },
    {
      "cell_type": "markdown",
      "id": "c63867c4-9b99-4b19-924a-06a47965ed9e",
      "metadata": {
        "id": "c63867c4-9b99-4b19-924a-06a47965ed9e"
      },
      "source": [
        "Quitale los esparragos a la ensalada usando remove()"
      ]
    },
    {
      "cell_type": "code",
      "execution_count": 106,
      "id": "3afd8bbc-d8dd-407d-8d65-cfce2092c590",
      "metadata": {
        "id": "3afd8bbc-d8dd-407d-8d65-cfce2092c590"
      },
      "outputs": [],
      "source": [
        "vegetales.remove('esparragos')"
      ]
    },
    {
      "cell_type": "code",
      "execution_count": 107,
      "id": "1675e33b-91cd-451b-aa92-d816a20ade58",
      "metadata": {
        "colab": {
          "base_uri": "https://localhost:8080/"
        },
        "id": "1675e33b-91cd-451b-aa92-d816a20ade58",
        "outputId": "329fd814-dfc7-42ce-be8b-85fef65a4bec"
      },
      "outputs": [
        {
          "output_type": "execute_result",
          "data": {
            "text/plain": [
              "['lechuga', 'espinaca', 'apio', 10, 15, 8, 30]"
            ]
          },
          "metadata": {},
          "execution_count": 107
        }
      ],
      "source": [
        "vegetales"
      ]
    },
    {
      "cell_type": "code",
      "execution_count": null,
      "id": "4171bb4b-43c4-453a-a776-62ab2dad9828",
      "metadata": {
        "id": "4171bb4b-43c4-453a-a776-62ab2dad9828"
      },
      "outputs": [],
      "source": []
    },
    {
      "cell_type": "markdown",
      "id": "15d3c269-5b8a-4f1e-bee7-48bb5ddfb933",
      "metadata": {
        "id": "15d3c269-5b8a-4f1e-bee7-48bb5ddfb933"
      },
      "source": [
        "Tira la ensalada y ve por un platillo de hombre usando vegetales.clear()"
      ]
    },
    {
      "cell_type": "code",
      "execution_count": 108,
      "id": "492a21fc-86d6-48f6-b006-b68a2d7a28a8",
      "metadata": {
        "id": "492a21fc-86d6-48f6-b006-b68a2d7a28a8"
      },
      "outputs": [],
      "source": [
        "vegetales.clear()"
      ]
    },
    {
      "cell_type": "code",
      "execution_count": 109,
      "id": "1ede4348-0c19-4a7e-aec7-6fedead371e8",
      "metadata": {
        "colab": {
          "base_uri": "https://localhost:8080/"
        },
        "id": "1ede4348-0c19-4a7e-aec7-6fedead371e8",
        "outputId": "853c8fd8-19b9-45f9-fdb4-db6f83a87db1"
      },
      "outputs": [
        {
          "output_type": "execute_result",
          "data": {
            "text/plain": [
              "[]"
            ]
          },
          "metadata": {},
          "execution_count": 109
        }
      ],
      "source": [
        "vegetales"
      ]
    },
    {
      "cell_type": "code",
      "execution_count": null,
      "id": "37975f90-95f1-4b9b-9c09-464e13394f2b",
      "metadata": {
        "id": "37975f90-95f1-4b9b-9c09-464e13394f2b"
      },
      "outputs": [],
      "source": []
    },
    {
      "cell_type": "markdown",
      "id": "61a5a0f1-41b4-48d1-95ee-ee51a29c90bd",
      "metadata": {
        "id": "61a5a0f1-41b4-48d1-95ee-ee51a29c90bd"
      },
      "source": [
        "### 5.5.4.- Contar"
      ]
    },
    {
      "cell_type": "markdown",
      "id": "3b74c7e6-3015-4bc5-807d-ea567e339a44",
      "metadata": {
        "id": "3b74c7e6-3015-4bc5-807d-ea567e339a44"
      },
      "source": [
        "Arma una lista de edades\n",
        "\n",
        " edades = [15, 21, 16, 19, 20, 16, 19, 15, 21, 17, 18, 24, 20, 24, 21, 19, 18, 16, 19, 16]\n"
      ]
    },
    {
      "cell_type": "code",
      "execution_count": 110,
      "id": "1ec19d16-1f35-468e-86b4-be1f9e6c50b4",
      "metadata": {
        "id": "1ec19d16-1f35-468e-86b4-be1f9e6c50b4"
      },
      "outputs": [],
      "source": [
        "edades = [15, 21, 16, 19, 20, 16, 19, 15, 21, 17, 18, 24, 20, 24, 21, 19, 18, 16, 19, 16]"
      ]
    },
    {
      "cell_type": "code",
      "execution_count": null,
      "id": "3ea94aa7-8c17-47b5-b6a9-1e4bfdf23b51",
      "metadata": {
        "id": "3ea94aa7-8c17-47b5-b6a9-1e4bfdf23b51"
      },
      "outputs": [],
      "source": []
    },
    {
      "cell_type": "markdown",
      "id": "adc447a8-fe46-4bb5-9fab-f0bd2d03ad0f",
      "metadata": {
        "id": "adc447a8-fe46-4bb5-9fab-f0bd2d03ad0f"
      },
      "source": [
        "Usa count para saber cuantas vecs aparece la edad 16"
      ]
    },
    {
      "cell_type": "code",
      "execution_count": 111,
      "id": "73cf7fb6-c511-4fed-9ff0-2dfbcc5bf279",
      "metadata": {
        "id": "73cf7fb6-c511-4fed-9ff0-2dfbcc5bf279"
      },
      "outputs": [],
      "source": [
        "ca=edades.count(16)"
      ]
    },
    {
      "cell_type": "code",
      "execution_count": 112,
      "id": "d465f341-3eec-4e98-a316-47e2c2e7e52a",
      "metadata": {
        "colab": {
          "base_uri": "https://localhost:8080/"
        },
        "id": "d465f341-3eec-4e98-a316-47e2c2e7e52a",
        "outputId": "a6eed457-2975-4bc6-b41d-9dd80d966291"
      },
      "outputs": [
        {
          "output_type": "execute_result",
          "data": {
            "text/plain": [
              "4"
            ]
          },
          "metadata": {},
          "execution_count": 112
        }
      ],
      "source": [
        "ca"
      ]
    },
    {
      "cell_type": "markdown",
      "id": "31102168-b3ca-48cf-8868-39ac7befccdd",
      "metadata": {
        "id": "31102168-b3ca-48cf-8868-39ac7befccdd"
      },
      "source": [
        "Arma un for para contar cuantas veces se repite cada edad entre 15 a 25 en la lista\n",
        "\n",
        "imprime tus resultados con la frase\n",
        "La edad 15 se repite 2 veces\n",
        "y asi...\n",
        "\n",
        "\n"
      ]
    },
    {
      "cell_type": "code",
      "execution_count": 113,
      "id": "0f90d9b6-590d-4b4e-a702-9b0ecf55a9cb",
      "metadata": {
        "colab": {
          "base_uri": "https://localhost:8080/"
        },
        "id": "0f90d9b6-590d-4b4e-a702-9b0ecf55a9cb",
        "outputId": "707e0fdf-bcf9-47e7-9155-98e61f6400e4"
      },
      "outputs": [
        {
          "output_type": "stream",
          "name": "stdout",
          "text": [
            "La edad 15 se repite 2 veces.\n",
            "La edad 16 se repite 4 veces.\n",
            "La edad 17 se repite 1 veces.\n",
            "La edad 18 se repite 2 veces.\n",
            "La edad 19 se repite 4 veces.\n",
            "La edad 20 se repite 2 veces.\n",
            "La edad 21 se repite 3 veces.\n",
            "La edad 24 se repite 2 veces.\n"
          ]
        }
      ],
      "source": [
        "for edad in range(15, 26):\n",
        "    cantidad = edades.count(edad)\n",
        "    if cantidad > 0:\n",
        "        print(f\"La edad {edad} se repite {cantidad} veces.\")"
      ]
    },
    {
      "cell_type": "markdown",
      "id": "4d099cfc-d40a-43f6-9ad3-9dbd6954f1b1",
      "metadata": {
        "id": "4d099cfc-d40a-43f6-9ad3-9dbd6954f1b1"
      },
      "source": [
        "Arma tu ensalada de nuevo\n",
        "\n",
        " vegetales = ['lechuga','espinaca','apio','pepinillo']"
      ]
    },
    {
      "cell_type": "code",
      "execution_count": 114,
      "id": "bfed5d68-3c2d-4145-aa56-d1254aa3db0b",
      "metadata": {
        "id": "bfed5d68-3c2d-4145-aa56-d1254aa3db0b"
      },
      "outputs": [],
      "source": [
        "vegetales = ['lechuga','espinaca','apio','pepinillo']\n"
      ]
    },
    {
      "cell_type": "code",
      "execution_count": null,
      "id": "6a2d4cc6-09ed-43f8-9544-cca11d795a9d",
      "metadata": {
        "id": "6a2d4cc6-09ed-43f8-9544-cca11d795a9d"
      },
      "outputs": [],
      "source": []
    },
    {
      "cell_type": "code",
      "execution_count": null,
      "id": "e3e90fd8-b9e7-453d-a5ac-a3b18ea84e01",
      "metadata": {
        "id": "e3e90fd8-b9e7-453d-a5ac-a3b18ea84e01"
      },
      "outputs": [],
      "source": []
    },
    {
      "cell_type": "markdown",
      "id": "839085b2-372b-4050-b521-e8d7917295f2",
      "metadata": {
        "id": "839085b2-372b-4050-b521-e8d7917295f2"
      },
      "source": [
        "Usa reverse para darle la vuelta"
      ]
    },
    {
      "cell_type": "code",
      "execution_count": 115,
      "id": "9ca9cbff-a4ba-4f71-bdd8-1d8b54e8d465",
      "metadata": {
        "id": "9ca9cbff-a4ba-4f71-bdd8-1d8b54e8d465"
      },
      "outputs": [],
      "source": [
        "vegetales.reverse()"
      ]
    },
    {
      "cell_type": "code",
      "execution_count": 116,
      "id": "971b10a0-2454-4c02-8e17-aaecb91db7e4",
      "metadata": {
        "colab": {
          "base_uri": "https://localhost:8080/"
        },
        "id": "971b10a0-2454-4c02-8e17-aaecb91db7e4",
        "outputId": "0be5622f-353a-42ee-ae27-1e0ec7a2c741"
      },
      "outputs": [
        {
          "output_type": "execute_result",
          "data": {
            "text/plain": [
              "['pepinillo', 'apio', 'espinaca', 'lechuga']"
            ]
          },
          "metadata": {},
          "execution_count": 116
        }
      ],
      "source": [
        "vegetales"
      ]
    },
    {
      "cell_type": "code",
      "execution_count": null,
      "id": "05232a2e-4171-4040-b440-c52a207cb537",
      "metadata": {
        "id": "05232a2e-4171-4040-b440-c52a207cb537"
      },
      "outputs": [],
      "source": []
    },
    {
      "cell_type": "markdown",
      "id": "26ef156d-9e86-431b-addd-6ad0225ecc17",
      "metadata": {
        "id": "26ef156d-9e86-431b-addd-6ad0225ecc17"
      },
      "source": [
        "Prepara una seguna ensalada usando copy"
      ]
    },
    {
      "cell_type": "code",
      "execution_count": 117,
      "id": "87e898e6-7355-4388-ad4f-4d441d91a80a",
      "metadata": {
        "id": "87e898e6-7355-4388-ad4f-4d441d91a80a"
      },
      "outputs": [],
      "source": [
        "ensalada2 = vegetales.copy()"
      ]
    },
    {
      "cell_type": "code",
      "execution_count": 118,
      "id": "0e6bebe5-4f19-4bb7-a3f0-1dfde35d00d4",
      "metadata": {
        "colab": {
          "base_uri": "https://localhost:8080/"
        },
        "id": "0e6bebe5-4f19-4bb7-a3f0-1dfde35d00d4",
        "outputId": "c19f329f-083e-4175-a1f7-a2b82d9b7b9f"
      },
      "outputs": [
        {
          "output_type": "execute_result",
          "data": {
            "text/plain": [
              "['pepinillo', 'apio', 'espinaca', 'lechuga']"
            ]
          },
          "metadata": {},
          "execution_count": 118
        }
      ],
      "source": [
        "ensalada2"
      ]
    },
    {
      "cell_type": "code",
      "execution_count": null,
      "id": "eee553c8-e7a4-4bc1-b2d0-d5b74babb469",
      "metadata": {
        "id": "eee553c8-e7a4-4bc1-b2d0-d5b74babb469"
      },
      "outputs": [],
      "source": []
    },
    {
      "cell_type": "code",
      "execution_count": null,
      "id": "1c28aa68-efbe-45e2-94b2-949c528d4d85",
      "metadata": {
        "id": "1c28aa68-efbe-45e2-94b2-949c528d4d85"
      },
      "outputs": [],
      "source": [
        "\n"
      ]
    },
    {
      "cell_type": "markdown",
      "id": "7ff36166-8379-4e4d-8c02-c465f958ad05",
      "metadata": {
        "id": "7ff36166-8379-4e4d-8c02-c465f958ad05"
      },
      "source": [
        "## 5.6.- Comprensión de Listas"
      ]
    },
    {
      "cell_type": "markdown",
      "id": "a83d69a6-c578-4d91-b13b-6ae1676c78b4",
      "metadata": {
        "id": "a83d69a6-c578-4d91-b13b-6ae1676c78b4"
      },
      "source": [
        "Vamos a armar una lista con todos los numeros del 1 al 10 de la manera mas mensa posible\n",
        "\n",
        "empeiza con lista vacia, y luego un for que haga un append de todos los numeros del 1 al 10"
      ]
    },
    {
      "cell_type": "code",
      "execution_count": 119,
      "id": "6bfdc08b-9d0e-44d3-bdae-64df3eaaa3ef",
      "metadata": {
        "id": "6bfdc08b-9d0e-44d3-bdae-64df3eaaa3ef"
      },
      "outputs": [],
      "source": [
        "lista = []"
      ]
    },
    {
      "cell_type": "code",
      "execution_count": 120,
      "id": "7744183f-e4cf-4349-9a13-17fe849f90e8",
      "metadata": {
        "id": "7744183f-e4cf-4349-9a13-17fe849f90e8"
      },
      "outputs": [],
      "source": [
        "for i in range(1, 11):\n",
        "    lista.append(i)"
      ]
    },
    {
      "cell_type": "code",
      "execution_count": 121,
      "id": "ba0cf028-b01c-4975-a69e-8e72291fd6ac",
      "metadata": {
        "colab": {
          "base_uri": "https://localhost:8080/"
        },
        "id": "ba0cf028-b01c-4975-a69e-8e72291fd6ac",
        "outputId": "b80e7d1d-91ed-49a7-bba5-7fc0341725c5"
      },
      "outputs": [
        {
          "output_type": "execute_result",
          "data": {
            "text/plain": [
              "[1, 2, 3, 4, 5, 6, 7, 8, 9, 10]"
            ]
          },
          "metadata": {},
          "execution_count": 121
        }
      ],
      "source": [
        "lista"
      ]
    },
    {
      "cell_type": "code",
      "execution_count": null,
      "id": "c7ad9b7e-504c-4d15-8470-dda0d6d122fb",
      "metadata": {
        "id": "c7ad9b7e-504c-4d15-8470-dda0d6d122fb"
      },
      "outputs": [],
      "source": []
    },
    {
      "cell_type": "markdown",
      "id": "25bb7da9-eda4-4b25-b861-06f78a991d5d",
      "metadata": {
        "id": "25bb7da9-eda4-4b25-b861-06f78a991d5d"
      },
      "source": [
        "Ahora hacemos lo mismo con la comprensión de listas"
      ]
    },
    {
      "cell_type": "code",
      "execution_count": 122,
      "id": "3df8af71-0695-4081-98ac-270841f5a624",
      "metadata": {
        "id": "3df8af71-0695-4081-98ac-270841f5a624"
      },
      "outputs": [],
      "source": [
        "lista = [i for i in range(1, 11)]\n"
      ]
    },
    {
      "cell_type": "code",
      "execution_count": 123,
      "id": "70760b0f-3fa6-40f8-9668-04413c0bead1",
      "metadata": {
        "colab": {
          "base_uri": "https://localhost:8080/"
        },
        "id": "70760b0f-3fa6-40f8-9668-04413c0bead1",
        "outputId": "e26c2de5-4481-40d2-b49c-513b2cbe0792"
      },
      "outputs": [
        {
          "output_type": "execute_result",
          "data": {
            "text/plain": [
              "[1, 2, 3, 4, 5, 6, 7, 8, 9, 10]"
            ]
          },
          "metadata": {},
          "execution_count": 123
        }
      ],
      "source": [
        "lista"
      ]
    },
    {
      "cell_type": "code",
      "execution_count": null,
      "id": "53a65a30-426c-42a6-a981-85d96915f0ae",
      "metadata": {
        "id": "53a65a30-426c-42a6-a981-85d96915f0ae"
      },
      "outputs": [],
      "source": []
    },
    {
      "cell_type": "markdown",
      "id": "987b7ef2-3686-42e5-89b4-03b93f28a91c",
      "metadata": {
        "id": "987b7ef2-3686-42e5-89b4-03b93f28a91c"
      },
      "source": [
        "Tambien de plano podemos reemplazar todo eso por range"
      ]
    },
    {
      "cell_type": "code",
      "execution_count": 126,
      "id": "d7ec16e5-10ad-4e76-a963-83533cf330c1",
      "metadata": {
        "id": "d7ec16e5-10ad-4e76-a963-83533cf330c1"
      },
      "outputs": [],
      "source": [
        "lista = list(range(1, 11))\n"
      ]
    },
    {
      "cell_type": "code",
      "execution_count": 127,
      "id": "a03ae328-9b7a-499d-960b-55278b30b862",
      "metadata": {
        "colab": {
          "base_uri": "https://localhost:8080/"
        },
        "id": "a03ae328-9b7a-499d-960b-55278b30b862",
        "outputId": "ded6d6de-e778-4141-b9d1-a35e26ada2fa"
      },
      "outputs": [
        {
          "output_type": "execute_result",
          "data": {
            "text/plain": [
              "[1, 2, 3, 4, 5, 6, 7, 8, 9, 10]"
            ]
          },
          "metadata": {},
          "execution_count": 127
        }
      ],
      "source": [
        "lista"
      ]
    },
    {
      "cell_type": "code",
      "execution_count": null,
      "id": "ccb91a90-d701-44e9-8612-daae80dee458",
      "metadata": {
        "id": "ccb91a90-d701-44e9-8612-daae80dee458"
      },
      "outputs": [],
      "source": []
    },
    {
      "cell_type": "markdown",
      "id": "fe5ab5de-8071-47e9-9b38-6dce775c8958",
      "metadata": {
        "id": "fe5ab5de-8071-47e9-9b38-6dce775c8958"
      },
      "source": [
        "Ahora vamos a mapear - hacer calculos dentro de la comprension de listas, en este caso todos los cuadrados del 1 al 10"
      ]
    },
    {
      "cell_type": "code",
      "execution_count": 128,
      "id": "a6883d8b-4ec2-4f67-95f9-4f3f22dfe0ea",
      "metadata": {
        "id": "a6883d8b-4ec2-4f67-95f9-4f3f22dfe0ea"
      },
      "outputs": [],
      "source": [
        "cuadrados = [i**2 for i in range(1, 11)]\n"
      ]
    },
    {
      "cell_type": "markdown",
      "id": "f109e962-88d8-420c-90aa-538e4e221239",
      "metadata": {
        "id": "f109e962-88d8-420c-90aa-538e4e221239"
      },
      "source": [
        "Ahora vamos a generar una comprensión de lista con filtro - todos los cuadrados del 1 al 10 siempre y cuando sean menores a 50"
      ]
    },
    {
      "cell_type": "code",
      "execution_count": 130,
      "id": "7cde0e96-e7aa-44bf-8c91-1ce790802d33",
      "metadata": {
        "id": "7cde0e96-e7aa-44bf-8c91-1ce790802d33"
      },
      "outputs": [],
      "source": [
        "cuadrados_menores = [i**2 for i in range(1, 11) if i**2 < 50]\n"
      ]
    },
    {
      "cell_type": "code",
      "execution_count": 131,
      "id": "a31678cb-3c3e-4da7-8d73-2241a64f35a7",
      "metadata": {
        "colab": {
          "base_uri": "https://localhost:8080/"
        },
        "id": "a31678cb-3c3e-4da7-8d73-2241a64f35a7",
        "outputId": "df6f24c0-1b58-4966-a8f6-bff2917b27b7"
      },
      "outputs": [
        {
          "output_type": "execute_result",
          "data": {
            "text/plain": [
              "[1, 4, 9, 16, 25, 36, 49]"
            ]
          },
          "metadata": {},
          "execution_count": 131
        }
      ],
      "source": [
        "cuadrados_menores"
      ]
    },
    {
      "cell_type": "markdown",
      "id": "4aa8c85a-f86c-4e9a-be7c-79eb3a72c482",
      "metadata": {
        "id": "4aa8c85a-f86c-4e9a-be7c-79eb3a72c482"
      },
      "source": [
        "Que tal que queremos una comprension de lista d etodos los cuadrados pares del 1 al 10?"
      ]
    },
    {
      "cell_type": "code",
      "execution_count": 132,
      "id": "8c22dd51-3455-4106-b5c6-782d11643529",
      "metadata": {
        "id": "8c22dd51-3455-4106-b5c6-782d11643529"
      },
      "outputs": [],
      "source": [
        "cuadrados_pares = [i**2 for i in range(1, 11) if (i**2) % 2 == 0]\n"
      ]
    },
    {
      "cell_type": "code",
      "execution_count": 133,
      "id": "687bf525-b3b7-4940-87f3-78b0b42b9206",
      "metadata": {
        "colab": {
          "base_uri": "https://localhost:8080/"
        },
        "id": "687bf525-b3b7-4940-87f3-78b0b42b9206",
        "outputId": "7f6b78cc-0dd2-4eda-e01a-045c1931022b"
      },
      "outputs": [
        {
          "output_type": "execute_result",
          "data": {
            "text/plain": [
              "[4, 16, 36, 64, 100]"
            ]
          },
          "metadata": {},
          "execution_count": 133
        }
      ],
      "source": [
        "cuadrados_pares"
      ]
    },
    {
      "cell_type": "markdown",
      "id": "6519a6e2-f7db-4902-bce7-66bddcf01da0",
      "metadata": {
        "id": "6519a6e2-f7db-4902-bce7-66bddcf01da0"
      },
      "source": [
        "Vuelve a armar tu ensalada\n",
        "\n",
        " vegetales = ['apio','brocoli','lechuga']\n",
        "    "
      ]
    },
    {
      "cell_type": "code",
      "execution_count": 134,
      "id": "2bbef5ac-54a5-446c-a7eb-629a420c5b50",
      "metadata": {
        "id": "2bbef5ac-54a5-446c-a7eb-629a420c5b50"
      },
      "outputs": [],
      "source": [
        "vegetales = ['apio','brocoli','lechuga']"
      ]
    },
    {
      "cell_type": "code",
      "execution_count": 135,
      "id": "bdd7cc9b-4a6d-455b-9a4c-b588ad7c1695",
      "metadata": {
        "colab": {
          "base_uri": "https://localhost:8080/"
        },
        "id": "bdd7cc9b-4a6d-455b-9a4c-b588ad7c1695",
        "outputId": "9dc3c08c-d44a-4011-ba0e-a3293b7322be"
      },
      "outputs": [
        {
          "output_type": "execute_result",
          "data": {
            "text/plain": [
              "['apio', 'brocoli', 'lechuga']"
            ]
          },
          "metadata": {},
          "execution_count": 135
        }
      ],
      "source": [
        "vegetales"
      ]
    },
    {
      "cell_type": "markdown",
      "id": "34ffd820-5dee-4b73-83e1-b9bcd9cbe96d",
      "metadata": {
        "id": "34ffd820-5dee-4b73-83e1-b9bcd9cbe96d"
      },
      "source": [
        "Arma una comprensión de lista que cambie todos estos a mayusculas"
      ]
    },
    {
      "cell_type": "code",
      "execution_count": 136,
      "id": "e469e624-c61a-43f4-b7aa-669491edc9cb",
      "metadata": {
        "id": "e469e624-c61a-43f4-b7aa-669491edc9cb"
      },
      "outputs": [],
      "source": [
        "vegetales_mayusculas = [vegetal.upper() for vegetal in vegetales]\n"
      ]
    },
    {
      "cell_type": "code",
      "execution_count": 137,
      "id": "fa326a23-14e5-4355-a0e6-780c7a91780b",
      "metadata": {
        "colab": {
          "base_uri": "https://localhost:8080/"
        },
        "id": "fa326a23-14e5-4355-a0e6-780c7a91780b",
        "outputId": "64354f51-3cd2-4612-91ad-e4878ab7a51a"
      },
      "outputs": [
        {
          "output_type": "execute_result",
          "data": {
            "text/plain": [
              "['APIO', 'BROCOLI', 'LECHUGA']"
            ]
          },
          "metadata": {},
          "execution_count": 137
        }
      ],
      "source": [
        "vegetales_mayusculas"
      ]
    },
    {
      "cell_type": "markdown",
      "id": "f4ec2120-193b-42e5-bdee-c6cf00796808",
      "metadata": {
        "id": "f4ec2120-193b-42e5-bdee-c6cf00796808"
      },
      "source": [
        "#### Por tu cuenta\n",
        "\n",
        "Arma una comprensión de lista que te devuelva tuplas de todos los numeros del 1 al 6 y sus cubos"
      ]
    },
    {
      "cell_type": "code",
      "execution_count": 139,
      "id": "9cf8e3c1-bbf5-420d-ab2b-497ba1bc35ab",
      "metadata": {
        "colab": {
          "base_uri": "https://localhost:8080/"
        },
        "id": "9cf8e3c1-bbf5-420d-ab2b-497ba1bc35ab",
        "outputId": "c6efddbf-91e0-48db-a129-a7b3c9964321"
      },
      "outputs": [
        {
          "output_type": "execute_result",
          "data": {
            "text/plain": [
              "[(1, 1), (2, 8), (3, 27), (4, 64), (5, 125), (6, 216)]"
            ]
          },
          "metadata": {},
          "execution_count": 139
        }
      ],
      "source": [
        "numeros_y_cubos = [(i, i**3) for i in range(1, 7)]\n",
        "numeros_y_cubos"
      ]
    },
    {
      "cell_type": "markdown",
      "id": "4faf8456-53ff-4a5a-8a5e-0a9c5871cc02",
      "metadata": {
        "id": "4faf8456-53ff-4a5a-8a5e-0a9c5871cc02"
      },
      "source": [
        "### 5.6.2.- Generador de Expresiones"
      ]
    },
    {
      "cell_type": "markdown",
      "id": "371fd199-f5a1-43ba-af06-6d52f3d453d4",
      "metadata": {
        "id": "371fd199-f5a1-43ba-af06-6d52f3d453d4"
      },
      "source": [
        "Arma esta lista\n",
        "\n",
        "lista = [-3,5,8,4,1,-6,7,10]"
      ]
    },
    {
      "cell_type": "code",
      "execution_count": 140,
      "id": "1e690475-ea47-444f-9a11-9f6254daaf51",
      "metadata": {
        "id": "1e690475-ea47-444f-9a11-9f6254daaf51"
      },
      "outputs": [],
      "source": [
        "lista = [-3,5,8,4,1,-6,7,10]"
      ]
    },
    {
      "cell_type": "markdown",
      "id": "7b2acc02-9db6-4c97-8c60-e244d9b63c96",
      "metadata": {
        "id": "7b2acc02-9db6-4c97-8c60-e244d9b63c96"
      },
      "source": [
        "Arma un for que te muestre los cuadrados pares de esta lista"
      ]
    },
    {
      "cell_type": "markdown",
      "id": "e9164aa8-25bb-436b-8bb4-f6827b674404",
      "metadata": {
        "id": "e9164aa8-25bb-436b-8bb4-f6827b674404"
      },
      "source": [
        "Ahora checa como podemos hacer lo mismo con el generador de expresiones"
      ]
    },
    {
      "cell_type": "code",
      "execution_count": 142,
      "id": "7c867d37-c1f8-45e1-8c5d-2c2cc7ae4d98",
      "metadata": {
        "id": "7c867d37-c1f8-45e1-8c5d-2c2cc7ae4d98"
      },
      "outputs": [],
      "source": [
        "cuadrados_pares = (num**2 for num in lista if num**2 % 2 == 0)\n"
      ]
    },
    {
      "cell_type": "markdown",
      "id": "c290a61b-6c18-41eb-9c15-4ad27e8f90a8",
      "metadata": {
        "id": "c290a61b-6c18-41eb-9c15-4ad27e8f90a8"
      },
      "source": [
        "Y para ver los resultados usa list()"
      ]
    },
    {
      "cell_type": "code",
      "execution_count": 143,
      "id": "030dbd25-49ee-441d-9058-6adb1cb034e6",
      "metadata": {
        "colab": {
          "base_uri": "https://localhost:8080/"
        },
        "id": "030dbd25-49ee-441d-9058-6adb1cb034e6",
        "outputId": "5834902b-a1e1-4c53-e6bf-97512d4612a6"
      },
      "outputs": [
        {
          "output_type": "stream",
          "name": "stdout",
          "text": [
            "[64, 16, 36, 100]\n"
          ]
        }
      ],
      "source": [
        "print(list(cuadrados_pares))\n"
      ]
    },
    {
      "cell_type": "code",
      "execution_count": null,
      "id": "23c0de20-3e2b-4de1-9579-f6a6d8ce3641",
      "metadata": {
        "id": "23c0de20-3e2b-4de1-9579-f6a6d8ce3641"
      },
      "outputs": [],
      "source": []
    },
    {
      "cell_type": "markdown",
      "id": "d785037d-ccf0-4b18-8d70-f63c7cd3135d",
      "metadata": {
        "id": "d785037d-ccf0-4b18-8d70-f63c7cd3135d"
      },
      "source": [
        "### 5.6.3.- Filtrar, mapear y reducir"
      ]
    },
    {
      "cell_type": "markdown",
      "id": "39194aec-910a-492e-91eb-6b6fb1b5eb83",
      "metadata": {
        "id": "39194aec-910a-492e-91eb-6b6fb1b5eb83"
      },
      "source": [
        "Primero vamos a definir una funcion que cheque si un numero es par\n",
        "\n",
        "usaremos la lista lista=[-3,5,8,4,1,-6,7,10]"
      ]
    },
    {
      "cell_type": "code",
      "execution_count": 144,
      "id": "4df31406-2bb0-49c6-a3f5-e49460b29fac",
      "metadata": {
        "id": "4df31406-2bb0-49c6-a3f5-e49460b29fac"
      },
      "outputs": [],
      "source": [
        "lista=[-3,5,8,4,1,-6,7,10]"
      ]
    },
    {
      "cell_type": "code",
      "execution_count": 145,
      "id": "c5426c00-0550-4b72-9968-0cf8386d5111",
      "metadata": {
        "id": "c5426c00-0550-4b72-9968-0cf8386d5111"
      },
      "outputs": [],
      "source": [
        "def es_par(num):\n",
        "    return num % 2 == 0\n"
      ]
    },
    {
      "cell_type": "code",
      "execution_count": 146,
      "id": "e6d5df31-e7f8-4cf8-aa22-835e5f3a9993",
      "metadata": {
        "colab": {
          "base_uri": "https://localhost:8080/"
        },
        "id": "e6d5df31-e7f8-4cf8-aa22-835e5f3a9993",
        "outputId": "fc87379a-a967-454b-e40d-13291603a53a"
      },
      "outputs": [
        {
          "output_type": "stream",
          "name": "stdout",
          "text": [
            "[8, 4, -6, 10]\n"
          ]
        }
      ],
      "source": [
        "pares = [num for num in lista if es_par(num)]\n",
        "print(pares)"
      ]
    },
    {
      "cell_type": "markdown",
      "id": "a9ad5688-aac8-4549-b9c5-6425775085e8",
      "metadata": {
        "id": "a9ad5688-aac8-4549-b9c5-6425775085e8"
      },
      "source": [
        "Ahoa vamos a filtrar la lista usando esta nueva función"
      ]
    },
    {
      "cell_type": "code",
      "execution_count": 147,
      "id": "6a441c8e-29f8-4c80-a388-a2ca3be63530",
      "metadata": {
        "id": "6a441c8e-29f8-4c80-a388-a2ca3be63530"
      },
      "outputs": [],
      "source": [
        "def es_par(num):\n",
        "    return num % 2 == 0"
      ]
    },
    {
      "cell_type": "code",
      "execution_count": 148,
      "id": "3d2e7de7-24d0-4c95-a498-91813979390b",
      "metadata": {
        "colab": {
          "base_uri": "https://localhost:8080/"
        },
        "id": "3d2e7de7-24d0-4c95-a498-91813979390b",
        "outputId": "aac99af5-c53d-416a-f303-3dc547cff280"
      },
      "outputs": [
        {
          "output_type": "stream",
          "name": "stdout",
          "text": [
            "[8, 4, -6, 10]\n"
          ]
        }
      ],
      "source": [
        "lista = [-3, 5, 8, 4, 1, -6, 7, 10]\n",
        "pares = [num for num in lista if es_par(num)]\n",
        "print(pares)"
      ]
    },
    {
      "cell_type": "markdown",
      "id": "fb4f69f6-f7f8-49f1-94a2-51f481ea137d",
      "metadata": {
        "id": "fb4f69f6-f7f8-49f1-94a2-51f481ea137d"
      },
      "source": [
        "Podemos usar la comprensión de listas y nuestra nueva función para armar una lista"
      ]
    },
    {
      "cell_type": "code",
      "execution_count": 149,
      "id": "e94eaa15-2e37-482b-a69d-28d95d002f06",
      "metadata": {
        "id": "e94eaa15-2e37-482b-a69d-28d95d002f06"
      },
      "outputs": [],
      "source": [
        "def es_par(num):\n",
        "    return num % 2 == 0"
      ]
    },
    {
      "cell_type": "code",
      "execution_count": 150,
      "id": "61cbc5e1-94c5-4956-8831-23bfa30d89c3",
      "metadata": {
        "colab": {
          "base_uri": "https://localhost:8080/"
        },
        "id": "61cbc5e1-94c5-4956-8831-23bfa30d89c3",
        "outputId": "1d7450e0-1807-4c33-df4d-45d7a5f8b6f2"
      },
      "outputs": [
        {
          "output_type": "stream",
          "name": "stdout",
          "text": [
            "[8, 4, -6, 10]\n"
          ]
        }
      ],
      "source": [
        "lista = [-3, 5, 8, 4, 1, -6, 7, 10]\n",
        "pares = [num for num in lista if es_par(num)]\n",
        "print(pares)"
      ]
    },
    {
      "cell_type": "markdown",
      "id": "f0be8bcf-9b9e-4fb6-93cc-f0f30314f1b8",
      "metadata": {
        "id": "f0be8bcf-9b9e-4fb6-93cc-f0f30314f1b8"
      },
      "source": [
        "Cuando la funcion es tan sencilla, es mejor usar un lambda que andarla definiendo, como en este caso que hacemos lo mismo pero con lambda"
      ]
    },
    {
      "cell_type": "code",
      "execution_count": 151,
      "id": "cdc77c6f-5e42-4d9c-acac-4615f49226f5",
      "metadata": {
        "colab": {
          "base_uri": "https://localhost:8080/"
        },
        "id": "cdc77c6f-5e42-4d9c-acac-4615f49226f5",
        "outputId": "4fb9682c-1235-4ac7-a110-98d8f4effafc"
      },
      "outputs": [
        {
          "output_type": "stream",
          "name": "stdout",
          "text": [
            "[8, 4, -6, 10]\n"
          ]
        }
      ],
      "source": [
        "lista = [-3, 5, 8, 4, 1, -6, 7, 10]\n",
        "pares = [num for num in lista if (lambda x: x % 2 == 0)(num)]\n",
        "print(pares)\n"
      ]
    },
    {
      "cell_type": "code",
      "execution_count": 152,
      "id": "a13161a1-c80c-4f31-a58f-f2006d6f3996",
      "metadata": {
        "colab": {
          "base_uri": "https://localhost:8080/"
        },
        "id": "a13161a1-c80c-4f31-a58f-f2006d6f3996",
        "outputId": "55fe3f5c-80db-4a5f-f72d-070422af1d31"
      },
      "outputs": [
        {
          "output_type": "stream",
          "name": "stdout",
          "text": [
            "[8, 4, -6, 10]\n"
          ]
        }
      ],
      "source": [
        "pares = list(filter(lambda num: num % 2 == 0, lista))\n",
        "print(pares)\n"
      ]
    },
    {
      "cell_type": "markdown",
      "id": "fb32d7b5-1e45-4906-9905-31dd6d7f94e3",
      "metadata": {
        "id": "fb32d7b5-1e45-4906-9905-31dd6d7f94e3"
      },
      "source": [
        "Vamos a usar lambda y map para mostrar una comprensión de lista que eleva todo al cubo, la lsita a usar sera\n",
        "\n",
        "[-3, 5, 8, 4, 1, -6, 7, 10]\n"
      ]
    },
    {
      "cell_type": "code",
      "execution_count": 153,
      "id": "51dd7c09-cb14-48f0-abf3-00cc4fea926c",
      "metadata": {
        "colab": {
          "base_uri": "https://localhost:8080/"
        },
        "id": "51dd7c09-cb14-48f0-abf3-00cc4fea926c",
        "outputId": "9ac32d5f-1fca-4116-9453-3aad0c4a1958"
      },
      "outputs": [
        {
          "output_type": "stream",
          "name": "stdout",
          "text": [
            "[-27, 125, 512, 64, 1, -216, 343, 1000]\n"
          ]
        }
      ],
      "source": [
        "lista = [-3, 5, 8, 4, 1, -6, 7, 10]\n",
        "cubos = list(map(lambda x: x**3, lista))\n",
        "print(cubos)\n"
      ]
    },
    {
      "cell_type": "code",
      "execution_count": null,
      "id": "d8ed07ec-bb97-44df-aaab-1dacef4adb10",
      "metadata": {
        "id": "d8ed07ec-bb97-44df-aaab-1dacef4adb10"
      },
      "outputs": [],
      "source": []
    },
    {
      "cell_type": "markdown",
      "id": "de526c84-8082-4b3c-b6a6-2e90f78b6288",
      "metadata": {
        "id": "de526c84-8082-4b3c-b6a6-2e90f78b6288"
      },
      "source": [
        "Podemos laograr lo mismo sin map"
      ]
    },
    {
      "cell_type": "code",
      "execution_count": 154,
      "id": "c617c804-b9bc-4bcc-afcf-0f08ca5c03a7",
      "metadata": {
        "colab": {
          "base_uri": "https://localhost:8080/"
        },
        "id": "c617c804-b9bc-4bcc-afcf-0f08ca5c03a7",
        "outputId": "083a75a1-acfd-41d6-936a-9dcdb9d9be4f"
      },
      "outputs": [
        {
          "output_type": "stream",
          "name": "stdout",
          "text": [
            "[-27, 125, 512, 64, 1, -216, 343, 1000]\n"
          ]
        }
      ],
      "source": [
        "lista = [-3, 5, 8, 4, 1, -6, 7, 10]\n",
        "cubos = [x**3 for x in lista]\n",
        "print(cubos)\n"
      ]
    },
    {
      "cell_type": "code",
      "execution_count": null,
      "id": "67434fb6-6c67-4bcd-bd58-a12117587ea1",
      "metadata": {
        "id": "67434fb6-6c67-4bcd-bd58-a12117587ea1"
      },
      "outputs": [],
      "source": []
    },
    {
      "cell_type": "markdown",
      "id": "5678af85-cfcf-470f-b443-5fc8905421e6",
      "metadata": {
        "id": "5678af85-cfcf-470f-b443-5fc8905421e6"
      },
      "source": [
        "#### Por tu cuenta\n",
        "\n",
        "Crea una lista con numeros del 1 al 15 y luego\n",
        "- crea una nueva lista de los elementos impares\n",
        "- crea una nueva lista usando map y lambda para elevar al cuadrado a todos\n",
        "- filtra los elementos impares y luego mapealos a sus cuadrados"
      ]
    },
    {
      "cell_type": "code",
      "execution_count": 155,
      "id": "195e11af-3382-4c54-93e1-9ffc012c7fd5",
      "metadata": {
        "id": "195e11af-3382-4c54-93e1-9ffc012c7fd5"
      },
      "outputs": [],
      "source": [
        "lista = list(range(1, 16))\n"
      ]
    },
    {
      "cell_type": "code",
      "execution_count": 156,
      "id": "9dda78d7-f4bc-4019-936c-bf0d79222857",
      "metadata": {
        "colab": {
          "base_uri": "https://localhost:8080/"
        },
        "id": "9dda78d7-f4bc-4019-936c-bf0d79222857",
        "outputId": "1a56efc2-d07d-4826-e4eb-0a3205f07d68"
      },
      "outputs": [
        {
          "output_type": "stream",
          "name": "stdout",
          "text": [
            "[1, 3, 5, 7, 9, 11, 13, 15]\n"
          ]
        }
      ],
      "source": [
        "impares = [x for x in lista if x % 2 != 0]\n",
        "print(impares)\n"
      ]
    },
    {
      "cell_type": "code",
      "execution_count": 157,
      "id": "823ed889-29ad-4be3-96d2-7f9b113a8d06",
      "metadata": {
        "colab": {
          "base_uri": "https://localhost:8080/"
        },
        "id": "823ed889-29ad-4be3-96d2-7f9b113a8d06",
        "outputId": "b46e19d1-6a0e-475f-d317-0a88bcaadd34"
      },
      "outputs": [
        {
          "output_type": "stream",
          "name": "stdout",
          "text": [
            "[1, 4, 9, 16, 25, 36, 49, 64, 81, 100, 121, 144, 169, 196, 225]\n"
          ]
        }
      ],
      "source": [
        "cuadrados = list(map(lambda x: x**2, lista))\n",
        "print(cuadrados)\n"
      ]
    },
    {
      "cell_type": "code",
      "execution_count": 158,
      "id": "c51796d3-4b5b-4564-9f33-dfffa97a35ea",
      "metadata": {
        "colab": {
          "base_uri": "https://localhost:8080/"
        },
        "id": "c51796d3-4b5b-4564-9f33-dfffa97a35ea",
        "outputId": "ae3d6804-f0f6-476c-e728-47b0a31ab626"
      },
      "outputs": [
        {
          "output_type": "stream",
          "name": "stdout",
          "text": [
            "[1, 9, 25, 49, 81, 121, 169, 225]\n"
          ]
        }
      ],
      "source": [
        "impares_cuadrados = list(map(lambda x: x**2, filter(lambda x: x % 2 != 0, lista)))\n",
        "print(impares_cuadrados)\n"
      ]
    },
    {
      "cell_type": "markdown",
      "id": "8982ada3-b911-4ce7-815d-cdfddd3e3309",
      "metadata": {
        "id": "8982ada3-b911-4ce7-815d-cdfddd3e3309"
      },
      "source": [
        "## 5.7.- Listas de 2 Dimensiones"
      ]
    },
    {
      "cell_type": "markdown",
      "id": "4f792a56-c1f9-49f7-a240-dfc72c4307a8",
      "metadata": {
        "id": "4f792a56-c1f9-49f7-a240-dfc72c4307a8"
      },
      "source": [
        "Es posible crear una lista de 2 dimensiones en python"
      ]
    },
    {
      "cell_type": "code",
      "execution_count": 160,
      "id": "ee176686-c117-456f-a50b-2b5d7cd83ed4",
      "metadata": {
        "id": "ee176686-c117-456f-a50b-2b5d7cd83ed4"
      },
      "outputs": [],
      "source": [
        "p=[[1118,117,114,110],[84,81,82,81]]"
      ]
    },
    {
      "cell_type": "code",
      "execution_count": 161,
      "id": "3de7fdfd-e966-4099-a6d7-f49489467197",
      "metadata": {
        "colab": {
          "base_uri": "https://localhost:8080/"
        },
        "id": "3de7fdfd-e966-4099-a6d7-f49489467197",
        "outputId": "8c4d9b88-2622-4885-bb71-f4951b84f462"
      },
      "outputs": [
        {
          "output_type": "execute_result",
          "data": {
            "text/plain": [
              "[[1118, 117, 114, 110], [84, 81, 82, 81]]"
            ]
          },
          "metadata": {},
          "execution_count": 161
        }
      ],
      "source": [
        "p"
      ]
    },
    {
      "cell_type": "code",
      "execution_count": null,
      "id": "1d3342b1-60e9-4725-bc02-951f0516e7a2",
      "metadata": {
        "id": "1d3342b1-60e9-4725-bc02-951f0516e7a2"
      },
      "outputs": [],
      "source": []
    },
    {
      "cell_type": "markdown",
      "id": "97f237d9-fce6-4753-a5fd-72fef478a5ac",
      "metadata": {
        "id": "97f237d9-fce6-4753-a5fd-72fef478a5ac"
      },
      "source": [
        "# 5.8.- Visualización de Datos Estáticos"
      ]
    },
    {
      "cell_type": "markdown",
      "id": "660fc61f-303f-4b13-8aa3-8b4daf7c0ef3",
      "metadata": {
        "id": "660fc61f-303f-4b13-8aa3-8b4daf7c0ef3"
      },
      "source": [
        "Importa las librerias"
      ]
    },
    {
      "cell_type": "code",
      "execution_count": 164,
      "id": "84c07484-465f-4cf1-8e52-3743285474fa",
      "metadata": {
        "id": "84c07484-465f-4cf1-8e52-3743285474fa"
      },
      "outputs": [],
      "source": [
        "import numpy as np\n",
        "import random\n",
        "import seaborn as sns\n",
        "import matplotlib.pyplot as plt"
      ]
    },
    {
      "cell_type": "code",
      "execution_count": null,
      "id": "c569f808-308d-4eb3-b10a-9404cdc41c26",
      "metadata": {
        "id": "c569f808-308d-4eb3-b10a-9404cdc41c26"
      },
      "outputs": [],
      "source": []
    },
    {
      "cell_type": "markdown",
      "id": "04883860-0fef-4cb9-87c1-3c36fb79b907",
      "metadata": {
        "id": "04883860-0fef-4cb9-87c1-3c36fb79b907"
      },
      "source": [
        "Crea la grafica de barras incial"
      ]
    },
    {
      "cell_type": "code",
      "execution_count": 167,
      "id": "3ff659a1-2b4d-4b9e-bf18-87c1fad11f32",
      "metadata": {
        "colab": {
          "base_uri": "https://localhost:8080/",
          "height": 469
        },
        "id": "3ff659a1-2b4d-4b9e-bf18-87c1fad11f32",
        "outputId": "be6c78ad-7554-4625-e809-f89740a15afa"
      },
      "outputs": [
        {
          "output_type": "execute_result",
          "data": {
            "text/plain": [
              "Text(0.5, 1.0, 'Gráfica de Barras Estilizada')"
            ]
          },
          "metadata": {},
          "execution_count": 167
        },
        {
          "output_type": "display_data",
          "data": {
            "text/plain": [
              "<Figure size 640x480 with 1 Axes>"
            ],
            "image/png": "[encoded data removed]"
          },
          "metadata": {}
        }
      ],
      "source": [
        "plt.title('Gráfica de Barras Estilizada')"
      ]
    },
    {
      "cell_type": "code",
      "execution_count": null,
      "id": "a8ebf813-a961-47c2-8404-b2a19b6c6a3a",
      "metadata": {
        "id": "a8ebf813-a961-47c2-8404-b2a19b6c6a3a"
      },
      "outputs": [],
      "source": []
    },
    {
      "cell_type": "markdown",
      "id": "b25012b0-d5b0-4a5c-ac57-12cb2090fa44",
      "metadata": {
        "id": "b25012b0-d5b0-4a5c-ac57-12cb2090fa44"
      },
      "source": [
        "Pon la ventana y etiqueta los ejes"
      ]
    },
    {
      "cell_type": "code",
      "execution_count": 166,
      "id": "e3944641-253b-4ac3-84ed-e02f9e38c965",
      "metadata": {
        "colab": {
          "base_uri": "https://localhost:8080/",
          "height": 496
        },
        "id": "e3944641-253b-4ac3-84ed-e02f9e38c965",
        "outputId": "e7e2a2ac-35a5-498a-b200-f348c98df630"
      },
      "outputs": [
        {
          "output_type": "execute_result",
          "data": {
            "text/plain": [
              "Text(0, 0.5, 'Valores')"
            ]
          },
          "metadata": {},
          "execution_count": 166
        },
        {
          "output_type": "display_data",
          "data": {
            "text/plain": [
              "<Figure size 640x480 with 1 Axes>"
            ],
            "image/png": "[encoded data removed]"
          },
          "metadata": {}
        }
      ],
      "source": [
        "plt.title('Gráfica de Barras Estilizada', fontsize=16)\n",
        "plt.xlabel('Categorías', fontsize=14)\n",
        "plt.ylabel('Valores', fontsize=14)"
      ]
    },
    {
      "cell_type": "code",
      "execution_count": null,
      "id": "a61601ae-ab53-4e23-b0c8-1711fcf344a2",
      "metadata": {
        "id": "a61601ae-ab53-4e23-b0c8-1711fcf344a2"
      },
      "outputs": [],
      "source": []
    },
    {
      "cell_type": "code",
      "execution_count": null,
      "id": "dc8e8755-5bb7-4c73-aefc-86149f29d89f",
      "metadata": {
        "id": "dc8e8755-5bb7-4c73-aefc-86149f29d89f"
      },
      "outputs": [],
      "source": []
    },
    {
      "cell_type": "markdown",
      "id": "5072413f-bc1e-4cc6-a115-1f307801dfb4",
      "metadata": {
        "id": "5072413f-bc1e-4cc6-a115-1f307801dfb4"
      },
      "source": [
        "Finaliza la grafica de barras"
      ]
    },
    {
      "cell_type": "code",
      "execution_count": 168,
      "id": "a2c59038-d30f-4391-a1e7-d46270f939c8",
      "metadata": {
        "id": "a2c59038-d30f-4391-a1e7-d46270f939c8"
      },
      "outputs": [],
      "source": [
        "categorias = ['A', 'B', 'C', 'D', 'E']\n",
        "valores = [random.randint(1, 10) for _ in categorias]"
      ]
    },
    {
      "cell_type": "code",
      "execution_count": 169,
      "id": "e00e14b3-9fbc-4c71-873b-59ffa9c9d801",
      "metadata": {
        "colab": {
          "base_uri": "https://localhost:8080/",
          "height": 514
        },
        "id": "e00e14b3-9fbc-4c71-873b-59ffa9c9d801",
        "outputId": "7c93ddc1-0369-405a-be82-91afb3eff84f"
      },
      "outputs": [
        {
          "output_type": "execute_result",
          "data": {
            "text/plain": [
              "<Axes: >"
            ]
          },
          "metadata": {},
          "execution_count": 169
        },
        {
          "output_type": "display_data",
          "data": {
            "text/plain": [
              "<Figure size 800x600 with 1 Axes>"
            ],
            "image/png": "[encoded data removed]"
          },
          "metadata": {}
        }
      ],
      "source": [
        "plt.figure(figsize=(8, 6))  # Establecer el tamaño de la ventana\n",
        "sns.barplot(x=categorias, y=valores)\n"
      ]
    },
    {
      "cell_type": "code",
      "execution_count": 170,
      "id": "ef08d82c-3912-4137-87c3-66ad41efe17b",
      "metadata": {
        "id": "ef08d82c-3912-4137-87c3-66ad41efe17b"
      },
      "outputs": [],
      "source": []
    }
  ],
  "metadata": {
    "kernelspec": {
      "display_name": "Python 3",
      "language": "python",
      "name": "python3"
    },
    "language_info": {
      "codemirror_mode": {
        "name": "ipython",
        "version": 3
      },
      "file_extension": ".py",
      "mimetype": "text/x-python",
      "name": "python",
      "nbconvert_exporter": "python",
      "pygments_lexer": "ipython3",
      "version": "3.8.8"
    },
    "colab": {
      "provenance": []
    }
  },
  "nbformat": 4,
  "nbformat_minor": 5
}